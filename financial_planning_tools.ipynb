{
 "cells": [
  {
   "cell_type": "markdown",
   "source": [
    "# Financial Planning with APIs and Simulations\n",
    "\n",
    "In this Challenge, you’ll create two financial analysis tools by using a single Jupyter notebook:\n",
    "\n",
    "Part 1: A financial planner for emergencies. The members will be able to use this tool to visualize their current savings. The members can then determine if they have enough reserves for an emergency fund.\n",
    "\n",
    "Part 2: A financial planner for retirement. This tool will forecast the performance of their retirement portfolio in 30 years. To do this, the tool will make an Alpaca API call via the Alpaca SDK to get historical price data for use in Monte Carlo simulations.\n",
    "\n",
    "You’ll use the information from the Monte Carlo simulation to answer questions about the portfolio in your Jupyter notebook.\n",
    "\n"
   ],
   "metadata": {}
  },
  {
   "cell_type": "code",
   "execution_count": 1,
   "source": [
    "# Import the required libraries and dependencies\r\n",
    "import os\r\n",
    "import requests\r\n",
    "import json\r\n",
    "import pandas as pd\r\n",
    "from dotenv import load_dotenv\r\n",
    "import alpaca_trade_api as tradeapi\r\n",
    "from MCForecastTools import MCSimulation\r\n",
    "\r\n",
    "%matplotlib inline"
   ],
   "outputs": [],
   "metadata": {}
  },
  {
   "cell_type": "code",
   "execution_count": 2,
   "source": [
    "# Load the environment variables from the .env file\r\n",
    "#by calling the load_dotenv function\r\n",
    "load_dotenv()"
   ],
   "outputs": [
    {
     "output_type": "execute_result",
     "data": {
      "text/plain": [
       "True"
      ]
     },
     "metadata": {},
     "execution_count": 2
    }
   ],
   "metadata": {}
  },
  {
   "cell_type": "markdown",
   "source": [
    "## Part 1: Create a Financial Planner for Emergencies"
   ],
   "metadata": {}
  },
  {
   "cell_type": "markdown",
   "source": [
    "### Evaluate the Cryptocurrency Wallet by Using the Requests Library\n",
    "\n",
    "In this section, you’ll determine the current value of a member’s cryptocurrency wallet. You’ll collect the current prices for the Bitcoin and Ethereum cryptocurrencies by using the Python Requests library. For the prototype, you’ll assume that the member holds the 1.2 Bitcoins (BTC) and 5.3 Ethereum coins (ETH). To do all this, complete the following steps:\n",
    "\n",
    "1. Create a variable named `monthly_income`, and set its value to `12000`.\n",
    "\n",
    "2. Use the Requests library to get the current price (in US dollars) of Bitcoin (BTC) and Ethereum (ETH) by using the API endpoints that the starter code supplies.\n",
    "\n",
    "3. Navigate the JSON response object to access the current price of each coin, and store each in a variable.\n",
    "\n",
    "    > **Hint** Note the specific identifier for each cryptocurrency in the API JSON response. The Bitcoin identifier is `1`, and the Ethereum identifier is `1027`.\n",
    "\n",
    "4. Calculate the value, in US dollars, of the current amount of each cryptocurrency and of the entire cryptocurrency wallet.\n",
    "\n"
   ],
   "metadata": {}
  },
  {
   "cell_type": "code",
   "execution_count": 3,
   "source": [
    "# The current number of coins for each cryptocurrency asset held in the portfolio.\r\n",
    "btc_coins = 1.2\r\n",
    "eth_coins = 5.3"
   ],
   "outputs": [],
   "metadata": {}
  },
  {
   "cell_type": "markdown",
   "source": [
    "#### Step 1: Create a variable named `monthly_income`, and set its value to `12000`."
   ],
   "metadata": {}
  },
  {
   "cell_type": "code",
   "execution_count": 4,
   "source": [
    "# The monthly amount for the member's household income\r\n",
    "monthly_income = 12000\r\n"
   ],
   "outputs": [],
   "metadata": {}
  },
  {
   "cell_type": "markdown",
   "source": [
    "#### Review the endpoint URLs for the API calls to Free Crypto API in order to get the current pricing information for both BTC and ETH."
   ],
   "metadata": {}
  },
  {
   "cell_type": "code",
   "execution_count": 5,
   "source": [
    "# The Free Crypto API Call endpoint URLs for the held cryptocurrency assets\r\n",
    "btc_url = \"https://api.alternative.me/v2/ticker/Bitcoin/?convert=USD\"\r\n",
    "eth_url = \"https://api.alternative.me/v2/ticker/Ethereum/?convert=USD\""
   ],
   "outputs": [],
   "metadata": {}
  },
  {
   "cell_type": "markdown",
   "source": [
    "#### Step 2. Use the Requests library to get the current price (in US dollars) of Bitcoin (BTC) and Ethereum (ETH) by using the API endpoints that the starter code supplied."
   ],
   "metadata": {}
  },
  {
   "cell_type": "code",
   "execution_count": 6,
   "source": [
    "# Using the Python requests library, make an API call to access the current price of BTC\r\n",
    "btc_response = requests.get(btc_url).json()\r\n",
    "\r\n",
    "# Use the json.dumps function to review the response data from the API call\r\n",
    "# Use the indent and sort_keys parameters to make the response object readable\r\n",
    "print(json.dumps(btc_response, indent=4, sort_keys=True))\r\n"
   ],
   "outputs": [
    {
     "output_type": "stream",
     "name": "stdout",
     "text": [
      "{\n",
      "    \"data\": {\n",
      "        \"1\": {\n",
      "            \"circulating_supply\": 18759500,\n",
      "            \"id\": 1,\n",
      "            \"last_updated\": 1626581097,\n",
      "            \"max_supply\": 21000000,\n",
      "            \"name\": \"Bitcoin\",\n",
      "            \"quotes\": {\n",
      "                \"USD\": {\n",
      "                    \"market_cap\": 604025793930,\n",
      "                    \"percent_change_1h\": -0.170499105461685,\n",
      "                    \"percent_change_24h\": 2.90687116827319,\n",
      "                    \"percent_change_7d\": -4.49432753833074,\n",
      "                    \"percentage_change_1h\": -0.170499105461685,\n",
      "                    \"percentage_change_24h\": 2.90687116827319,\n",
      "                    \"percentage_change_7d\": -4.49432753833074,\n",
      "                    \"price\": 32190.0,\n",
      "                    \"volume_24h\": 18638000080\n",
      "                }\n",
      "            },\n",
      "            \"rank\": 1,\n",
      "            \"symbol\": \"BTC\",\n",
      "            \"total_supply\": 18759500,\n",
      "            \"website_slug\": \"bitcoin\"\n",
      "        }\n",
      "    },\n",
      "    \"metadata\": {\n",
      "        \"error\": null,\n",
      "        \"num_cryptocurrencies\": 3123,\n",
      "        \"timestamp\": 1626581097\n",
      "    }\n",
      "}\n"
     ]
    }
   ],
   "metadata": {}
  },
  {
   "cell_type": "code",
   "execution_count": 7,
   "source": [
    "# Using the Python requests library, make an API call to access the current price ETH\r\n",
    "eth_response = requests.get(eth_url).json()\r\n",
    "\r\n",
    "# Use the json.dumps function to review the response data from the API call\r\n",
    "# Use the indent and sort_keys parameters to make the response object readable\r\n",
    "print(json.dumps(eth_response, indent=4, sort_keys=True))\r\n"
   ],
   "outputs": [
    {
     "output_type": "stream",
     "name": "stdout",
     "text": [
      "{\n",
      "    \"data\": {\n",
      "        \"1027\": {\n",
      "            \"circulating_supply\": 116737356,\n",
      "            \"id\": 1027,\n",
      "            \"last_updated\": 1626581097,\n",
      "            \"max_supply\": 0,\n",
      "            \"name\": \"Ethereum\",\n",
      "            \"quotes\": {\n",
      "                \"USD\": {\n",
      "                    \"market_cap\": 230858004170,\n",
      "                    \"percent_change_1h\": -0.224866199503942,\n",
      "                    \"percent_change_24h\": 6.00310575525131,\n",
      "                    \"percent_change_7d\": -6.60822960085518,\n",
      "                    \"percentage_change_1h\": -0.224866199503942,\n",
      "                    \"percentage_change_24h\": 6.00310575525131,\n",
      "                    \"percentage_change_7d\": -6.60822960085518,\n",
      "                    \"price\": 1982.76,\n",
      "                    \"volume_24h\": 16432508783\n",
      "                }\n",
      "            },\n",
      "            \"rank\": 2,\n",
      "            \"symbol\": \"ETH\",\n",
      "            \"total_supply\": 116737356,\n",
      "            \"website_slug\": \"ethereum\"\n",
      "        }\n",
      "    },\n",
      "    \"metadata\": {\n",
      "        \"error\": null,\n",
      "        \"num_cryptocurrencies\": 3123,\n",
      "        \"timestamp\": 1626581097\n",
      "    }\n",
      "}\n"
     ]
    }
   ],
   "metadata": {}
  },
  {
   "cell_type": "markdown",
   "source": [
    "#### Step 3: Navigate the JSON response object to access the current price of each coin, and store each in a variable."
   ],
   "metadata": {}
  },
  {
   "cell_type": "code",
   "execution_count": 8,
   "source": [
    "# Navigate the BTC response object to access the current price of BTC\r\n",
    "btc_price = btc_response['data']['1']['quotes']['USD']['price']\r\n",
    "\r\n",
    "# Print the current price of BTC\r\n",
    "print(f\"The current price of Bitcoin: {btc_price}\")"
   ],
   "outputs": [
    {
     "output_type": "stream",
     "name": "stdout",
     "text": [
      "The current price of Bitcoin: 32190.0\n"
     ]
    }
   ],
   "metadata": {}
  },
  {
   "cell_type": "code",
   "execution_count": 9,
   "source": [
    "# Navigate the BTC response object to access the current price of ETH\r\n",
    "eth_price = eth_response['data']['1027']['quotes']['USD']['price']\r\n",
    "\r\n",
    "# Print the current price of ETH\r\n",
    "print(f\"The current price of Ethereum: {eth_price}\")\r\n"
   ],
   "outputs": [
    {
     "output_type": "stream",
     "name": "stdout",
     "text": [
      "The current price of Ethereum: 1982.76\n"
     ]
    }
   ],
   "metadata": {}
  },
  {
   "cell_type": "markdown",
   "source": [
    "### Step 4: Calculate the value, in US dollars, of the current amount of each cryptocurrency and of the entire cryptocurrency wallet."
   ],
   "metadata": {}
  },
  {
   "cell_type": "code",
   "execution_count": 10,
   "source": [
    "# Compute the current value of the BTC holding \r\n",
    "btc_value = btc_price * btc_coins\r\n",
    "\r\n",
    "# Print current value of your holding in BTC\r\n",
    "print(f\"The current value of Bitcoin holdings: {btc_value}\")\r\n"
   ],
   "outputs": [
    {
     "output_type": "stream",
     "name": "stdout",
     "text": [
      "The current value of Bitcoin holdings: 38628.0\n"
     ]
    }
   ],
   "metadata": {}
  },
  {
   "cell_type": "code",
   "execution_count": 11,
   "source": [
    "# Compute the current value of the ETH holding \r\n",
    "eth_value = eth_price * eth_coins\r\n",
    "\r\n",
    "# Print current value of your holding in ETH\r\n",
    "print(f\"The current value of Ethereum holdings: {round(eth_value,2)}\")\r\n"
   ],
   "outputs": [
    {
     "output_type": "stream",
     "name": "stdout",
     "text": [
      "The current value of Ethereum holdings: 10508.63\n"
     ]
    }
   ],
   "metadata": {}
  },
  {
   "cell_type": "code",
   "execution_count": 12,
   "source": [
    "# Compute the total value of the cryptocurrency wallet\r\n",
    "# Add the value of the BTC holding to the value of the ETH holding\r\n",
    "total_crypto_wallet = btc_value + eth_value\r\n",
    "\r\n",
    "# Print current cryptocurrency wallet balance\r\n",
    "print(f\"The total value of your Crypto Wallet: {round(total_crypto_wallet,2)}\")\r\n"
   ],
   "outputs": [
    {
     "output_type": "stream",
     "name": "stdout",
     "text": [
      "The total value of your Crypto Wallet: 49136.63\n"
     ]
    }
   ],
   "metadata": {}
  },
  {
   "cell_type": "markdown",
   "source": [
    "### Evaluate the Stock and Bond Holdings by Using the Alpaca SDK\n",
    "\n",
    "In this section, you’ll determine the current value of a member’s stock and bond holdings. You’ll make an API call to Alpaca via the Alpaca SDK to get the current closing prices of the SPDR S&P 500 ETF Trust (ticker: SPY) and of the iShares Core US Aggregate Bond ETF (ticker: AGG). For the prototype, assume that the member holds 110 shares of SPY, which represents the stock portion of their portfolio, and 200 shares of AGG, which represents the bond portion. To do all this, complete the following steps:\n",
    "\n",
    "1. In the `Starter_Code` folder, create an environment file (`.env`) to store the values of your Alpaca API key and Alpaca secret key.\n",
    "\n",
    "2. Set the variables for the Alpaca API and secret keys. Using the Alpaca SDK, create the Alpaca `tradeapi.REST` object. In this object, include the parameters for the Alpaca API key, the secret key, and the version number.\n",
    "\n",
    "3. Set the following parameters for the Alpaca API call:\n",
    "\n",
    "    - `tickers`: Use the tickers for the member’s stock and bond holdings.\n",
    "\n",
    "    - `timeframe`: Use a time frame of one day.\n",
    "\n",
    "    - `start_date` and `end_date`: Use the same date for these parameters, and format them with the date of the previous weekday (or `2020-08-07`). This is because you want the one closing price for the most-recent trading day.\n",
    "\n",
    "4. Get the current closing prices for `SPY` and `AGG` by using the Alpaca `get_barset` function. Format the response as a Pandas DataFrame by including the `df` property at the end of the `get_barset` function.\n",
    "\n",
    "5. Navigating the Alpaca response DataFrame, select the `SPY` and `AGG` closing prices, and store them as variables.\n",
    "\n",
    "6. Calculate the value, in US dollars, of the current amount of shares in each of the stock and bond portions of the portfolio, and print the results.\n"
   ],
   "metadata": {}
  },
  {
   "cell_type": "markdown",
   "source": [
    "#### Review the total number of shares held in both (SPY) and (AGG)."
   ],
   "metadata": {}
  },
  {
   "cell_type": "code",
   "execution_count": 13,
   "source": [
    "# Current amount of shares held in both the stock (SPY) and bond (AGG) portion of the portfolio.\r\n",
    "spy_shares = 110\r\n",
    "agg_shares = 200\r\n"
   ],
   "outputs": [],
   "metadata": {}
  },
  {
   "cell_type": "markdown",
   "source": [
    "#### Step 1: In the `Starter_Code` folder, create an environment file (`.env`) to store the values of your Alpaca API key and Alpaca secret key."
   ],
   "metadata": {}
  },
  {
   "cell_type": "markdown",
   "source": [
    "#### Step 2: Set the variables for the Alpaca API and secret keys. Using the Alpaca SDK, create the Alpaca `tradeapi.REST` object. In this object, include the parameters for the Alpaca API key, the secret key, and the version number."
   ],
   "metadata": {}
  },
  {
   "cell_type": "code",
   "execution_count": 14,
   "source": [
    "# Set the variables for the Alpaca API and secret keys\r\n",
    "load_dotenv()\r\n",
    "alpaca_api_key = os.getenv(\"ALPACA_API_KEY\")\r\n",
    "alpaca_secret_key = os.getenv(\"ALPACA_SECRET_KEY\")\r\n",
    "\r\n",
    "# Create the Alpaca tradeapi.REST object\r\n",
    "alpaca = tradeapi.REST(\r\n",
    "    alpaca_api_key,\r\n",
    "    alpaca_secret_key,\r\n",
    "    api_version=\"v2\"\r\n",
    "    )\r\n"
   ],
   "outputs": [],
   "metadata": {}
  },
  {
   "cell_type": "markdown",
   "source": [
    "#### Step 3: Set the following parameters for the Alpaca API call:\n",
    "\n",
    "- `tickers`: Use the tickers for the member’s stock and bond holdings.\n",
    "\n",
    "- `timeframe`: Use a time frame of one day.\n",
    "\n",
    "- `start_date` and `end_date`: Use the same date for these parameters, and format them with the date of the previous weekday (or `2020-08-07`). This is because you want the one closing price for the most-recent trading day.\n"
   ],
   "metadata": {}
  },
  {
   "cell_type": "code",
   "execution_count": 15,
   "source": [
    "# Set the tickers for both the bond and stock portion of the portfolio\r\n",
    "tickers = ['SPY', 'AGG']\r\n",
    "\r\n",
    "# Set timeframe to 1D \r\n",
    "timeframe = \"1D\"\r\n",
    "\r\n",
    "# Format current date as ISO format\r\n",
    "# Set both the start and end date at the date of your prior weekday \r\n",
    "# This will give you the closing price of the previous trading day\r\n",
    "# Alternatively you can use a start and end date of 2020-08-07\r\n",
    "start_date = pd.Timestamp(\"2021-07-14\", tz=\"America/New_York\").isoformat()\r\n",
    "end_date = pd.Timestamp(\"2021-07-14\", tz=\"America/New_York\").isoformat()\r\n"
   ],
   "outputs": [],
   "metadata": {}
  },
  {
   "cell_type": "markdown",
   "source": [
    "#### Step 4: Get the current closing prices for `SPY` and `AGG` by using the Alpaca `get_barset` function. Format the response as a Pandas DataFrame by including the `df` property at the end of the `get_barset` function."
   ],
   "metadata": {}
  },
  {
   "cell_type": "code",
   "execution_count": 16,
   "source": [
    "# Use the Alpaca get_barset function to get current closing prices the portfolio\r\n",
    "# Be sure to set the `df` property after the function to format the response object as a DataFrame\r\n",
    "stocks_bonds_portfolio = alpaca.get_barset(\r\n",
    "    tickers,\r\n",
    "    timeframe,\r\n",
    "    start = start_date,\r\n",
    "    end = end_date\r\n",
    ").df\r\n",
    "\r\n",
    "# Review the first 5 rows of the Alpaca DataFrame\r\n",
    "stocks_bonds_portfolio.head()\r\n"
   ],
   "outputs": [
    {
     "output_type": "execute_result",
     "data": {
      "text/plain": [
       "                              AGG                                       SPY  \\\n",
       "                             open    high      low   close   volume    open   \n",
       "time                                                                          \n",
       "2021-07-14 00:00:00-04:00  115.59  115.76  115.569  115.75  3907266  437.39   \n",
       "\n",
       "                                                             \n",
       "                             high     low   close    volume  \n",
       "time                                                         \n",
       "2021-07-14 00:00:00-04:00  437.92  434.91  436.22  54445950  "
      ],
      "text/html": [
       "<div>\n",
       "<style scoped>\n",
       "    .dataframe tbody tr th:only-of-type {\n",
       "        vertical-align: middle;\n",
       "    }\n",
       "\n",
       "    .dataframe tbody tr th {\n",
       "        vertical-align: top;\n",
       "    }\n",
       "\n",
       "    .dataframe thead tr th {\n",
       "        text-align: left;\n",
       "    }\n",
       "\n",
       "    .dataframe thead tr:last-of-type th {\n",
       "        text-align: right;\n",
       "    }\n",
       "</style>\n",
       "<table border=\"1\" class=\"dataframe\">\n",
       "  <thead>\n",
       "    <tr>\n",
       "      <th></th>\n",
       "      <th colspan=\"5\" halign=\"left\">AGG</th>\n",
       "      <th colspan=\"5\" halign=\"left\">SPY</th>\n",
       "    </tr>\n",
       "    <tr>\n",
       "      <th></th>\n",
       "      <th>open</th>\n",
       "      <th>high</th>\n",
       "      <th>low</th>\n",
       "      <th>close</th>\n",
       "      <th>volume</th>\n",
       "      <th>open</th>\n",
       "      <th>high</th>\n",
       "      <th>low</th>\n",
       "      <th>close</th>\n",
       "      <th>volume</th>\n",
       "    </tr>\n",
       "    <tr>\n",
       "      <th>time</th>\n",
       "      <th></th>\n",
       "      <th></th>\n",
       "      <th></th>\n",
       "      <th></th>\n",
       "      <th></th>\n",
       "      <th></th>\n",
       "      <th></th>\n",
       "      <th></th>\n",
       "      <th></th>\n",
       "      <th></th>\n",
       "    </tr>\n",
       "  </thead>\n",
       "  <tbody>\n",
       "    <tr>\n",
       "      <th>2021-07-14 00:00:00-04:00</th>\n",
       "      <td>115.59</td>\n",
       "      <td>115.76</td>\n",
       "      <td>115.569</td>\n",
       "      <td>115.75</td>\n",
       "      <td>3907266</td>\n",
       "      <td>437.39</td>\n",
       "      <td>437.92</td>\n",
       "      <td>434.91</td>\n",
       "      <td>436.22</td>\n",
       "      <td>54445950</td>\n",
       "    </tr>\n",
       "  </tbody>\n",
       "</table>\n",
       "</div>"
      ]
     },
     "metadata": {},
     "execution_count": 16
    }
   ],
   "metadata": {}
  },
  {
   "cell_type": "markdown",
   "source": [
    "#### Step 5: Navigating the Alpaca response DataFrame, select the `SPY` and `AGG` closing prices, and store them as variables."
   ],
   "metadata": {}
  },
  {
   "cell_type": "code",
   "execution_count": 17,
   "source": [
    "# Access the closing price for AGG from the Alpaca DataFrame\r\n",
    "# Converting the value to a floating point number\r\n",
    "agg_close_price = float(stocks_bonds_portfolio['AGG']['close'])\r\n",
    "\r\n",
    "# Print the AGG closing price\r\n",
    "agg_close_price\r\n"
   ],
   "outputs": [
    {
     "output_type": "execute_result",
     "data": {
      "text/plain": [
       "115.75"
      ]
     },
     "metadata": {},
     "execution_count": 17
    }
   ],
   "metadata": {}
  },
  {
   "cell_type": "code",
   "execution_count": 18,
   "source": [
    "# Access the closing price for SPY from the Alpaca DataFrame\r\n",
    "# Converting the value to a floating point number\r\n",
    "spy_close_price = float(stocks_bonds_portfolio['SPY']['close'])\r\n",
    "\r\n",
    "# Print the SPY closing price\r\n",
    "spy_close_price\r\n"
   ],
   "outputs": [
    {
     "output_type": "execute_result",
     "data": {
      "text/plain": [
       "436.22"
      ]
     },
     "metadata": {},
     "execution_count": 18
    }
   ],
   "metadata": {}
  },
  {
   "cell_type": "markdown",
   "source": [
    "#### Step 6: Calculate the value, in US dollars, of the current amount of shares in each of the stock and bond portions of the portfolio, and print the results."
   ],
   "metadata": {}
  },
  {
   "cell_type": "code",
   "execution_count": 19,
   "source": [
    "# Calculate the current value of the bond portion of the portfolio\r\n",
    "agg_value = agg_shares * agg_close_price\r\n",
    "\r\n",
    "# Print the current value of the bond portfolio\r\n",
    "print(f\"The current value of AGG stock: {round(agg_value,2)}\")\r\n"
   ],
   "outputs": [
    {
     "output_type": "stream",
     "name": "stdout",
     "text": [
      "The current value of AGG stock: 23150.0\n"
     ]
    }
   ],
   "metadata": {}
  },
  {
   "cell_type": "code",
   "execution_count": 20,
   "source": [
    "# Calculate the current value of the stock portion of the portfolio\r\n",
    "spy_value = spy_shares * spy_close_price\r\n",
    "\r\n",
    "# Print the current value of the stock portfolio\r\n",
    "print(f\"The current value of AGG stock: {round(spy_value,2)}\")\r\n"
   ],
   "outputs": [
    {
     "output_type": "stream",
     "name": "stdout",
     "text": [
      "The current value of AGG stock: 47984.2\n"
     ]
    }
   ],
   "metadata": {}
  },
  {
   "cell_type": "code",
   "execution_count": 21,
   "source": [
    "# Calculate the total value of the stock and bond portion of the portfolio\r\n",
    "total_stocks_bonds = spy_value + agg_value\r\n",
    "\r\n",
    "# Print the current balance of the stock and bond portion of the portfolio\r\n",
    "print(f\"The total value of the stocks and bonds: ${round(total_stocks_bonds,2):0.2f}\")\r\n"
   ],
   "outputs": [
    {
     "output_type": "stream",
     "name": "stdout",
     "text": [
      "The total value of the stocks and bonds: $71134.20\n"
     ]
    }
   ],
   "metadata": {}
  },
  {
   "cell_type": "code",
   "execution_count": 22,
   "source": [
    "# Calculate the total value of the member's entire savings portfolio\r\n",
    "# Add the value of the cryptocurrency walled to the value of the total stocks and bonds\r\n",
    "total_portfolio = total_stocks_bonds + total_crypto_wallet\r\n",
    "\r\n",
    "# Print current cryptocurrency wallet balance\r\n",
    "print(f\"The total value of saving portfolio: ${round(total_portfolio,2):0.2f}\")\r\n"
   ],
   "outputs": [
    {
     "output_type": "stream",
     "name": "stdout",
     "text": [
      "The total value of saving portfolio: $120270.83\n"
     ]
    }
   ],
   "metadata": {}
  },
  {
   "cell_type": "markdown",
   "source": [
    "### Evaluate the Emergency Fund\n",
    "\n",
    "In this section, you’ll use the valuations for the cryptocurrency wallet and for the stock and bond portions of the portfolio to determine if the credit union member has enough savings to build an emergency fund into their financial plan. To do this, complete the following steps:\n",
    "\n",
    "1. Create a Python list named `savings_data` that has two elements. The first element contains the total value of the cryptocurrency wallet. The second element contains the total value of the stock and bond portions of the portfolio.\n",
    "\n",
    "2. Use the `savings_data` list to create a Pandas DataFrame named `savings_df`, and then display this DataFrame. The function to create the DataFrame should take the following three parameters:\n",
    "\n",
    "    - `savings_data`: Use the list that you just created.\n",
    "\n",
    "    - `columns`: Set this parameter equal to a Python list with a single value called `amount`.\n",
    "\n",
    "    - `index`: Set this parameter equal to a Python list with the values of `crypto` and `stock/bond`.\n",
    "\n",
    "3. Use the `savings_df` DataFrame to plot a pie chart that visualizes the composition of the member’s portfolio. The y-axis of the pie chart uses `amount`. Be sure to add a title.\n",
    "\n",
    "4. Using Python, determine if the current portfolio has enough to create an emergency fund as part of the member’s financial plan. Ideally, an emergency fund should equal to three times the member’s monthly income. To do this, implement the following steps:\n",
    "\n",
    "    1. Create a variable named `emergency_fund_value`, and set it equal to three times the value of the member’s `monthly_income` of $12000. (You set this earlier in Part 1).\n",
    "\n",
    "    2. Create a series of three if statements to determine if the member’s total portfolio is large enough to fund the emergency portfolio:\n",
    "\n",
    "        1. If the total portfolio value is greater than the emergency fund value, display a message congratulating the member for having enough money in this fund.\n",
    "\n",
    "        2. Else if the total portfolio value is equal to the emergency fund value, display a message congratulating the member on reaching this important financial goal.\n",
    "\n",
    "        3. Else the total portfolio is less than the emergency fund value, so display a message showing how many dollars away the member is from reaching the goal. (Subtract the total portfolio value from the emergency fund value.)\n"
   ],
   "metadata": {}
  },
  {
   "cell_type": "markdown",
   "source": [
    "#### Step 1: Create a Python list named `savings_data` that has two elements. The first element contains the total value of the cryptocurrency wallet. The second element contains the total value of the stock and bond portions of the portfolio."
   ],
   "metadata": {}
  },
  {
   "cell_type": "code",
   "execution_count": 23,
   "source": [
    "# Consolidate financial assets data into a Python list\r\n",
    "savings_data = [total_crypto_wallet, total_stocks_bonds]\r\n",
    "    \r\n",
    "# Review the Python list savings_data\r\n",
    "savings_data\r\n",
    "    "
   ],
   "outputs": [
    {
     "output_type": "execute_result",
     "data": {
      "text/plain": [
       "[49136.628, 71134.20000000001]"
      ]
     },
     "metadata": {},
     "execution_count": 23
    }
   ],
   "metadata": {}
  },
  {
   "cell_type": "markdown",
   "source": [
    "#### Step 2: Use the `savings_data` list to create a Pandas DataFrame named `savings_df`, and then display this DataFrame. The function to create the DataFrame should take the following three parameters:\n",
    "\n",
    "- `savings_data`: Use the list that you just created.\n",
    "\n",
    "- `columns`: Set this parameter equal to a Python list with a single value called `amount`.\n",
    "\n",
    "- `index`: Set this parameter equal to a Python list with the values of `crypto` and `stock/bond`.\n"
   ],
   "metadata": {}
  },
  {
   "cell_type": "code",
   "execution_count": 24,
   "source": [
    "# Create a Pandas DataFrame called savings_df \r\n",
    "savings_df = pd.DataFrame(\r\n",
    "    {'amount':savings_data},\r\n",
    "    index=['crypto','stock/bond']\r\n",
    ")\r\n",
    "\r\n",
    "# Display the savings_df DataFrame\r\n",
    "type(savings_df)\r\n"
   ],
   "outputs": [
    {
     "output_type": "execute_result",
     "data": {
      "text/plain": [
       "pandas.core.frame.DataFrame"
      ]
     },
     "metadata": {},
     "execution_count": 24
    }
   ],
   "metadata": {}
  },
  {
   "cell_type": "markdown",
   "source": [
    "#### Step 3: Use the `savings_df` DataFrame to plot a pie chart that visualizes the composition of the member’s portfolio. The y-axis of the pie chart uses `amount`. Be sure to add a title."
   ],
   "metadata": {}
  },
  {
   "cell_type": "code",
   "execution_count": 25,
   "source": [
    "# Plot the total value of the member's portfolio (crypto and stock/bond) in a pie chart\r\n",
    "savings_df.plot.pie(y='amount', title='Portfolio Composition - 2021-07-14')\r\n"
   ],
   "outputs": [
    {
     "output_type": "execute_result",
     "data": {
      "text/plain": [
       "<AxesSubplot:title={'center':'Portfolio Composition - 2021-07-14'}, ylabel='amount'>"
      ]
     },
     "metadata": {},
     "execution_count": 25
    },
    {
     "output_type": "display_data",
     "data": {
      "text/plain": [
       "<Figure size 432x288 with 1 Axes>"
      ],
      "image/png": "[encoded data removed]"
     },
     "metadata": {}
    }
   ],
   "metadata": {}
  },
  {
   "cell_type": "markdown",
   "source": [
    "#### Step 4: Using Python, determine if the current portfolio has enough to create an emergency fund as part of the member’s financial plan. Ideally, an emergency fund should equal to three times the member’s monthly income. To do this, implement the following steps:\n",
    "\n",
    "Step 1. Create a variable named `emergency_fund_value`, and set it equal to three times the value of the member’s `monthly_income` of 12000. (You set this earlier in Part 1).\n",
    "\n",
    "Step 2. Create a series of three if statements to determine if the member’s total portfolio is large enough to fund the emergency portfolio:\n",
    "\n",
    "* If the total portfolio value is greater than the emergency fund value, display a message congratulating the member for having enough money in this fund.\n",
    "\n",
    "* Else if the total portfolio value is equal to the emergency fund value, display a message congratulating the member on reaching this important financial goal.\n",
    "\n",
    "* Else the total portfolio is less than the emergency fund value, so display a message showing how many dollars away the member is from reaching the goal. (Subtract the total portfolio value from the emergency fund value.)\n"
   ],
   "metadata": {}
  },
  {
   "cell_type": "markdown",
   "source": [
    "##### Step 4-1: Create a variable named `emergency_fund_value`, and set it equal to three times the value of the member’s `monthly_income` of 12000. (You set this earlier in Part 1)."
   ],
   "metadata": {}
  },
  {
   "cell_type": "code",
   "execution_count": 26,
   "source": [
    "# Create a variable named emergency_fund_value\r\n",
    "emergency_fund_value = monthly_income * 3\r\n",
    "emergency_fund_value\r\n"
   ],
   "outputs": [
    {
     "output_type": "execute_result",
     "data": {
      "text/plain": [
       "36000"
      ]
     },
     "metadata": {},
     "execution_count": 26
    }
   ],
   "metadata": {}
  },
  {
   "cell_type": "markdown",
   "source": [
    "##### Step 4-2: Create a series of three if statements to determine if the member’s total portfolio is large enough to fund the emergency portfolio:\n",
    "\n",
    "* If the total portfolio value is greater than the emergency fund value, display a message congratulating the member for having enough money in this fund.\n",
    "\n",
    "* Else if the total portfolio value is equal to the emergency fund value, display a message congratulating the member on reaching this important financial goal.\n",
    "\n",
    "* Else the total portfolio is less than the emergency fund value, so display a message showing how many dollars away the member is from reaching the goal. (Subtract the total portfolio value from the emergency fund value.)"
   ],
   "metadata": {}
  },
  {
   "cell_type": "code",
   "execution_count": 27,
   "source": [
    "# Evaluate the possibility of creating an emergency fund with 3 conditions:\r\n",
    "if total_portfolio > emergency_fund_value:\r\n",
    "    display(\"Congratulations for having enough money in this fund!\")\r\n",
    "elif total_portfolio == emergency_fund_value:\r\n",
    "    display(\"Congratulations for reaching this important financial goal!\")\r\n",
    "else:\r\n",
    "    display(f\"You need ${emergency_fund_value - value} to reach your emergency fund goal. You can do it!\")\r\n"
   ],
   "outputs": [
    {
     "output_type": "display_data",
     "data": {
      "text/plain": [
       "'Congratulations for having enough money in this fund!'"
      ]
     },
     "metadata": {}
    }
   ],
   "metadata": {}
  },
  {
   "cell_type": "markdown",
   "source": [
    "## Part 2: Create a Financial Planner for Retirement"
   ],
   "metadata": {}
  },
  {
   "cell_type": "markdown",
   "source": [
    "### Create the Monte Carlo Simulation\n",
    "\n",
    "In this section, you’ll use the MCForecastTools library to create a Monte Carlo simulation for the member’s savings portfolio. To do this, complete the following steps:\n",
    "\n",
    "1. Make an API call via the Alpaca SDK to get 10 years of historical closing prices for a traditional 60/40 portfolio split: 60% stocks (SPY) and 40% bonds (AGG).\n",
    "\n",
    "2. Run a Monte Carlo simulation of 500 samples and 30 years for the 60/40 portfolio, and then plot the results.The following image shows the overlay line plot resulting from a simulation with these characteristics. However, because a random number generator is used to run each live Monte Carlo simulation, your image will differ slightly from this exact image:\n",
    "\n",
    "![A screenshot depicts the resulting plot.](Images/5-4-monte-carlo-line-plot.png)\n",
    "\n",
    "3. Plot the probability distribution of the Monte Carlo simulation. Plot the probability distribution of the Monte Carlo simulation. The following image shows the histogram plot resulting from a simulation with these characteristics. However, because a random number generator is used to run each live Monte Carlo simulation, your image will differ slightly from this exact image:\n",
    "\n",
    "![A screenshot depicts the histogram plot.](Images/5-4-monte-carlo-histogram.png)\n",
    "\n",
    "4. Generate the summary statistics for the Monte Carlo simulation.\n",
    "\n"
   ],
   "metadata": {}
  },
  {
   "cell_type": "markdown",
   "source": [
    "#### Step 1: Make an API call via the Alpaca SDK to get 10 years of historical closing prices for a traditional 60/40 portfolio split: 60% stocks (SPY) and 40% bonds (AGG)."
   ],
   "metadata": {}
  },
  {
   "cell_type": "code",
   "execution_count": 28,
   "source": [
    "# Set start and end dates of 10 years back from your current date\r\n",
    "# Alternatively, you can use an end date of 2020-08-07 and work 10 years back from that date \r\n",
    "start_date = pd.Timestamp(\"2011-07-14\", tz=\"America/New_York\").isoformat()\r\n",
    "end_date = pd.Timestamp(\"2021-07-14\", tz=\"America/New_York\").isoformat()\r\n"
   ],
   "outputs": [],
   "metadata": {}
  },
  {
   "cell_type": "code",
   "execution_count": 31,
   "source": [
    "# Use the Alpaca get_barset function to make the API call to get the 10 years worth of pricing data\r\n",
    "# The tickers and timeframe parameters should have been set in Part 1 of this activity \r\n",
    "# The start and end dates should be updated with the information set above\r\n",
    "# Remember to add the df property to the end of the call so the response is returned as a DataFrame\r\n",
    "stock_df = alpaca.get_barset(\r\n",
    "    tickers,\r\n",
    "    timeframe,\r\n",
    "    start=start_date,\r\n",
    "    end=end_date\r\n",
    ").df\r\n",
    "\r\n",
    "\r\n",
    "# Display both the first and last five rows of the DataFrame\r\n",
    "display(stock_df.head())\r\n",
    "display(stock_df.tail())\r\n"
   ],
   "outputs": [
    {
     "output_type": "display_data",
     "data": {
      "text/plain": [
       "                              AGG                                        \\\n",
       "                             open      high       low   close    volume   \n",
       "time                                                                      \n",
       "2021-02-22 00:00:00-05:00  115.76  115.8662  115.4800  115.49   4704520   \n",
       "2021-02-23 00:00:00-05:00  115.75  115.7500  115.2700  115.52   5373535   \n",
       "2021-02-24 00:00:00-05:00  115.06  115.5000  115.0100  115.47   6131453   \n",
       "2021-02-25 00:00:00-05:00  115.01  115.2900  114.2000  114.41  14520445   \n",
       "2021-02-26 00:00:00-05:00  114.96  115.3900  114.5915  115.37   9735524   \n",
       "\n",
       "                              SPY                                        \n",
       "                             open     high       low   close     volume  \n",
       "time                                                                     \n",
       "2021-02-22 00:00:00-05:00  387.06  389.620  386.7400  387.11   56604869  \n",
       "2021-02-23 00:00:00-05:00  384.66  388.945  380.2000  387.50   98333278  \n",
       "2021-02-24 00:00:00-05:00  386.33  392.230  385.2700  391.76   64527459  \n",
       "2021-02-25 00:00:00-05:00  390.41  391.880  380.7789  382.39  137059806  \n",
       "2021-02-26 00:00:00-05:00  384.35  385.580  378.2300  380.32  134902084  "
      ],
      "text/html": [
       "<div>\n",
       "<style scoped>\n",
       "    .dataframe tbody tr th:only-of-type {\n",
       "        vertical-align: middle;\n",
       "    }\n",
       "\n",
       "    .dataframe tbody tr th {\n",
       "        vertical-align: top;\n",
       "    }\n",
       "\n",
       "    .dataframe thead tr th {\n",
       "        text-align: left;\n",
       "    }\n",
       "\n",
       "    .dataframe thead tr:last-of-type th {\n",
       "        text-align: right;\n",
       "    }\n",
       "</style>\n",
       "<table border=\"1\" class=\"dataframe\">\n",
       "  <thead>\n",
       "    <tr>\n",
       "      <th></th>\n",
       "      <th colspan=\"5\" halign=\"left\">AGG</th>\n",
       "      <th colspan=\"5\" halign=\"left\">SPY</th>\n",
       "    </tr>\n",
       "    <tr>\n",
       "      <th></th>\n",
       "      <th>open</th>\n",
       "      <th>high</th>\n",
       "      <th>low</th>\n",
       "      <th>close</th>\n",
       "      <th>volume</th>\n",
       "      <th>open</th>\n",
       "      <th>high</th>\n",
       "      <th>low</th>\n",
       "      <th>close</th>\n",
       "      <th>volume</th>\n",
       "    </tr>\n",
       "    <tr>\n",
       "      <th>time</th>\n",
       "      <th></th>\n",
       "      <th></th>\n",
       "      <th></th>\n",
       "      <th></th>\n",
       "      <th></th>\n",
       "      <th></th>\n",
       "      <th></th>\n",
       "      <th></th>\n",
       "      <th></th>\n",
       "      <th></th>\n",
       "    </tr>\n",
       "  </thead>\n",
       "  <tbody>\n",
       "    <tr>\n",
       "      <th>2021-02-22 00:00:00-05:00</th>\n",
       "      <td>115.76</td>\n",
       "      <td>115.8662</td>\n",
       "      <td>115.4800</td>\n",
       "      <td>115.49</td>\n",
       "      <td>4704520</td>\n",
       "      <td>387.06</td>\n",
       "      <td>389.620</td>\n",
       "      <td>386.7400</td>\n",
       "      <td>387.11</td>\n",
       "      <td>56604869</td>\n",
       "    </tr>\n",
       "    <tr>\n",
       "      <th>2021-02-23 00:00:00-05:00</th>\n",
       "      <td>115.75</td>\n",
       "      <td>115.7500</td>\n",
       "      <td>115.2700</td>\n",
       "      <td>115.52</td>\n",
       "      <td>5373535</td>\n",
       "      <td>384.66</td>\n",
       "      <td>388.945</td>\n",
       "      <td>380.2000</td>\n",
       "      <td>387.50</td>\n",
       "      <td>98333278</td>\n",
       "    </tr>\n",
       "    <tr>\n",
       "      <th>2021-02-24 00:00:00-05:00</th>\n",
       "      <td>115.06</td>\n",
       "      <td>115.5000</td>\n",
       "      <td>115.0100</td>\n",
       "      <td>115.47</td>\n",
       "      <td>6131453</td>\n",
       "      <td>386.33</td>\n",
       "      <td>392.230</td>\n",
       "      <td>385.2700</td>\n",
       "      <td>391.76</td>\n",
       "      <td>64527459</td>\n",
       "    </tr>\n",
       "    <tr>\n",
       "      <th>2021-02-25 00:00:00-05:00</th>\n",
       "      <td>115.01</td>\n",
       "      <td>115.2900</td>\n",
       "      <td>114.2000</td>\n",
       "      <td>114.41</td>\n",
       "      <td>14520445</td>\n",
       "      <td>390.41</td>\n",
       "      <td>391.880</td>\n",
       "      <td>380.7789</td>\n",
       "      <td>382.39</td>\n",
       "      <td>137059806</td>\n",
       "    </tr>\n",
       "    <tr>\n",
       "      <th>2021-02-26 00:00:00-05:00</th>\n",
       "      <td>114.96</td>\n",
       "      <td>115.3900</td>\n",
       "      <td>114.5915</td>\n",
       "      <td>115.37</td>\n",
       "      <td>9735524</td>\n",
       "      <td>384.35</td>\n",
       "      <td>385.580</td>\n",
       "      <td>378.2300</td>\n",
       "      <td>380.32</td>\n",
       "      <td>134902084</td>\n",
       "    </tr>\n",
       "  </tbody>\n",
       "</table>\n",
       "</div>"
      ]
     },
     "metadata": {}
    },
    {
     "output_type": "display_data",
     "data": {
      "text/plain": [
       "                               AGG                                      \\\n",
       "                              open     high       low   close   volume   \n",
       "time                                                                     \n",
       "2021-07-08 00:00:00-04:00  116.040  116.180  115.9600  116.06  5685583   \n",
       "2021-07-09 00:00:00-04:00  115.735  115.760  115.6900  115.69  4602694   \n",
       "2021-07-12 00:00:00-04:00  115.800  115.805  115.6000  115.63  3184908   \n",
       "2021-07-13 00:00:00-04:00  115.650  115.760  115.3022  115.39  4698374   \n",
       "2021-07-14 00:00:00-04:00  115.590  115.760  115.5690  115.75  3907266   \n",
       "\n",
       "                              SPY                                     \n",
       "                             open    high      low   close    volume  \n",
       "time                                                                  \n",
       "2021-07-08 00:00:00-04:00  428.78  431.73  427.520  430.95  83417621  \n",
       "2021-07-09 00:00:00-04:00  432.53  435.84  430.714  435.48  59254094  \n",
       "2021-07-12 00:00:00-04:00  435.42  437.35  434.970  437.08  42031814  \n",
       "2021-07-13 00:00:00-04:00  436.26  437.84  435.310  435.62  45923305  \n",
       "2021-07-14 00:00:00-04:00  437.39  437.92  434.910  436.22  54445950  "
      ],
      "text/html": [
       "<div>\n",
       "<style scoped>\n",
       "    .dataframe tbody tr th:only-of-type {\n",
       "        vertical-align: middle;\n",
       "    }\n",
       "\n",
       "    .dataframe tbody tr th {\n",
       "        vertical-align: top;\n",
       "    }\n",
       "\n",
       "    .dataframe thead tr th {\n",
       "        text-align: left;\n",
       "    }\n",
       "\n",
       "    .dataframe thead tr:last-of-type th {\n",
       "        text-align: right;\n",
       "    }\n",
       "</style>\n",
       "<table border=\"1\" class=\"dataframe\">\n",
       "  <thead>\n",
       "    <tr>\n",
       "      <th></th>\n",
       "      <th colspan=\"5\" halign=\"left\">AGG</th>\n",
       "      <th colspan=\"5\" halign=\"left\">SPY</th>\n",
       "    </tr>\n",
       "    <tr>\n",
       "      <th></th>\n",
       "      <th>open</th>\n",
       "      <th>high</th>\n",
       "      <th>low</th>\n",
       "      <th>close</th>\n",
       "      <th>volume</th>\n",
       "      <th>open</th>\n",
       "      <th>high</th>\n",
       "      <th>low</th>\n",
       "      <th>close</th>\n",
       "      <th>volume</th>\n",
       "    </tr>\n",
       "    <tr>\n",
       "      <th>time</th>\n",
       "      <th></th>\n",
       "      <th></th>\n",
       "      <th></th>\n",
       "      <th></th>\n",
       "      <th></th>\n",
       "      <th></th>\n",
       "      <th></th>\n",
       "      <th></th>\n",
       "      <th></th>\n",
       "      <th></th>\n",
       "    </tr>\n",
       "  </thead>\n",
       "  <tbody>\n",
       "    <tr>\n",
       "      <th>2021-07-08 00:00:00-04:00</th>\n",
       "      <td>116.040</td>\n",
       "      <td>116.180</td>\n",
       "      <td>115.9600</td>\n",
       "      <td>116.06</td>\n",
       "      <td>5685583</td>\n",
       "      <td>428.78</td>\n",
       "      <td>431.73</td>\n",
       "      <td>427.520</td>\n",
       "      <td>430.95</td>\n",
       "      <td>83417621</td>\n",
       "    </tr>\n",
       "    <tr>\n",
       "      <th>2021-07-09 00:00:00-04:00</th>\n",
       "      <td>115.735</td>\n",
       "      <td>115.760</td>\n",
       "      <td>115.6900</td>\n",
       "      <td>115.69</td>\n",
       "      <td>4602694</td>\n",
       "      <td>432.53</td>\n",
       "      <td>435.84</td>\n",
       "      <td>430.714</td>\n",
       "      <td>435.48</td>\n",
       "      <td>59254094</td>\n",
       "    </tr>\n",
       "    <tr>\n",
       "      <th>2021-07-12 00:00:00-04:00</th>\n",
       "      <td>115.800</td>\n",
       "      <td>115.805</td>\n",
       "      <td>115.6000</td>\n",
       "      <td>115.63</td>\n",
       "      <td>3184908</td>\n",
       "      <td>435.42</td>\n",
       "      <td>437.35</td>\n",
       "      <td>434.970</td>\n",
       "      <td>437.08</td>\n",
       "      <td>42031814</td>\n",
       "    </tr>\n",
       "    <tr>\n",
       "      <th>2021-07-13 00:00:00-04:00</th>\n",
       "      <td>115.650</td>\n",
       "      <td>115.760</td>\n",
       "      <td>115.3022</td>\n",
       "      <td>115.39</td>\n",
       "      <td>4698374</td>\n",
       "      <td>436.26</td>\n",
       "      <td>437.84</td>\n",
       "      <td>435.310</td>\n",
       "      <td>435.62</td>\n",
       "      <td>45923305</td>\n",
       "    </tr>\n",
       "    <tr>\n",
       "      <th>2021-07-14 00:00:00-04:00</th>\n",
       "      <td>115.590</td>\n",
       "      <td>115.760</td>\n",
       "      <td>115.5690</td>\n",
       "      <td>115.75</td>\n",
       "      <td>3907266</td>\n",
       "      <td>437.39</td>\n",
       "      <td>437.92</td>\n",
       "      <td>434.910</td>\n",
       "      <td>436.22</td>\n",
       "      <td>54445950</td>\n",
       "    </tr>\n",
       "  </tbody>\n",
       "</table>\n",
       "</div>"
      ]
     },
     "metadata": {}
    }
   ],
   "metadata": {}
  },
  {
   "cell_type": "markdown",
   "source": [
    "#### Step 2: Run a Monte Carlo simulation of 500 samples and 30 years for the 60/40 portfolio, and then plot the results."
   ],
   "metadata": {}
  },
  {
   "cell_type": "code",
   "execution_count": 49,
   "source": [
    "# Configure the Monte Carlo simulation to forecast 30 years cumulative returns\r\n",
    "# The weights should be split 40% to AGG and 60% to SPY.\r\n",
    "# Run 500 samples.\r\n",
    "MC_spy_30 = MCSimulation(\r\n",
    "    portfolio_data= stock_df, \r\n",
    "    weights=[.40,.60],\r\n",
    "    num_simulation=500,\r\n",
    "    num_trading_days= 252*30\r\n",
    ")\r\n",
    "\r\n",
    "# Review the simulation input data\r\n",
    "MC_spy_30.portfolio_data.head()\r\n"
   ],
   "outputs": [
    {
     "output_type": "execute_result",
     "data": {
      "text/plain": [
       "                              AGG                                        \\\n",
       "                             open      high       low   close    volume   \n",
       "time                                                                      \n",
       "2021-02-22 00:00:00-05:00  115.76  115.8662  115.4800  115.49   4704520   \n",
       "2021-02-23 00:00:00-05:00  115.75  115.7500  115.2700  115.52   5373535   \n",
       "2021-02-24 00:00:00-05:00  115.06  115.5000  115.0100  115.47   6131453   \n",
       "2021-02-25 00:00:00-05:00  115.01  115.2900  114.2000  114.41  14520445   \n",
       "2021-02-26 00:00:00-05:00  114.96  115.3900  114.5915  115.37   9735524   \n",
       "\n",
       "                                           SPY                             \\\n",
       "                          daily_return    open     high       low   close   \n",
       "time                                                                        \n",
       "2021-02-22 00:00:00-05:00          NaN  387.06  389.620  386.7400  387.11   \n",
       "2021-02-23 00:00:00-05:00     0.000260  384.66  388.945  380.2000  387.50   \n",
       "2021-02-24 00:00:00-05:00    -0.000433  386.33  392.230  385.2700  391.76   \n",
       "2021-02-25 00:00:00-05:00    -0.009180  390.41  391.880  380.7789  382.39   \n",
       "2021-02-26 00:00:00-05:00     0.008391  384.35  385.580  378.2300  380.32   \n",
       "\n",
       "                                                   \n",
       "                              volume daily_return  \n",
       "time                                               \n",
       "2021-02-22 00:00:00-05:00   56604869          NaN  \n",
       "2021-02-23 00:00:00-05:00   98333278     0.001007  \n",
       "2021-02-24 00:00:00-05:00   64527459     0.010994  \n",
       "2021-02-25 00:00:00-05:00  137059806    -0.023918  \n",
       "2021-02-26 00:00:00-05:00  134902084    -0.005413  "
      ],
      "text/html": [
       "<div>\n",
       "<style scoped>\n",
       "    .dataframe tbody tr th:only-of-type {\n",
       "        vertical-align: middle;\n",
       "    }\n",
       "\n",
       "    .dataframe tbody tr th {\n",
       "        vertical-align: top;\n",
       "    }\n",
       "\n",
       "    .dataframe thead tr th {\n",
       "        text-align: left;\n",
       "    }\n",
       "\n",
       "    .dataframe thead tr:last-of-type th {\n",
       "        text-align: right;\n",
       "    }\n",
       "</style>\n",
       "<table border=\"1\" class=\"dataframe\">\n",
       "  <thead>\n",
       "    <tr>\n",
       "      <th></th>\n",
       "      <th colspan=\"6\" halign=\"left\">AGG</th>\n",
       "      <th colspan=\"6\" halign=\"left\">SPY</th>\n",
       "    </tr>\n",
       "    <tr>\n",
       "      <th></th>\n",
       "      <th>open</th>\n",
       "      <th>high</th>\n",
       "      <th>low</th>\n",
       "      <th>close</th>\n",
       "      <th>volume</th>\n",
       "      <th>daily_return</th>\n",
       "      <th>open</th>\n",
       "      <th>high</th>\n",
       "      <th>low</th>\n",
       "      <th>close</th>\n",
       "      <th>volume</th>\n",
       "      <th>daily_return</th>\n",
       "    </tr>\n",
       "    <tr>\n",
       "      <th>time</th>\n",
       "      <th></th>\n",
       "      <th></th>\n",
       "      <th></th>\n",
       "      <th></th>\n",
       "      <th></th>\n",
       "      <th></th>\n",
       "      <th></th>\n",
       "      <th></th>\n",
       "      <th></th>\n",
       "      <th></th>\n",
       "      <th></th>\n",
       "      <th></th>\n",
       "    </tr>\n",
       "  </thead>\n",
       "  <tbody>\n",
       "    <tr>\n",
       "      <th>2021-02-22 00:00:00-05:00</th>\n",
       "      <td>115.76</td>\n",
       "      <td>115.8662</td>\n",
       "      <td>115.4800</td>\n",
       "      <td>115.49</td>\n",
       "      <td>4704520</td>\n",
       "      <td>NaN</td>\n",
       "      <td>387.06</td>\n",
       "      <td>389.620</td>\n",
       "      <td>386.7400</td>\n",
       "      <td>387.11</td>\n",
       "      <td>56604869</td>\n",
       "      <td>NaN</td>\n",
       "    </tr>\n",
       "    <tr>\n",
       "      <th>2021-02-23 00:00:00-05:00</th>\n",
       "      <td>115.75</td>\n",
       "      <td>115.7500</td>\n",
       "      <td>115.2700</td>\n",
       "      <td>115.52</td>\n",
       "      <td>5373535</td>\n",
       "      <td>0.000260</td>\n",
       "      <td>384.66</td>\n",
       "      <td>388.945</td>\n",
       "      <td>380.2000</td>\n",
       "      <td>387.50</td>\n",
       "      <td>98333278</td>\n",
       "      <td>0.001007</td>\n",
       "    </tr>\n",
       "    <tr>\n",
       "      <th>2021-02-24 00:00:00-05:00</th>\n",
       "      <td>115.06</td>\n",
       "      <td>115.5000</td>\n",
       "      <td>115.0100</td>\n",
       "      <td>115.47</td>\n",
       "      <td>6131453</td>\n",
       "      <td>-0.000433</td>\n",
       "      <td>386.33</td>\n",
       "      <td>392.230</td>\n",
       "      <td>385.2700</td>\n",
       "      <td>391.76</td>\n",
       "      <td>64527459</td>\n",
       "      <td>0.010994</td>\n",
       "    </tr>\n",
       "    <tr>\n",
       "      <th>2021-02-25 00:00:00-05:00</th>\n",
       "      <td>115.01</td>\n",
       "      <td>115.2900</td>\n",
       "      <td>114.2000</td>\n",
       "      <td>114.41</td>\n",
       "      <td>14520445</td>\n",
       "      <td>-0.009180</td>\n",
       "      <td>390.41</td>\n",
       "      <td>391.880</td>\n",
       "      <td>380.7789</td>\n",
       "      <td>382.39</td>\n",
       "      <td>137059806</td>\n",
       "      <td>-0.023918</td>\n",
       "    </tr>\n",
       "    <tr>\n",
       "      <th>2021-02-26 00:00:00-05:00</th>\n",
       "      <td>114.96</td>\n",
       "      <td>115.3900</td>\n",
       "      <td>114.5915</td>\n",
       "      <td>115.37</td>\n",
       "      <td>9735524</td>\n",
       "      <td>0.008391</td>\n",
       "      <td>384.35</td>\n",
       "      <td>385.580</td>\n",
       "      <td>378.2300</td>\n",
       "      <td>380.32</td>\n",
       "      <td>134902084</td>\n",
       "      <td>-0.005413</td>\n",
       "    </tr>\n",
       "  </tbody>\n",
       "</table>\n",
       "</div>"
      ]
     },
     "metadata": {},
     "execution_count": 49
    }
   ],
   "metadata": {}
  },
  {
   "cell_type": "code",
   "execution_count": 50,
   "source": [
    "# Run the Monte Carlo simulation to forecast 30 years cumulative returns\r\n",
    "MC_spy_30.calc_cumulative_return()\r\n"
   ],
   "outputs": [
    {
     "output_type": "stream",
     "name": "stdout",
     "text": [
      "Running Monte Carlo simulation number 0.\n",
      "Running Monte Carlo simulation number 10.\n",
      "Running Monte Carlo simulation number 20.\n",
      "Running Monte Carlo simulation number 30.\n",
      "Running Monte Carlo simulation number 40.\n",
      "Running Monte Carlo simulation number 50.\n",
      "Running Monte Carlo simulation number 60.\n",
      "Running Monte Carlo simulation number 70.\n",
      "Running Monte Carlo simulation number 80.\n",
      "Running Monte Carlo simulation number 90.\n",
      "Running Monte Carlo simulation number 100.\n",
      "Running Monte Carlo simulation number 110.\n",
      "Running Monte Carlo simulation number 120.\n",
      "Running Monte Carlo simulation number 130.\n",
      "Running Monte Carlo simulation number 140.\n",
      "Running Monte Carlo simulation number 150.\n",
      "Running Monte Carlo simulation number 160.\n",
      "Running Monte Carlo simulation number 170.\n",
      "Running Monte Carlo simulation number 180.\n",
      "Running Monte Carlo simulation number 190.\n",
      "Running Monte Carlo simulation number 200.\n",
      "Running Monte Carlo simulation number 210.\n",
      "Running Monte Carlo simulation number 220.\n",
      "Running Monte Carlo simulation number 230.\n",
      "Running Monte Carlo simulation number 240.\n",
      "Running Monte Carlo simulation number 250.\n",
      "Running Monte Carlo simulation number 260.\n",
      "Running Monte Carlo simulation number 270.\n",
      "Running Monte Carlo simulation number 280.\n",
      "Running Monte Carlo simulation number 290.\n",
      "Running Monte Carlo simulation number 300.\n",
      "Running Monte Carlo simulation number 310.\n",
      "Running Monte Carlo simulation number 320.\n",
      "Running Monte Carlo simulation number 330.\n",
      "Running Monte Carlo simulation number 340.\n",
      "Running Monte Carlo simulation number 350.\n",
      "Running Monte Carlo simulation number 360.\n",
      "Running Monte Carlo simulation number 370.\n",
      "Running Monte Carlo simulation number 380.\n",
      "Running Monte Carlo simulation number 390.\n",
      "Running Monte Carlo simulation number 400.\n",
      "Running Monte Carlo simulation number 410.\n",
      "Running Monte Carlo simulation number 420.\n",
      "Running Monte Carlo simulation number 430.\n",
      "Running Monte Carlo simulation number 440.\n",
      "Running Monte Carlo simulation number 450.\n",
      "Running Monte Carlo simulation number 460.\n",
      "Running Monte Carlo simulation number 470.\n",
      "Running Monte Carlo simulation number 480.\n",
      "Running Monte Carlo simulation number 490.\n"
     ]
    },
    {
     "output_type": "execute_result",
     "data": {
      "text/plain": [
       "             0           1           2           3           4           5    \\\n",
       "0       1.000000    1.000000    1.000000    1.000000    1.000000    1.000000   \n",
       "1       0.999476    1.001412    1.003353    1.001670    1.005501    1.004443   \n",
       "2       0.996714    1.010236    1.007714    1.003902    0.999139    1.008203   \n",
       "3       0.997850    1.007540    1.010179    1.013885    1.000215    1.016379   \n",
       "4       1.002549    1.017449    1.012192    1.015760    0.995863    1.027433   \n",
       "...          ...         ...         ...         ...         ...         ...   \n",
       "7556  296.246343  413.089654  223.823740  828.567837  267.051435  342.285318   \n",
       "7557  295.412983  412.569329  223.662454  826.681862  268.749862  340.176518   \n",
       "7558  295.827008  412.277577  223.783940  821.985196  269.638419  341.147493   \n",
       "7559  295.861498  412.840369  223.719313  824.266102  270.501343  342.828884   \n",
       "7560  295.240367  415.196089  224.510112  829.218300  270.553529  344.455924   \n",
       "\n",
       "             6           7           8           9    ...         490  \\\n",
       "0       1.000000    1.000000    1.000000    1.000000  ...    1.000000   \n",
       "1       1.003245    1.006964    1.002762    0.996513  ...    1.004090   \n",
       "2       1.000638    1.004769    0.995953    0.997753  ...    1.013771   \n",
       "3       0.996128    1.009400    0.995437    0.997295  ...    1.011583   \n",
       "4       0.995485    1.005751    1.000025    1.005439  ...    1.018789   \n",
       "...          ...         ...         ...         ...  ...         ...   \n",
       "7556  267.966768  518.747359  298.535009  447.456037  ...  219.890877   \n",
       "7557  267.312248  518.931628  295.743405  448.643421  ...  219.884420   \n",
       "7558  265.187482  519.587441  292.868811  451.635726  ...  219.142458   \n",
       "7559  266.225590  516.373236  292.502593  456.255458  ...  219.424152   \n",
       "7560  264.507597  514.413148  293.097755  455.326427  ...  219.483366   \n",
       "\n",
       "             491         492         493         494         495         496  \\\n",
       "0       1.000000    1.000000    1.000000    1.000000    1.000000    1.000000   \n",
       "1       0.998891    1.005183    0.993574    1.003655    1.001486    0.995538   \n",
       "2       0.996469    1.007224    1.000086    1.006891    0.998794    1.003752   \n",
       "3       1.008906    1.004637    1.004565    1.003002    0.996737    1.002143   \n",
       "4       1.010493    1.004416    1.002990    1.012985    0.998853    1.010922   \n",
       "...          ...         ...         ...         ...         ...         ...   \n",
       "7556  252.418138  444.950556  166.607487  420.297174  278.288140  269.770647   \n",
       "7557  252.883693  446.721626  169.213020  424.262550  275.892341  270.631810   \n",
       "7558  252.351891  448.232624  169.357598  429.124952  276.605835  272.065097   \n",
       "7559  252.315162  450.622203  167.903532  427.372208  277.603342  271.848841   \n",
       "7560  250.698439  448.722167  167.842998  427.185936  278.446496  270.968936   \n",
       "\n",
       "             497         498         499  \n",
       "0       1.000000    1.000000    1.000000  \n",
       "1       0.996903    1.006579    1.008524  \n",
       "2       0.989435    1.008327    1.006782  \n",
       "3       0.984466    1.015367    1.008297  \n",
       "4       0.984907    1.019218    1.016062  \n",
       "...          ...         ...         ...  \n",
       "7556  231.384803  196.494310  214.337060  \n",
       "7557  231.106505  196.198777  213.177222  \n",
       "7558  232.505728  195.612079  213.252664  \n",
       "7559  230.069392  195.927858  211.863492  \n",
       "7560  228.217620  194.514930  212.498784  \n",
       "\n",
       "[7561 rows x 500 columns]"
      ],
      "text/html": [
       "<div>\n",
       "<style scoped>\n",
       "    .dataframe tbody tr th:only-of-type {\n",
       "        vertical-align: middle;\n",
       "    }\n",
       "\n",
       "    .dataframe tbody tr th {\n",
       "        vertical-align: top;\n",
       "    }\n",
       "\n",
       "    .dataframe thead th {\n",
       "        text-align: right;\n",
       "    }\n",
       "</style>\n",
       "<table border=\"1\" class=\"dataframe\">\n",
       "  <thead>\n",
       "    <tr style=\"text-align: right;\">\n",
       "      <th></th>\n",
       "      <th>0</th>\n",
       "      <th>1</th>\n",
       "      <th>2</th>\n",
       "      <th>3</th>\n",
       "      <th>4</th>\n",
       "      <th>5</th>\n",
       "      <th>6</th>\n",
       "      <th>7</th>\n",
       "      <th>8</th>\n",
       "      <th>9</th>\n",
       "      <th>...</th>\n",
       "      <th>490</th>\n",
       "      <th>491</th>\n",
       "      <th>492</th>\n",
       "      <th>493</th>\n",
       "      <th>494</th>\n",
       "      <th>495</th>\n",
       "      <th>496</th>\n",
       "      <th>497</th>\n",
       "      <th>498</th>\n",
       "      <th>499</th>\n",
       "    </tr>\n",
       "  </thead>\n",
       "  <tbody>\n",
       "    <tr>\n",
       "      <th>0</th>\n",
       "      <td>1.000000</td>\n",
       "      <td>1.000000</td>\n",
       "      <td>1.000000</td>\n",
       "      <td>1.000000</td>\n",
       "      <td>1.000000</td>\n",
       "      <td>1.000000</td>\n",
       "      <td>1.000000</td>\n",
       "      <td>1.000000</td>\n",
       "      <td>1.000000</td>\n",
       "      <td>1.000000</td>\n",
       "      <td>...</td>\n",
       "      <td>1.000000</td>\n",
       "      <td>1.000000</td>\n",
       "      <td>1.000000</td>\n",
       "      <td>1.000000</td>\n",
       "      <td>1.000000</td>\n",
       "      <td>1.000000</td>\n",
       "      <td>1.000000</td>\n",
       "      <td>1.000000</td>\n",
       "      <td>1.000000</td>\n",
       "      <td>1.000000</td>\n",
       "    </tr>\n",
       "    <tr>\n",
       "      <th>1</th>\n",
       "      <td>0.999476</td>\n",
       "      <td>1.001412</td>\n",
       "      <td>1.003353</td>\n",
       "      <td>1.001670</td>\n",
       "      <td>1.005501</td>\n",
       "      <td>1.004443</td>\n",
       "      <td>1.003245</td>\n",
       "      <td>1.006964</td>\n",
       "      <td>1.002762</td>\n",
       "      <td>0.996513</td>\n",
       "      <td>...</td>\n",
       "      <td>1.004090</td>\n",
       "      <td>0.998891</td>\n",
       "      <td>1.005183</td>\n",
       "      <td>0.993574</td>\n",
       "      <td>1.003655</td>\n",
       "      <td>1.001486</td>\n",
       "      <td>0.995538</td>\n",
       "      <td>0.996903</td>\n",
       "      <td>1.006579</td>\n",
       "      <td>1.008524</td>\n",
       "    </tr>\n",
       "    <tr>\n",
       "      <th>2</th>\n",
       "      <td>0.996714</td>\n",
       "      <td>1.010236</td>\n",
       "      <td>1.007714</td>\n",
       "      <td>1.003902</td>\n",
       "      <td>0.999139</td>\n",
       "      <td>1.008203</td>\n",
       "      <td>1.000638</td>\n",
       "      <td>1.004769</td>\n",
       "      <td>0.995953</td>\n",
       "      <td>0.997753</td>\n",
       "      <td>...</td>\n",
       "      <td>1.013771</td>\n",
       "      <td>0.996469</td>\n",
       "      <td>1.007224</td>\n",
       "      <td>1.000086</td>\n",
       "      <td>1.006891</td>\n",
       "      <td>0.998794</td>\n",
       "      <td>1.003752</td>\n",
       "      <td>0.989435</td>\n",
       "      <td>1.008327</td>\n",
       "      <td>1.006782</td>\n",
       "    </tr>\n",
       "    <tr>\n",
       "      <th>3</th>\n",
       "      <td>0.997850</td>\n",
       "      <td>1.007540</td>\n",
       "      <td>1.010179</td>\n",
       "      <td>1.013885</td>\n",
       "      <td>1.000215</td>\n",
       "      <td>1.016379</td>\n",
       "      <td>0.996128</td>\n",
       "      <td>1.009400</td>\n",
       "      <td>0.995437</td>\n",
       "      <td>0.997295</td>\n",
       "      <td>...</td>\n",
       "      <td>1.011583</td>\n",
       "      <td>1.008906</td>\n",
       "      <td>1.004637</td>\n",
       "      <td>1.004565</td>\n",
       "      <td>1.003002</td>\n",
       "      <td>0.996737</td>\n",
       "      <td>1.002143</td>\n",
       "      <td>0.984466</td>\n",
       "      <td>1.015367</td>\n",
       "      <td>1.008297</td>\n",
       "    </tr>\n",
       "    <tr>\n",
       "      <th>4</th>\n",
       "      <td>1.002549</td>\n",
       "      <td>1.017449</td>\n",
       "      <td>1.012192</td>\n",
       "      <td>1.015760</td>\n",
       "      <td>0.995863</td>\n",
       "      <td>1.027433</td>\n",
       "      <td>0.995485</td>\n",
       "      <td>1.005751</td>\n",
       "      <td>1.000025</td>\n",
       "      <td>1.005439</td>\n",
       "      <td>...</td>\n",
       "      <td>1.018789</td>\n",
       "      <td>1.010493</td>\n",
       "      <td>1.004416</td>\n",
       "      <td>1.002990</td>\n",
       "      <td>1.012985</td>\n",
       "      <td>0.998853</td>\n",
       "      <td>1.010922</td>\n",
       "      <td>0.984907</td>\n",
       "      <td>1.019218</td>\n",
       "      <td>1.016062</td>\n",
       "    </tr>\n",
       "    <tr>\n",
       "      <th>...</th>\n",
       "      <td>...</td>\n",
       "      <td>...</td>\n",
       "      <td>...</td>\n",
       "      <td>...</td>\n",
       "      <td>...</td>\n",
       "      <td>...</td>\n",
       "      <td>...</td>\n",
       "      <td>...</td>\n",
       "      <td>...</td>\n",
       "      <td>...</td>\n",
       "      <td>...</td>\n",
       "      <td>...</td>\n",
       "      <td>...</td>\n",
       "      <td>...</td>\n",
       "      <td>...</td>\n",
       "      <td>...</td>\n",
       "      <td>...</td>\n",
       "      <td>...</td>\n",
       "      <td>...</td>\n",
       "      <td>...</td>\n",
       "      <td>...</td>\n",
       "    </tr>\n",
       "    <tr>\n",
       "      <th>7556</th>\n",
       "      <td>296.246343</td>\n",
       "      <td>413.089654</td>\n",
       "      <td>223.823740</td>\n",
       "      <td>828.567837</td>\n",
       "      <td>267.051435</td>\n",
       "      <td>342.285318</td>\n",
       "      <td>267.966768</td>\n",
       "      <td>518.747359</td>\n",
       "      <td>298.535009</td>\n",
       "      <td>447.456037</td>\n",
       "      <td>...</td>\n",
       "      <td>219.890877</td>\n",
       "      <td>252.418138</td>\n",
       "      <td>444.950556</td>\n",
       "      <td>166.607487</td>\n",
       "      <td>420.297174</td>\n",
       "      <td>278.288140</td>\n",
       "      <td>269.770647</td>\n",
       "      <td>231.384803</td>\n",
       "      <td>196.494310</td>\n",
       "      <td>214.337060</td>\n",
       "    </tr>\n",
       "    <tr>\n",
       "      <th>7557</th>\n",
       "      <td>295.412983</td>\n",
       "      <td>412.569329</td>\n",
       "      <td>223.662454</td>\n",
       "      <td>826.681862</td>\n",
       "      <td>268.749862</td>\n",
       "      <td>340.176518</td>\n",
       "      <td>267.312248</td>\n",
       "      <td>518.931628</td>\n",
       "      <td>295.743405</td>\n",
       "      <td>448.643421</td>\n",
       "      <td>...</td>\n",
       "      <td>219.884420</td>\n",
       "      <td>252.883693</td>\n",
       "      <td>446.721626</td>\n",
       "      <td>169.213020</td>\n",
       "      <td>424.262550</td>\n",
       "      <td>275.892341</td>\n",
       "      <td>270.631810</td>\n",
       "      <td>231.106505</td>\n",
       "      <td>196.198777</td>\n",
       "      <td>213.177222</td>\n",
       "    </tr>\n",
       "    <tr>\n",
       "      <th>7558</th>\n",
       "      <td>295.827008</td>\n",
       "      <td>412.277577</td>\n",
       "      <td>223.783940</td>\n",
       "      <td>821.985196</td>\n",
       "      <td>269.638419</td>\n",
       "      <td>341.147493</td>\n",
       "      <td>265.187482</td>\n",
       "      <td>519.587441</td>\n",
       "      <td>292.868811</td>\n",
       "      <td>451.635726</td>\n",
       "      <td>...</td>\n",
       "      <td>219.142458</td>\n",
       "      <td>252.351891</td>\n",
       "      <td>448.232624</td>\n",
       "      <td>169.357598</td>\n",
       "      <td>429.124952</td>\n",
       "      <td>276.605835</td>\n",
       "      <td>272.065097</td>\n",
       "      <td>232.505728</td>\n",
       "      <td>195.612079</td>\n",
       "      <td>213.252664</td>\n",
       "    </tr>\n",
       "    <tr>\n",
       "      <th>7559</th>\n",
       "      <td>295.861498</td>\n",
       "      <td>412.840369</td>\n",
       "      <td>223.719313</td>\n",
       "      <td>824.266102</td>\n",
       "      <td>270.501343</td>\n",
       "      <td>342.828884</td>\n",
       "      <td>266.225590</td>\n",
       "      <td>516.373236</td>\n",
       "      <td>292.502593</td>\n",
       "      <td>456.255458</td>\n",
       "      <td>...</td>\n",
       "      <td>219.424152</td>\n",
       "      <td>252.315162</td>\n",
       "      <td>450.622203</td>\n",
       "      <td>167.903532</td>\n",
       "      <td>427.372208</td>\n",
       "      <td>277.603342</td>\n",
       "      <td>271.848841</td>\n",
       "      <td>230.069392</td>\n",
       "      <td>195.927858</td>\n",
       "      <td>211.863492</td>\n",
       "    </tr>\n",
       "    <tr>\n",
       "      <th>7560</th>\n",
       "      <td>295.240367</td>\n",
       "      <td>415.196089</td>\n",
       "      <td>224.510112</td>\n",
       "      <td>829.218300</td>\n",
       "      <td>270.553529</td>\n",
       "      <td>344.455924</td>\n",
       "      <td>264.507597</td>\n",
       "      <td>514.413148</td>\n",
       "      <td>293.097755</td>\n",
       "      <td>455.326427</td>\n",
       "      <td>...</td>\n",
       "      <td>219.483366</td>\n",
       "      <td>250.698439</td>\n",
       "      <td>448.722167</td>\n",
       "      <td>167.842998</td>\n",
       "      <td>427.185936</td>\n",
       "      <td>278.446496</td>\n",
       "      <td>270.968936</td>\n",
       "      <td>228.217620</td>\n",
       "      <td>194.514930</td>\n",
       "      <td>212.498784</td>\n",
       "    </tr>\n",
       "  </tbody>\n",
       "</table>\n",
       "<p>7561 rows × 500 columns</p>\n",
       "</div>"
      ]
     },
     "metadata": {},
     "execution_count": 50
    }
   ],
   "metadata": {}
  },
  {
   "cell_type": "code",
   "execution_count": 51,
   "source": [
    "# Visualize the 30-year Monte Carlo simulation by creating an\r\n",
    "# overlay line plot\r\n",
    "spy_line_plot = MC_spy_30.plot_simulation()"
   ],
   "outputs": [
    {
     "output_type": "display_data",
     "data": {
      "text/plain": [
       "<Figure size 432x288 with 1 Axes>"
      ],
      "image/png": "[encoded data removed]"
     },
     "metadata": {
      "needs_background": "light"
     }
    }
   ],
   "metadata": {}
  },
  {
   "cell_type": "markdown",
   "source": [
    "#### Step 3: Plot the probability distribution of the Monte Carlo simulation."
   ],
   "metadata": {}
  },
  {
   "cell_type": "code",
   "execution_count": 52,
   "source": [
    "# Visualize the probability distribution of the 30-year Monte Carlo simulation \r\n",
    "# by plotting a histogram\r\n",
    "spy_dist_plot = MC_spy_30.plot_distribution()\r\n"
   ],
   "outputs": [
    {
     "output_type": "display_data",
     "data": {
      "text/plain": [
       "<Figure size 432x288 with 1 Axes>"
      ],
      "image/png": "[encoded data removed]"
     },
     "metadata": {
      "needs_background": "light"
     }
    }
   ],
   "metadata": {}
  },
  {
   "cell_type": "markdown",
   "source": [
    "#### Step 4: Generate the summary statistics for the Monte Carlo simulation."
   ],
   "metadata": {}
  },
  {
   "cell_type": "code",
   "execution_count": 53,
   "source": [
    "# Generate summary statistics from the 30-year Monte Carlo simulation results\r\n",
    "# Save the results as a variable\r\n",
    "spy_30_tbl = MC_spy_30.summarize_cumulative_return()\r\n",
    "\r\n",
    "\r\n",
    "# Review the 30-year Monte Carlo summary statistics\r\n",
    "print(spy_30_tbl)"
   ],
   "outputs": [
    {
     "output_type": "stream",
     "name": "stdout",
     "text": [
      "count           500.000000\n",
      "mean            297.639607\n",
      "std             139.353728\n",
      "min              67.606084\n",
      "25%             203.633025\n",
      "50%             267.042328\n",
      "75%             361.893030\n",
      "max             941.974153\n",
      "95% CI Lower    119.690211\n",
      "95% CI Upper    673.900836\n",
      "Name: 7560, dtype: float64\n"
     ]
    }
   ],
   "metadata": {}
  },
  {
   "cell_type": "markdown",
   "source": [
    "### Analyze the Retirement Portfolio Forecasts\r\n",
    "\r\n",
    "Using the current value of only the stock and bond portion of the member's portfolio and the summary statistics that you generated from the Monte Carlo simulation, answer the following question in your Jupyter notebook:\r\n",
    "\r\n",
    "-  What are the lower and upper bounds for the expected value of the portfolio with a 95% confidence interval?\r\n",
    "-  The lower bounds for the stock and bond portion of the portfolio is 125.93\r\n",
    "-  The upper bounds for the stock and bond portion of the portfolio is 654.65\r\n"
   ],
   "metadata": {}
  },
  {
   "cell_type": "code",
   "execution_count": 54,
   "source": [
    "# Print the current balance of the stock and bond portion of the members portfolio\r\n",
    "print(f\"${total_stocks_bonds:0.2f}\")\r\n"
   ],
   "outputs": [
    {
     "output_type": "stream",
     "name": "stdout",
     "text": [
      "$71134.20\n"
     ]
    }
   ],
   "metadata": {}
  },
  {
   "cell_type": "code",
   "execution_count": 55,
   "source": [
    "# Use the lower and upper `95%` confidence intervals to calculate the range of the possible outcomes for the current stock/bond portfolio\r\n",
    "ci_lower_thirty_cumulative_return = round(spy_30_tbl[8]*total_stocks_bonds,2)\r\n",
    "ci_upper_thirty_cumulative_return = round(spy_30_tbl[9]*total_stocks_bonds,2)\r\n",
    "\r\n",
    "# Print the result of your calculations\r\n",
    "print(f\"There is a 95% chance that an initial investment of ${total_stocks_bonds:0.2F} in the portfolio\"\r\n",
    "      f\" over the next 30 years will end within the range of\"\r\n",
    "      f\" ${ci_lower_thirty_cumulative_return:0.2f} and ${ci_upper_thirty_cumulative_return:0.2f}\")\r\n"
   ],
   "outputs": [
    {
     "output_type": "stream",
     "name": "stdout",
     "text": [
      "There is a 95% chance that an initial investment of $71134.20 in the portfolio over the next 30 years will end within the range of $8514067.39 and $47937396.84\n"
     ]
    }
   ],
   "metadata": {}
  },
  {
   "cell_type": "markdown",
   "source": [
    "### Forecast Cumulative Returns in 10 Years\n",
    "\n",
    "The CTO of the credit union is impressed with your work on these planning tools but wonders if 30 years is a long time to wait until retirement. So, your next task is to adjust the retirement portfolio and run a new Monte Carlo simulation to find out if the changes will allow members to retire earlier.\n",
    "\n",
    "For this new Monte Carlo simulation, do the following: \n",
    "\n",
    "- Forecast the cumulative returns for 10 years from now. Because of the shortened investment horizon (30 years to 10 years), the portfolio needs to invest more heavily in the riskier asset&mdash;that is, stock&mdash;to help accumulate wealth for retirement. \n",
    "\n",
    "- Adjust the weights of the retirement portfolio so that the composition for the Monte Carlo simulation consists of 20% bonds and 80% stocks. \n",
    "\n",
    "- Run the simulation over 500 samples, and use the same data that the API call to Alpaca generated.\n",
    "\n",
    "- Based on the new Monte Carlo simulation, answer the following questions in your Jupyter notebook:\n",
    "\n",
    "    - Using the current value of only the stock and bond portion of the member's portfolio and the summary statistics that you generated from the new Monte Carlo simulation, what are the lower and upper bounds for the expected value of the portfolio (with the new weights) with a 95% confidence interval?\n",
    "\n",
    "    - Will weighting the portfolio more heavily toward stocks allow the credit union members to retire after only 10 years?\n"
   ],
   "metadata": {}
  },
  {
   "cell_type": "code",
   "execution_count": 56,
   "source": [
    "# Configure a Monte Carlo simulation to forecast 10 years cumulative returns\r\n",
    "# The weights should be split 20% to AGG and 80% to SPY.\r\n",
    "# Run 500 samples.\r\n",
    "MC_spy_10 = MCSimulation(\r\n",
    "    portfolio_data= stock_df, \r\n",
    "    weights=[.20,.80],\r\n",
    "    num_simulation=500,\r\n",
    "    num_trading_days= 252*10\r\n",
    ")\r\n",
    "\r\n",
    "\r\n",
    "# Review the simulation input data\r\n",
    "MC_spy_10.portfolio_data.head()\r\n"
   ],
   "outputs": [
    {
     "output_type": "execute_result",
     "data": {
      "text/plain": [
       "                              AGG                                        \\\n",
       "                             open      high       low   close    volume   \n",
       "time                                                                      \n",
       "2021-02-22 00:00:00-05:00  115.76  115.8662  115.4800  115.49   4704520   \n",
       "2021-02-23 00:00:00-05:00  115.75  115.7500  115.2700  115.52   5373535   \n",
       "2021-02-24 00:00:00-05:00  115.06  115.5000  115.0100  115.47   6131453   \n",
       "2021-02-25 00:00:00-05:00  115.01  115.2900  114.2000  114.41  14520445   \n",
       "2021-02-26 00:00:00-05:00  114.96  115.3900  114.5915  115.37   9735524   \n",
       "\n",
       "                                           SPY                             \\\n",
       "                          daily_return    open     high       low   close   \n",
       "time                                                                        \n",
       "2021-02-22 00:00:00-05:00          NaN  387.06  389.620  386.7400  387.11   \n",
       "2021-02-23 00:00:00-05:00     0.000260  384.66  388.945  380.2000  387.50   \n",
       "2021-02-24 00:00:00-05:00    -0.000433  386.33  392.230  385.2700  391.76   \n",
       "2021-02-25 00:00:00-05:00    -0.009180  390.41  391.880  380.7789  382.39   \n",
       "2021-02-26 00:00:00-05:00     0.008391  384.35  385.580  378.2300  380.32   \n",
       "\n",
       "                                                   \n",
       "                              volume daily_return  \n",
       "time                                               \n",
       "2021-02-22 00:00:00-05:00   56604869          NaN  \n",
       "2021-02-23 00:00:00-05:00   98333278     0.001007  \n",
       "2021-02-24 00:00:00-05:00   64527459     0.010994  \n",
       "2021-02-25 00:00:00-05:00  137059806    -0.023918  \n",
       "2021-02-26 00:00:00-05:00  134902084    -0.005413  "
      ],
      "text/html": [
       "<div>\n",
       "<style scoped>\n",
       "    .dataframe tbody tr th:only-of-type {\n",
       "        vertical-align: middle;\n",
       "    }\n",
       "\n",
       "    .dataframe tbody tr th {\n",
       "        vertical-align: top;\n",
       "    }\n",
       "\n",
       "    .dataframe thead tr th {\n",
       "        text-align: left;\n",
       "    }\n",
       "\n",
       "    .dataframe thead tr:last-of-type th {\n",
       "        text-align: right;\n",
       "    }\n",
       "</style>\n",
       "<table border=\"1\" class=\"dataframe\">\n",
       "  <thead>\n",
       "    <tr>\n",
       "      <th></th>\n",
       "      <th colspan=\"6\" halign=\"left\">AGG</th>\n",
       "      <th colspan=\"6\" halign=\"left\">SPY</th>\n",
       "    </tr>\n",
       "    <tr>\n",
       "      <th></th>\n",
       "      <th>open</th>\n",
       "      <th>high</th>\n",
       "      <th>low</th>\n",
       "      <th>close</th>\n",
       "      <th>volume</th>\n",
       "      <th>daily_return</th>\n",
       "      <th>open</th>\n",
       "      <th>high</th>\n",
       "      <th>low</th>\n",
       "      <th>close</th>\n",
       "      <th>volume</th>\n",
       "      <th>daily_return</th>\n",
       "    </tr>\n",
       "    <tr>\n",
       "      <th>time</th>\n",
       "      <th></th>\n",
       "      <th></th>\n",
       "      <th></th>\n",
       "      <th></th>\n",
       "      <th></th>\n",
       "      <th></th>\n",
       "      <th></th>\n",
       "      <th></th>\n",
       "      <th></th>\n",
       "      <th></th>\n",
       "      <th></th>\n",
       "      <th></th>\n",
       "    </tr>\n",
       "  </thead>\n",
       "  <tbody>\n",
       "    <tr>\n",
       "      <th>2021-02-22 00:00:00-05:00</th>\n",
       "      <td>115.76</td>\n",
       "      <td>115.8662</td>\n",
       "      <td>115.4800</td>\n",
       "      <td>115.49</td>\n",
       "      <td>4704520</td>\n",
       "      <td>NaN</td>\n",
       "      <td>387.06</td>\n",
       "      <td>389.620</td>\n",
       "      <td>386.7400</td>\n",
       "      <td>387.11</td>\n",
       "      <td>56604869</td>\n",
       "      <td>NaN</td>\n",
       "    </tr>\n",
       "    <tr>\n",
       "      <th>2021-02-23 00:00:00-05:00</th>\n",
       "      <td>115.75</td>\n",
       "      <td>115.7500</td>\n",
       "      <td>115.2700</td>\n",
       "      <td>115.52</td>\n",
       "      <td>5373535</td>\n",
       "      <td>0.000260</td>\n",
       "      <td>384.66</td>\n",
       "      <td>388.945</td>\n",
       "      <td>380.2000</td>\n",
       "      <td>387.50</td>\n",
       "      <td>98333278</td>\n",
       "      <td>0.001007</td>\n",
       "    </tr>\n",
       "    <tr>\n",
       "      <th>2021-02-24 00:00:00-05:00</th>\n",
       "      <td>115.06</td>\n",
       "      <td>115.5000</td>\n",
       "      <td>115.0100</td>\n",
       "      <td>115.47</td>\n",
       "      <td>6131453</td>\n",
       "      <td>-0.000433</td>\n",
       "      <td>386.33</td>\n",
       "      <td>392.230</td>\n",
       "      <td>385.2700</td>\n",
       "      <td>391.76</td>\n",
       "      <td>64527459</td>\n",
       "      <td>0.010994</td>\n",
       "    </tr>\n",
       "    <tr>\n",
       "      <th>2021-02-25 00:00:00-05:00</th>\n",
       "      <td>115.01</td>\n",
       "      <td>115.2900</td>\n",
       "      <td>114.2000</td>\n",
       "      <td>114.41</td>\n",
       "      <td>14520445</td>\n",
       "      <td>-0.009180</td>\n",
       "      <td>390.41</td>\n",
       "      <td>391.880</td>\n",
       "      <td>380.7789</td>\n",
       "      <td>382.39</td>\n",
       "      <td>137059806</td>\n",
       "      <td>-0.023918</td>\n",
       "    </tr>\n",
       "    <tr>\n",
       "      <th>2021-02-26 00:00:00-05:00</th>\n",
       "      <td>114.96</td>\n",
       "      <td>115.3900</td>\n",
       "      <td>114.5915</td>\n",
       "      <td>115.37</td>\n",
       "      <td>9735524</td>\n",
       "      <td>0.008391</td>\n",
       "      <td>384.35</td>\n",
       "      <td>385.580</td>\n",
       "      <td>378.2300</td>\n",
       "      <td>380.32</td>\n",
       "      <td>134902084</td>\n",
       "      <td>-0.005413</td>\n",
       "    </tr>\n",
       "  </tbody>\n",
       "</table>\n",
       "</div>"
      ]
     },
     "metadata": {},
     "execution_count": 56
    }
   ],
   "metadata": {}
  },
  {
   "cell_type": "code",
   "execution_count": 57,
   "source": [
    "# Run the Monte Carlo simulation to forecast 10 years cumulative returns\r\n",
    "MC_spy_10.calc_cumulative_return()"
   ],
   "outputs": [
    {
     "output_type": "stream",
     "name": "stdout",
     "text": [
      "Running Monte Carlo simulation number 0.\n",
      "Running Monte Carlo simulation number 10.\n",
      "Running Monte Carlo simulation number 20.\n",
      "Running Monte Carlo simulation number 30.\n",
      "Running Monte Carlo simulation number 40.\n",
      "Running Monte Carlo simulation number 50.\n",
      "Running Monte Carlo simulation number 60.\n",
      "Running Monte Carlo simulation number 70.\n",
      "Running Monte Carlo simulation number 80.\n",
      "Running Monte Carlo simulation number 90.\n",
      "Running Monte Carlo simulation number 100.\n",
      "Running Monte Carlo simulation number 110.\n",
      "Running Monte Carlo simulation number 120.\n",
      "Running Monte Carlo simulation number 130.\n",
      "Running Monte Carlo simulation number 140.\n",
      "Running Monte Carlo simulation number 150.\n",
      "Running Monte Carlo simulation number 160.\n",
      "Running Monte Carlo simulation number 170.\n",
      "Running Monte Carlo simulation number 180.\n",
      "Running Monte Carlo simulation number 190.\n",
      "Running Monte Carlo simulation number 200.\n",
      "Running Monte Carlo simulation number 210.\n",
      "Running Monte Carlo simulation number 220.\n",
      "Running Monte Carlo simulation number 230.\n",
      "Running Monte Carlo simulation number 240.\n",
      "Running Monte Carlo simulation number 250.\n",
      "Running Monte Carlo simulation number 260.\n",
      "Running Monte Carlo simulation number 270.\n",
      "Running Monte Carlo simulation number 280.\n",
      "Running Monte Carlo simulation number 290.\n",
      "Running Monte Carlo simulation number 300.\n",
      "Running Monte Carlo simulation number 310.\n",
      "Running Monte Carlo simulation number 320.\n",
      "Running Monte Carlo simulation number 330.\n",
      "Running Monte Carlo simulation number 340.\n",
      "Running Monte Carlo simulation number 350.\n",
      "Running Monte Carlo simulation number 360.\n",
      "Running Monte Carlo simulation number 370.\n",
      "Running Monte Carlo simulation number 380.\n",
      "Running Monte Carlo simulation number 390.\n",
      "Running Monte Carlo simulation number 400.\n",
      "Running Monte Carlo simulation number 410.\n",
      "Running Monte Carlo simulation number 420.\n",
      "Running Monte Carlo simulation number 430.\n",
      "Running Monte Carlo simulation number 440.\n",
      "Running Monte Carlo simulation number 450.\n",
      "Running Monte Carlo simulation number 460.\n",
      "Running Monte Carlo simulation number 470.\n",
      "Running Monte Carlo simulation number 480.\n",
      "Running Monte Carlo simulation number 490.\n"
     ]
    },
    {
     "output_type": "execute_result",
     "data": {
      "text/plain": [
       "           0          1          2          3         4          5    \\\n",
       "0     1.000000   1.000000   1.000000   1.000000  1.000000   1.000000   \n",
       "1     0.998501   1.000589   1.004873   0.994812  1.002759   0.990354   \n",
       "2     0.999840   0.991091   0.989990   0.988334  1.012863   0.988265   \n",
       "3     0.996163   1.001044   0.994473   0.999642  1.018767   0.990874   \n",
       "4     0.998657   1.008662   0.996809   1.004764  1.029175   0.995790   \n",
       "...        ...        ...        ...        ...       ...        ...   \n",
       "2516  6.307536  10.407900  11.476301  10.381222  8.987076  10.836838   \n",
       "2517  6.276969  10.495410  11.623284  10.415788  9.032601  10.798451   \n",
       "2518  6.296784  10.480735  11.632716  10.473315  9.045321  10.729328   \n",
       "2519  6.287350  10.449665  11.612489  10.558696  9.119451  10.697042   \n",
       "2520  6.298357  10.413622  11.583656  10.498767  9.142833  10.910381   \n",
       "\n",
       "            6         7          8          9    ...        490        491  \\\n",
       "0      1.000000  1.000000   1.000000   1.000000  ...   1.000000   1.000000   \n",
       "1      1.002168  1.004058   0.998779   1.004371  ...   1.002250   0.988124   \n",
       "2      1.002706  0.996963   0.991944   1.009414  ...   1.004502   0.988066   \n",
       "3      1.017005  0.986277   0.995948   0.994109  ...   1.010444   0.989824   \n",
       "4      1.026085  0.996948   1.000044   0.993160  ...   1.017096   0.983657   \n",
       "...         ...       ...        ...        ...  ...        ...        ...   \n",
       "2516  13.047277  7.162680   9.994319  16.604962  ...  11.703755  16.328742   \n",
       "2517  13.139799  7.158885  10.021809  16.608033  ...  11.805262  16.237413   \n",
       "2518  13.074467  7.146224  10.080891  16.543718  ...  11.901812  16.339157   \n",
       "2519  13.103474  7.162864  10.081626  16.589116  ...  11.849527  16.514509   \n",
       "2520  12.978081  7.226661   9.995387  16.549147  ...  11.962748  16.403597   \n",
       "\n",
       "            492       493        494       495       496        497  \\\n",
       "0      1.000000  1.000000   1.000000  1.000000  1.000000   1.000000   \n",
       "1      0.996625  0.992834   0.998263  1.009196  0.994371   1.002854   \n",
       "2      0.992982  0.992614   1.006702  1.003963  0.989162   1.009320   \n",
       "3      0.991638  0.984422   1.000219  1.006468  0.977957   1.004245   \n",
       "4      0.994714  0.984008   0.994534  1.004045  0.978326   0.991697   \n",
       "...         ...       ...        ...       ...       ...        ...   \n",
       "2516  12.096533  8.482877  19.647663  8.363992  9.584540  10.218728   \n",
       "2517  12.183704  8.443131  19.610645  8.360878  9.587801  10.271964   \n",
       "2518  12.210548  8.424752  19.647402  8.511672  9.535170  10.258874   \n",
       "2519  12.136578  8.456962  19.508063  8.465015  9.487686  10.268046   \n",
       "2520  12.168764  8.550488  19.519714  8.503983  9.553488  10.313089   \n",
       "\n",
       "            498       499  \n",
       "0      1.000000  1.000000  \n",
       "1      0.995923  1.005714  \n",
       "2      0.998696  0.999881  \n",
       "3      1.000585  0.995329  \n",
       "4      1.010366  0.995580  \n",
       "...         ...       ...  \n",
       "2516  10.041577  5.022314  \n",
       "2517  10.092823  5.049757  \n",
       "2518  10.220464  5.113851  \n",
       "2519  10.309214  5.065631  \n",
       "2520  10.431231  5.056400  \n",
       "\n",
       "[2521 rows x 500 columns]"
      ],
      "text/html": [
       "<div>\n",
       "<style scoped>\n",
       "    .dataframe tbody tr th:only-of-type {\n",
       "        vertical-align: middle;\n",
       "    }\n",
       "\n",
       "    .dataframe tbody tr th {\n",
       "        vertical-align: top;\n",
       "    }\n",
       "\n",
       "    .dataframe thead th {\n",
       "        text-align: right;\n",
       "    }\n",
       "</style>\n",
       "<table border=\"1\" class=\"dataframe\">\n",
       "  <thead>\n",
       "    <tr style=\"text-align: right;\">\n",
       "      <th></th>\n",
       "      <th>0</th>\n",
       "      <th>1</th>\n",
       "      <th>2</th>\n",
       "      <th>3</th>\n",
       "      <th>4</th>\n",
       "      <th>5</th>\n",
       "      <th>6</th>\n",
       "      <th>7</th>\n",
       "      <th>8</th>\n",
       "      <th>9</th>\n",
       "      <th>...</th>\n",
       "      <th>490</th>\n",
       "      <th>491</th>\n",
       "      <th>492</th>\n",
       "      <th>493</th>\n",
       "      <th>494</th>\n",
       "      <th>495</th>\n",
       "      <th>496</th>\n",
       "      <th>497</th>\n",
       "      <th>498</th>\n",
       "      <th>499</th>\n",
       "    </tr>\n",
       "  </thead>\n",
       "  <tbody>\n",
       "    <tr>\n",
       "      <th>0</th>\n",
       "      <td>1.000000</td>\n",
       "      <td>1.000000</td>\n",
       "      <td>1.000000</td>\n",
       "      <td>1.000000</td>\n",
       "      <td>1.000000</td>\n",
       "      <td>1.000000</td>\n",
       "      <td>1.000000</td>\n",
       "      <td>1.000000</td>\n",
       "      <td>1.000000</td>\n",
       "      <td>1.000000</td>\n",
       "      <td>...</td>\n",
       "      <td>1.000000</td>\n",
       "      <td>1.000000</td>\n",
       "      <td>1.000000</td>\n",
       "      <td>1.000000</td>\n",
       "      <td>1.000000</td>\n",
       "      <td>1.000000</td>\n",
       "      <td>1.000000</td>\n",
       "      <td>1.000000</td>\n",
       "      <td>1.000000</td>\n",
       "      <td>1.000000</td>\n",
       "    </tr>\n",
       "    <tr>\n",
       "      <th>1</th>\n",
       "      <td>0.998501</td>\n",
       "      <td>1.000589</td>\n",
       "      <td>1.004873</td>\n",
       "      <td>0.994812</td>\n",
       "      <td>1.002759</td>\n",
       "      <td>0.990354</td>\n",
       "      <td>1.002168</td>\n",
       "      <td>1.004058</td>\n",
       "      <td>0.998779</td>\n",
       "      <td>1.004371</td>\n",
       "      <td>...</td>\n",
       "      <td>1.002250</td>\n",
       "      <td>0.988124</td>\n",
       "      <td>0.996625</td>\n",
       "      <td>0.992834</td>\n",
       "      <td>0.998263</td>\n",
       "      <td>1.009196</td>\n",
       "      <td>0.994371</td>\n",
       "      <td>1.002854</td>\n",
       "      <td>0.995923</td>\n",
       "      <td>1.005714</td>\n",
       "    </tr>\n",
       "    <tr>\n",
       "      <th>2</th>\n",
       "      <td>0.999840</td>\n",
       "      <td>0.991091</td>\n",
       "      <td>0.989990</td>\n",
       "      <td>0.988334</td>\n",
       "      <td>1.012863</td>\n",
       "      <td>0.988265</td>\n",
       "      <td>1.002706</td>\n",
       "      <td>0.996963</td>\n",
       "      <td>0.991944</td>\n",
       "      <td>1.009414</td>\n",
       "      <td>...</td>\n",
       "      <td>1.004502</td>\n",
       "      <td>0.988066</td>\n",
       "      <td>0.992982</td>\n",
       "      <td>0.992614</td>\n",
       "      <td>1.006702</td>\n",
       "      <td>1.003963</td>\n",
       "      <td>0.989162</td>\n",
       "      <td>1.009320</td>\n",
       "      <td>0.998696</td>\n",
       "      <td>0.999881</td>\n",
       "    </tr>\n",
       "    <tr>\n",
       "      <th>3</th>\n",
       "      <td>0.996163</td>\n",
       "      <td>1.001044</td>\n",
       "      <td>0.994473</td>\n",
       "      <td>0.999642</td>\n",
       "      <td>1.018767</td>\n",
       "      <td>0.990874</td>\n",
       "      <td>1.017005</td>\n",
       "      <td>0.986277</td>\n",
       "      <td>0.995948</td>\n",
       "      <td>0.994109</td>\n",
       "      <td>...</td>\n",
       "      <td>1.010444</td>\n",
       "      <td>0.989824</td>\n",
       "      <td>0.991638</td>\n",
       "      <td>0.984422</td>\n",
       "      <td>1.000219</td>\n",
       "      <td>1.006468</td>\n",
       "      <td>0.977957</td>\n",
       "      <td>1.004245</td>\n",
       "      <td>1.000585</td>\n",
       "      <td>0.995329</td>\n",
       "    </tr>\n",
       "    <tr>\n",
       "      <th>4</th>\n",
       "      <td>0.998657</td>\n",
       "      <td>1.008662</td>\n",
       "      <td>0.996809</td>\n",
       "      <td>1.004764</td>\n",
       "      <td>1.029175</td>\n",
       "      <td>0.995790</td>\n",
       "      <td>1.026085</td>\n",
       "      <td>0.996948</td>\n",
       "      <td>1.000044</td>\n",
       "      <td>0.993160</td>\n",
       "      <td>...</td>\n",
       "      <td>1.017096</td>\n",
       "      <td>0.983657</td>\n",
       "      <td>0.994714</td>\n",
       "      <td>0.984008</td>\n",
       "      <td>0.994534</td>\n",
       "      <td>1.004045</td>\n",
       "      <td>0.978326</td>\n",
       "      <td>0.991697</td>\n",
       "      <td>1.010366</td>\n",
       "      <td>0.995580</td>\n",
       "    </tr>\n",
       "    <tr>\n",
       "      <th>...</th>\n",
       "      <td>...</td>\n",
       "      <td>...</td>\n",
       "      <td>...</td>\n",
       "      <td>...</td>\n",
       "      <td>...</td>\n",
       "      <td>...</td>\n",
       "      <td>...</td>\n",
       "      <td>...</td>\n",
       "      <td>...</td>\n",
       "      <td>...</td>\n",
       "      <td>...</td>\n",
       "      <td>...</td>\n",
       "      <td>...</td>\n",
       "      <td>...</td>\n",
       "      <td>...</td>\n",
       "      <td>...</td>\n",
       "      <td>...</td>\n",
       "      <td>...</td>\n",
       "      <td>...</td>\n",
       "      <td>...</td>\n",
       "      <td>...</td>\n",
       "    </tr>\n",
       "    <tr>\n",
       "      <th>2516</th>\n",
       "      <td>6.307536</td>\n",
       "      <td>10.407900</td>\n",
       "      <td>11.476301</td>\n",
       "      <td>10.381222</td>\n",
       "      <td>8.987076</td>\n",
       "      <td>10.836838</td>\n",
       "      <td>13.047277</td>\n",
       "      <td>7.162680</td>\n",
       "      <td>9.994319</td>\n",
       "      <td>16.604962</td>\n",
       "      <td>...</td>\n",
       "      <td>11.703755</td>\n",
       "      <td>16.328742</td>\n",
       "      <td>12.096533</td>\n",
       "      <td>8.482877</td>\n",
       "      <td>19.647663</td>\n",
       "      <td>8.363992</td>\n",
       "      <td>9.584540</td>\n",
       "      <td>10.218728</td>\n",
       "      <td>10.041577</td>\n",
       "      <td>5.022314</td>\n",
       "    </tr>\n",
       "    <tr>\n",
       "      <th>2517</th>\n",
       "      <td>6.276969</td>\n",
       "      <td>10.495410</td>\n",
       "      <td>11.623284</td>\n",
       "      <td>10.415788</td>\n",
       "      <td>9.032601</td>\n",
       "      <td>10.798451</td>\n",
       "      <td>13.139799</td>\n",
       "      <td>7.158885</td>\n",
       "      <td>10.021809</td>\n",
       "      <td>16.608033</td>\n",
       "      <td>...</td>\n",
       "      <td>11.805262</td>\n",
       "      <td>16.237413</td>\n",
       "      <td>12.183704</td>\n",
       "      <td>8.443131</td>\n",
       "      <td>19.610645</td>\n",
       "      <td>8.360878</td>\n",
       "      <td>9.587801</td>\n",
       "      <td>10.271964</td>\n",
       "      <td>10.092823</td>\n",
       "      <td>5.049757</td>\n",
       "    </tr>\n",
       "    <tr>\n",
       "      <th>2518</th>\n",
       "      <td>6.296784</td>\n",
       "      <td>10.480735</td>\n",
       "      <td>11.632716</td>\n",
       "      <td>10.473315</td>\n",
       "      <td>9.045321</td>\n",
       "      <td>10.729328</td>\n",
       "      <td>13.074467</td>\n",
       "      <td>7.146224</td>\n",
       "      <td>10.080891</td>\n",
       "      <td>16.543718</td>\n",
       "      <td>...</td>\n",
       "      <td>11.901812</td>\n",
       "      <td>16.339157</td>\n",
       "      <td>12.210548</td>\n",
       "      <td>8.424752</td>\n",
       "      <td>19.647402</td>\n",
       "      <td>8.511672</td>\n",
       "      <td>9.535170</td>\n",
       "      <td>10.258874</td>\n",
       "      <td>10.220464</td>\n",
       "      <td>5.113851</td>\n",
       "    </tr>\n",
       "    <tr>\n",
       "      <th>2519</th>\n",
       "      <td>6.287350</td>\n",
       "      <td>10.449665</td>\n",
       "      <td>11.612489</td>\n",
       "      <td>10.558696</td>\n",
       "      <td>9.119451</td>\n",
       "      <td>10.697042</td>\n",
       "      <td>13.103474</td>\n",
       "      <td>7.162864</td>\n",
       "      <td>10.081626</td>\n",
       "      <td>16.589116</td>\n",
       "      <td>...</td>\n",
       "      <td>11.849527</td>\n",
       "      <td>16.514509</td>\n",
       "      <td>12.136578</td>\n",
       "      <td>8.456962</td>\n",
       "      <td>19.508063</td>\n",
       "      <td>8.465015</td>\n",
       "      <td>9.487686</td>\n",
       "      <td>10.268046</td>\n",
       "      <td>10.309214</td>\n",
       "      <td>5.065631</td>\n",
       "    </tr>\n",
       "    <tr>\n",
       "      <th>2520</th>\n",
       "      <td>6.298357</td>\n",
       "      <td>10.413622</td>\n",
       "      <td>11.583656</td>\n",
       "      <td>10.498767</td>\n",
       "      <td>9.142833</td>\n",
       "      <td>10.910381</td>\n",
       "      <td>12.978081</td>\n",
       "      <td>7.226661</td>\n",
       "      <td>9.995387</td>\n",
       "      <td>16.549147</td>\n",
       "      <td>...</td>\n",
       "      <td>11.962748</td>\n",
       "      <td>16.403597</td>\n",
       "      <td>12.168764</td>\n",
       "      <td>8.550488</td>\n",
       "      <td>19.519714</td>\n",
       "      <td>8.503983</td>\n",
       "      <td>9.553488</td>\n",
       "      <td>10.313089</td>\n",
       "      <td>10.431231</td>\n",
       "      <td>5.056400</td>\n",
       "    </tr>\n",
       "  </tbody>\n",
       "</table>\n",
       "<p>2521 rows × 500 columns</p>\n",
       "</div>"
      ]
     },
     "metadata": {},
     "execution_count": 57
    }
   ],
   "metadata": {}
  },
  {
   "cell_type": "code",
   "execution_count": 58,
   "source": [
    "# Visualize the 10-year Monte Carlo simulation by creating an\r\n",
    "# overlay line plot\r\n",
    "spy_10_plot = MC_spy_10.plot_simulation()\r\n"
   ],
   "outputs": [
    {
     "output_type": "display_data",
     "data": {
      "text/plain": [
       "<Figure size 432x288 with 1 Axes>"
      ],
      "image/png": "[encoded data removed]"
     },
     "metadata": {
      "needs_background": "light"
     }
    }
   ],
   "metadata": {}
  },
  {
   "cell_type": "code",
   "execution_count": 59,
   "source": [
    "# Visualize the probability distribution of the 10-year Monte Carlo simulation \r\n",
    "# by plotting a histogram\r\n",
    "spy_10_dist_plot = MC_spy_10.plot_distribution()"
   ],
   "outputs": [
    {
     "output_type": "display_data",
     "data": {
      "text/plain": [
       "<Figure size 432x288 with 1 Axes>"
      ],
      "image/png": "[encoded data removed]"
     },
     "metadata": {
      "needs_background": "light"
     }
    }
   ],
   "metadata": {}
  },
  {
   "cell_type": "code",
   "execution_count": 60,
   "source": [
    "# Generate summary statistics from the 10-year Monte Carlo simulation results\r\n",
    "# Save the results as a variable\r\n",
    "spy_10_tbl = MC_spy_10.summarize_cumulative_return()\r\n",
    "\r\n",
    "\r\n",
    "# Review the 10-year Monte Carlo summary statistics\r\n",
    "print(spy_10_tbl)"
   ],
   "outputs": [
    {
     "output_type": "stream",
     "name": "stdout",
     "text": [
      "count           500.000000\n",
      "mean             12.270873\n",
      "std               4.187120\n",
      "min               4.434562\n",
      "25%               9.120732\n",
      "50%              11.769367\n",
      "75%              14.750008\n",
      "max              30.887302\n",
      "95% CI Lower      6.216810\n",
      "95% CI Upper     21.952993\n",
      "Name: 2520, dtype: float64\n"
     ]
    }
   ],
   "metadata": {}
  },
  {
   "cell_type": "markdown",
   "source": [
    "### Answer the following questions:"
   ],
   "metadata": {}
  },
  {
   "cell_type": "markdown",
   "source": [
    "#### Question: Using the current value of only the stock and bond portion of the member's portfolio and the summary statistics that you generated from the new Monte Carlo simulation, what are the lower and upper bounds for the expected value of the portfolio (with the new weights) with a 95% confidence interval?"
   ],
   "metadata": {}
  },
  {
   "cell_type": "code",
   "execution_count": null,
   "source": [
    "# Print the current balance of the stock and bond portion of the members portfolio\r\n",
    "# YOUR CODE HERE\r\n"
   ],
   "outputs": [],
   "metadata": {}
  },
  {
   "cell_type": "code",
   "execution_count": null,
   "source": [
    "# Use the lower and upper `95%` confidence intervals to calculate the range of the possible outcomes for the current stock/bond portfolio\r\n",
    "ci_lower_ten_cumulative_return = # YOUR CODE HERE\r\n",
    "ci_upper_ten_cumulative_return = # YOUR CODE HERE\r\n",
    "\r\n",
    "# Print the result of your calculations\r\n",
    "# YOUR CODE HERE\r\n"
   ],
   "outputs": [],
   "metadata": {}
  },
  {
   "cell_type": "markdown",
   "source": [
    "#### Question: Will weighting the portfolio more heavily to stocks allow the credit union members to retire after only 10 years?"
   ],
   "metadata": {}
  },
  {
   "cell_type": "raw",
   "source": [
    "**Answer** # YOUR ANSWER HERE"
   ],
   "metadata": {}
  },
  {
   "cell_type": "code",
   "execution_count": null,
   "source": [],
   "outputs": [],
   "metadata": {}
  }
 ],
 "metadata": {
  "kernelspec": {
   "display_name": "Python (dev)",
   "language": "python",
   "name": "dev"
  },
  "language_info": {
   "codemirror_mode": {
    "name": "ipython",
    "version": 3
   },
   "file_extension": ".py",
   "mimetype": "text/x-python",
   "name": "python",
   "nbconvert_exporter": "python",
   "pygments_lexer": "ipython3",
   "version": "3.7.7"
  }
 },
 "nbformat": 4,
 "nbformat_minor": 4
}