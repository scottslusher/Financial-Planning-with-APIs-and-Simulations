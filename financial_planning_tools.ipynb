{
 "cells": [
  {
   "cell_type": "markdown",
   "source": [
    "# Financial Planning with APIs and Simulations\n",
    "\n",
    "In this Challenge, you’ll create two financial analysis tools by using a single Jupyter notebook:\n",
    "\n",
    "Part 1: A financial planner for emergencies. The members will be able to use this tool to visualize their current savings. The members can then determine if they have enough reserves for an emergency fund.\n",
    "\n",
    "Part 2: A financial planner for retirement. This tool will forecast the performance of their retirement portfolio in 30 years. To do this, the tool will make an Alpaca API call via the Alpaca SDK to get historical price data for use in Monte Carlo simulations.\n",
    "\n",
    "You’ll use the information from the Monte Carlo simulation to answer questions about the portfolio in your Jupyter notebook.\n",
    "\n"
   ],
   "metadata": {}
  },
  {
   "cell_type": "code",
   "execution_count": 1,
   "source": [
    "# Import the required libraries and dependencies\r\n",
    "import os\r\n",
    "import requests\r\n",
    "import json\r\n",
    "import pandas as pd\r\n",
    "from dotenv import load_dotenv\r\n",
    "import alpaca_trade_api as tradeapi\r\n",
    "from MCForecastTools import MCSimulation\r\n",
    "\r\n",
    "%matplotlib inline"
   ],
   "outputs": [],
   "metadata": {}
  },
  {
   "cell_type": "code",
   "execution_count": 2,
   "source": [
    "# Load the environment variables from the .env file\r\n",
    "#by calling the load_dotenv function\r\n",
    "load_dotenv()"
   ],
   "outputs": [
    {
     "output_type": "execute_result",
     "data": {
      "text/plain": [
       "True"
      ]
     },
     "metadata": {},
     "execution_count": 2
    }
   ],
   "metadata": {}
  },
  {
   "cell_type": "markdown",
   "source": [
    "## Part 1: Create a Financial Planner for Emergencies"
   ],
   "metadata": {}
  },
  {
   "cell_type": "markdown",
   "source": [
    "### Evaluate the Cryptocurrency Wallet by Using the Requests Library\n",
    "\n",
    "In this section, you’ll determine the current value of a member’s cryptocurrency wallet. You’ll collect the current prices for the Bitcoin and Ethereum cryptocurrencies by using the Python Requests library. For the prototype, you’ll assume that the member holds the 1.2 Bitcoins (BTC) and 5.3 Ethereum coins (ETH). To do all this, complete the following steps:\n",
    "\n",
    "1. Create a variable named `monthly_income`, and set its value to `12000`.\n",
    "\n",
    "2. Use the Requests library to get the current price (in US dollars) of Bitcoin (BTC) and Ethereum (ETH) by using the API endpoints that the starter code supplies.\n",
    "\n",
    "3. Navigate the JSON response object to access the current price of each coin, and store each in a variable.\n",
    "\n",
    "    > **Hint** Note the specific identifier for each cryptocurrency in the API JSON response. The Bitcoin identifier is `1`, and the Ethereum identifier is `1027`.\n",
    "\n",
    "4. Calculate the value, in US dollars, of the current amount of each cryptocurrency and of the entire cryptocurrency wallet.\n",
    "\n"
   ],
   "metadata": {}
  },
  {
   "cell_type": "code",
   "execution_count": 3,
   "source": [
    "# The current number of coins for each cryptocurrency asset held in the portfolio.\r\n",
    "btc_coins = 1.2\r\n",
    "eth_coins = 5.3"
   ],
   "outputs": [],
   "metadata": {}
  },
  {
   "cell_type": "markdown",
   "source": [
    "#### Step 1: Create a variable named `monthly_income`, and set its value to `12000`."
   ],
   "metadata": {}
  },
  {
   "cell_type": "code",
   "execution_count": 4,
   "source": [
    "# The monthly amount for the member's household income\r\n",
    "monthly_income = 12000\r\n"
   ],
   "outputs": [],
   "metadata": {}
  },
  {
   "cell_type": "markdown",
   "source": [
    "#### Review the endpoint URLs for the API calls to Free Crypto API in order to get the current pricing information for both BTC and ETH."
   ],
   "metadata": {}
  },
  {
   "cell_type": "code",
   "execution_count": 5,
   "source": [
    "# The Free Crypto API Call endpoint URLs for the held cryptocurrency assets\r\n",
    "btc_url = \"https://api.alternative.me/v2/ticker/Bitcoin/?convert=USD\"\r\n",
    "eth_url = \"https://api.alternative.me/v2/ticker/Ethereum/?convert=USD\""
   ],
   "outputs": [],
   "metadata": {}
  },
  {
   "cell_type": "markdown",
   "source": [
    "#### Step 2. Use the Requests library to get the current price (in US dollars) of Bitcoin (BTC) and Ethereum (ETH) by using the API endpoints that the starter code supplied."
   ],
   "metadata": {}
  },
  {
   "cell_type": "code",
   "execution_count": 6,
   "source": [
    "# Using the Python requests library, make an API call to access the current price of BTC\r\n",
    "btc_response = requests.get(btc_url).json()\r\n",
    "\r\n",
    "# Use the json.dumps function to review the response data from the API call\r\n",
    "# Use the indent and sort_keys parameters to make the response object readable\r\n",
    "print(json.dumps(btc_response, indent=4, sort_keys=True))\r\n"
   ],
   "outputs": [
    {
     "output_type": "stream",
     "name": "stdout",
     "text": [
      "{\n",
      "    \"data\": {\n",
      "        \"1\": {\n",
      "            \"circulating_supply\": 18760218,\n",
      "            \"id\": 1,\n",
      "            \"last_updated\": 1626663874,\n",
      "            \"max_supply\": 21000000,\n",
      "            \"name\": \"Bitcoin\",\n",
      "            \"quotes\": {\n",
      "                \"USD\": {\n",
      "                    \"market_cap\": 593303022629,\n",
      "                    \"percent_change_1h\": -0.162157261128707,\n",
      "                    \"percent_change_24h\": -1.94760481806452,\n",
      "                    \"percent_change_7d\": -7.77970524590049,\n",
      "                    \"percentage_change_1h\": -0.162157261128707,\n",
      "                    \"percentage_change_24h\": -1.94760481806452,\n",
      "                    \"percentage_change_7d\": -7.77970524590049,\n",
      "                    \"price\": 31632.0,\n",
      "                    \"volume_24h\": 16367823524\n",
      "                }\n",
      "            },\n",
      "            \"rank\": 1,\n",
      "            \"symbol\": \"BTC\",\n",
      "            \"total_supply\": 18760218,\n",
      "            \"website_slug\": \"bitcoin\"\n",
      "        }\n",
      "    },\n",
      "    \"metadata\": {\n",
      "        \"error\": null,\n",
      "        \"num_cryptocurrencies\": 3123,\n",
      "        \"timestamp\": 1626663874\n",
      "    }\n",
      "}\n"
     ]
    }
   ],
   "metadata": {}
  },
  {
   "cell_type": "code",
   "execution_count": 7,
   "source": [
    "# Using the Python requests library, make an API call to access the current price ETH\r\n",
    "eth_response = requests.get(eth_url).json()\r\n",
    "\r\n",
    "# Use the json.dumps function to review the response data from the API call\r\n",
    "# Use the indent and sort_keys parameters to make the response object readable\r\n",
    "print(json.dumps(eth_response, indent=4, sort_keys=True))\r\n"
   ],
   "outputs": [
    {
     "output_type": "stream",
     "name": "stdout",
     "text": [
      "{\n",
      "    \"data\": {\n",
      "        \"1027\": {\n",
      "            \"circulating_supply\": 116750032,\n",
      "            \"id\": 1027,\n",
      "            \"last_updated\": 1626663883,\n",
      "            \"max_supply\": 0,\n",
      "            \"name\": \"Ethereum\",\n",
      "            \"quotes\": {\n",
      "                \"USD\": {\n",
      "                    \"market_cap\": 220006219836,\n",
      "                    \"percent_change_1h\": -0.168422498737004,\n",
      "                    \"percent_change_24h\": -5.09427565604763,\n",
      "                    \"percent_change_7d\": -12.0741235076314,\n",
      "                    \"percentage_change_1h\": -0.168422498737004,\n",
      "                    \"percentage_change_24h\": -5.09427565604763,\n",
      "                    \"percentage_change_7d\": -12.0741235076314,\n",
      "                    \"price\": 1885.14,\n",
      "                    \"volume_24h\": 14074335077\n",
      "                }\n",
      "            },\n",
      "            \"rank\": 2,\n",
      "            \"symbol\": \"ETH\",\n",
      "            \"total_supply\": 116750032,\n",
      "            \"website_slug\": \"ethereum\"\n",
      "        }\n",
      "    },\n",
      "    \"metadata\": {\n",
      "        \"error\": null,\n",
      "        \"num_cryptocurrencies\": 3123,\n",
      "        \"timestamp\": 1626663883\n",
      "    }\n",
      "}\n"
     ]
    }
   ],
   "metadata": {}
  },
  {
   "cell_type": "markdown",
   "source": [
    "#### Step 3: Navigate the JSON response object to access the current price of each coin, and store each in a variable."
   ],
   "metadata": {}
  },
  {
   "cell_type": "code",
   "execution_count": 8,
   "source": [
    "# Navigate the BTC response object to access the current price of BTC\r\n",
    "btc_price = btc_response['data']['1']['quotes']['USD']['price']\r\n",
    "\r\n",
    "# Print the current price of BTC\r\n",
    "print(f\"The current price of Bitcoin: {btc_price}\")"
   ],
   "outputs": [
    {
     "output_type": "stream",
     "name": "stdout",
     "text": [
      "The current price of Bitcoin: 31632.0\n"
     ]
    }
   ],
   "metadata": {}
  },
  {
   "cell_type": "code",
   "execution_count": 9,
   "source": [
    "# Navigate the BTC response object to access the current price of ETH\r\n",
    "eth_price = eth_response['data']['1027']['quotes']['USD']['price']\r\n",
    "\r\n",
    "# Print the current price of ETH\r\n",
    "print(f\"The current price of Ethereum: {eth_price}\")\r\n"
   ],
   "outputs": [
    {
     "output_type": "stream",
     "name": "stdout",
     "text": [
      "The current price of Ethereum: 1885.14\n"
     ]
    }
   ],
   "metadata": {}
  },
  {
   "cell_type": "markdown",
   "source": [
    "### Step 4: Calculate the value, in US dollars, of the current amount of each cryptocurrency and of the entire cryptocurrency wallet."
   ],
   "metadata": {}
  },
  {
   "cell_type": "code",
   "execution_count": 10,
   "source": [
    "# Compute the current value of the BTC holding \r\n",
    "btc_value = btc_price * btc_coins\r\n",
    "\r\n",
    "# Print current value of your holding in BTC\r\n",
    "print(f\"The current value of Bitcoin holdings: {btc_value}\")\r\n"
   ],
   "outputs": [
    {
     "output_type": "stream",
     "name": "stdout",
     "text": [
      "The current value of Bitcoin holdings: 37958.4\n"
     ]
    }
   ],
   "metadata": {}
  },
  {
   "cell_type": "code",
   "execution_count": 11,
   "source": [
    "# Compute the current value of the ETH holding \r\n",
    "eth_value = eth_price * eth_coins\r\n",
    "\r\n",
    "# Print current value of your holding in ETH\r\n",
    "print(f\"The current value of Ethereum holdings: {round(eth_value,2)}\")\r\n"
   ],
   "outputs": [
    {
     "output_type": "stream",
     "name": "stdout",
     "text": [
      "The current value of Ethereum holdings: 9991.24\n"
     ]
    }
   ],
   "metadata": {}
  },
  {
   "cell_type": "code",
   "execution_count": 12,
   "source": [
    "# Compute the total value of the cryptocurrency wallet\r\n",
    "# Add the value of the BTC holding to the value of the ETH holding\r\n",
    "total_crypto_wallet = btc_value + eth_value\r\n",
    "\r\n",
    "# Print current cryptocurrency wallet balance\r\n",
    "print(f\"The total value of your Crypto Wallet: {round(total_crypto_wallet,2)}\")\r\n"
   ],
   "outputs": [
    {
     "output_type": "stream",
     "name": "stdout",
     "text": [
      "The total value of your Crypto Wallet: 47949.64\n"
     ]
    }
   ],
   "metadata": {}
  },
  {
   "cell_type": "markdown",
   "source": [
    "### Evaluate the Stock and Bond Holdings by Using the Alpaca SDK\n",
    "\n",
    "In this section, you’ll determine the current value of a member’s stock and bond holdings. You’ll make an API call to Alpaca via the Alpaca SDK to get the current closing prices of the SPDR S&P 500 ETF Trust (ticker: SPY) and of the iShares Core US Aggregate Bond ETF (ticker: AGG). For the prototype, assume that the member holds 110 shares of SPY, which represents the stock portion of their portfolio, and 200 shares of AGG, which represents the bond portion. To do all this, complete the following steps:\n",
    "\n",
    "1. In the `Starter_Code` folder, create an environment file (`.env`) to store the values of your Alpaca API key and Alpaca secret key.\n",
    "\n",
    "2. Set the variables for the Alpaca API and secret keys. Using the Alpaca SDK, create the Alpaca `tradeapi.REST` object. In this object, include the parameters for the Alpaca API key, the secret key, and the version number.\n",
    "\n",
    "3. Set the following parameters for the Alpaca API call:\n",
    "\n",
    "    - `tickers`: Use the tickers for the member’s stock and bond holdings.\n",
    "\n",
    "    - `timeframe`: Use a time frame of one day.\n",
    "\n",
    "    - `start_date` and `end_date`: Use the same date for these parameters, and format them with the date of the previous weekday (or `2020-08-07`). This is because you want the one closing price for the most-recent trading day.\n",
    "\n",
    "4. Get the current closing prices for `SPY` and `AGG` by using the Alpaca `get_barset` function. Format the response as a Pandas DataFrame by including the `df` property at the end of the `get_barset` function.\n",
    "\n",
    "5. Navigating the Alpaca response DataFrame, select the `SPY` and `AGG` closing prices, and store them as variables.\n",
    "\n",
    "6. Calculate the value, in US dollars, of the current amount of shares in each of the stock and bond portions of the portfolio, and print the results.\n"
   ],
   "metadata": {}
  },
  {
   "cell_type": "markdown",
   "source": [
    "#### Review the total number of shares held in both (SPY) and (AGG)."
   ],
   "metadata": {}
  },
  {
   "cell_type": "code",
   "execution_count": 13,
   "source": [
    "# Current amount of shares held in both the stock (SPY) and bond (AGG) portion of the portfolio.\r\n",
    "spy_shares = 110\r\n",
    "agg_shares = 200\r\n"
   ],
   "outputs": [],
   "metadata": {}
  },
  {
   "cell_type": "markdown",
   "source": [
    "#### Step 1: In the `Starter_Code` folder, create an environment file (`.env`) to store the values of your Alpaca API key and Alpaca secret key."
   ],
   "metadata": {}
  },
  {
   "cell_type": "markdown",
   "source": [
    "#### Step 2: Set the variables for the Alpaca API and secret keys. Using the Alpaca SDK, create the Alpaca `tradeapi.REST` object. In this object, include the parameters for the Alpaca API key, the secret key, and the version number."
   ],
   "metadata": {}
  },
  {
   "cell_type": "code",
   "execution_count": 14,
   "source": [
    "# Set the variables for the Alpaca API and secret keys\r\n",
    "load_dotenv()\r\n",
    "alpaca_api_key = os.getenv(\"ALPACA_API_KEY\")\r\n",
    "alpaca_secret_key = os.getenv(\"ALPACA_SECRET_KEY\")\r\n",
    "\r\n",
    "# Create the Alpaca tradeapi.REST object\r\n",
    "alpaca = tradeapi.REST(\r\n",
    "    alpaca_api_key,\r\n",
    "    alpaca_secret_key,\r\n",
    "    api_version=\"v2\"\r\n",
    "    )\r\n"
   ],
   "outputs": [],
   "metadata": {}
  },
  {
   "cell_type": "markdown",
   "source": [
    "#### Step 3: Set the following parameters for the Alpaca API call:\n",
    "\n",
    "- `tickers`: Use the tickers for the member’s stock and bond holdings.\n",
    "\n",
    "- `timeframe`: Use a time frame of one day.\n",
    "\n",
    "- `start_date` and `end_date`: Use the same date for these parameters, and format them with the date of the previous weekday (or `2020-08-07`). This is because you want the one closing price for the most-recent trading day.\n"
   ],
   "metadata": {}
  },
  {
   "cell_type": "code",
   "execution_count": 15,
   "source": [
    "# Set the tickers for both the bond and stock portion of the portfolio\r\n",
    "tickers = ['SPY', 'AGG']\r\n",
    "\r\n",
    "# Set timeframe to 1D \r\n",
    "timeframe = \"1D\"\r\n",
    "\r\n",
    "# Format current date as ISO format\r\n",
    "# Set both the start and end date at the date of your prior weekday \r\n",
    "# This will give you the closing price of the previous trading day\r\n",
    "# Alternatively you can use a start and end date of 2020-08-07\r\n",
    "start_date = pd.Timestamp(\"2021-07-14\", tz=\"America/New_York\").isoformat()\r\n",
    "end_date = pd.Timestamp(\"2021-07-14\", tz=\"America/New_York\").isoformat()\r\n"
   ],
   "outputs": [],
   "metadata": {}
  },
  {
   "cell_type": "markdown",
   "source": [
    "#### Step 4: Get the current closing prices for `SPY` and `AGG` by using the Alpaca `get_barset` function. Format the response as a Pandas DataFrame by including the `df` property at the end of the `get_barset` function."
   ],
   "metadata": {}
  },
  {
   "cell_type": "code",
   "execution_count": 16,
   "source": [
    "# Use the Alpaca get_barset function to get current closing prices the portfolio\r\n",
    "# Be sure to set the `df` property after the function to format the response object as a DataFrame\r\n",
    "stocks_bonds_portfolio = alpaca.get_barset(\r\n",
    "    tickers,\r\n",
    "    timeframe,\r\n",
    "    start = start_date,\r\n",
    "    end = end_date\r\n",
    ").df\r\n",
    "\r\n",
    "# Review the first 5 rows of the Alpaca DataFrame\r\n",
    "stocks_bonds_portfolio.head()\r\n"
   ],
   "outputs": [
    {
     "output_type": "execute_result",
     "data": {
      "text/plain": [
       "                              AGG                                       SPY  \\\n",
       "                             open    high      low   close   volume    open   \n",
       "time                                                                          \n",
       "2021-07-14 00:00:00-04:00  115.59  115.76  115.569  115.75  3907266  437.39   \n",
       "\n",
       "                                                             \n",
       "                             high     low   close    volume  \n",
       "time                                                         \n",
       "2021-07-14 00:00:00-04:00  437.92  434.91  436.22  54445950  "
      ],
      "text/html": [
       "<div>\n",
       "<style scoped>\n",
       "    .dataframe tbody tr th:only-of-type {\n",
       "        vertical-align: middle;\n",
       "    }\n",
       "\n",
       "    .dataframe tbody tr th {\n",
       "        vertical-align: top;\n",
       "    }\n",
       "\n",
       "    .dataframe thead tr th {\n",
       "        text-align: left;\n",
       "    }\n",
       "\n",
       "    .dataframe thead tr:last-of-type th {\n",
       "        text-align: right;\n",
       "    }\n",
       "</style>\n",
       "<table border=\"1\" class=\"dataframe\">\n",
       "  <thead>\n",
       "    <tr>\n",
       "      <th></th>\n",
       "      <th colspan=\"5\" halign=\"left\">AGG</th>\n",
       "      <th colspan=\"5\" halign=\"left\">SPY</th>\n",
       "    </tr>\n",
       "    <tr>\n",
       "      <th></th>\n",
       "      <th>open</th>\n",
       "      <th>high</th>\n",
       "      <th>low</th>\n",
       "      <th>close</th>\n",
       "      <th>volume</th>\n",
       "      <th>open</th>\n",
       "      <th>high</th>\n",
       "      <th>low</th>\n",
       "      <th>close</th>\n",
       "      <th>volume</th>\n",
       "    </tr>\n",
       "    <tr>\n",
       "      <th>time</th>\n",
       "      <th></th>\n",
       "      <th></th>\n",
       "      <th></th>\n",
       "      <th></th>\n",
       "      <th></th>\n",
       "      <th></th>\n",
       "      <th></th>\n",
       "      <th></th>\n",
       "      <th></th>\n",
       "      <th></th>\n",
       "    </tr>\n",
       "  </thead>\n",
       "  <tbody>\n",
       "    <tr>\n",
       "      <th>2021-07-14 00:00:00-04:00</th>\n",
       "      <td>115.59</td>\n",
       "      <td>115.76</td>\n",
       "      <td>115.569</td>\n",
       "      <td>115.75</td>\n",
       "      <td>3907266</td>\n",
       "      <td>437.39</td>\n",
       "      <td>437.92</td>\n",
       "      <td>434.91</td>\n",
       "      <td>436.22</td>\n",
       "      <td>54445950</td>\n",
       "    </tr>\n",
       "  </tbody>\n",
       "</table>\n",
       "</div>"
      ]
     },
     "metadata": {},
     "execution_count": 16
    }
   ],
   "metadata": {}
  },
  {
   "cell_type": "markdown",
   "source": [
    "#### Step 5: Navigating the Alpaca response DataFrame, select the `SPY` and `AGG` closing prices, and store them as variables."
   ],
   "metadata": {}
  },
  {
   "cell_type": "code",
   "execution_count": 17,
   "source": [
    "# Access the closing price for AGG from the Alpaca DataFrame\r\n",
    "# Converting the value to a floating point number\r\n",
    "agg_close_price = float(stocks_bonds_portfolio['AGG']['close'])\r\n",
    "\r\n",
    "# Print the AGG closing price\r\n",
    "agg_close_price\r\n"
   ],
   "outputs": [
    {
     "output_type": "execute_result",
     "data": {
      "text/plain": [
       "115.75"
      ]
     },
     "metadata": {},
     "execution_count": 17
    }
   ],
   "metadata": {}
  },
  {
   "cell_type": "code",
   "execution_count": 18,
   "source": [
    "# Access the closing price for SPY from the Alpaca DataFrame\r\n",
    "# Converting the value to a floating point number\r\n",
    "spy_close_price = float(stocks_bonds_portfolio['SPY']['close'])\r\n",
    "\r\n",
    "# Print the SPY closing price\r\n",
    "spy_close_price\r\n"
   ],
   "outputs": [
    {
     "output_type": "execute_result",
     "data": {
      "text/plain": [
       "436.22"
      ]
     },
     "metadata": {},
     "execution_count": 18
    }
   ],
   "metadata": {}
  },
  {
   "cell_type": "markdown",
   "source": [
    "#### Step 6: Calculate the value, in US dollars, of the current amount of shares in each of the stock and bond portions of the portfolio, and print the results."
   ],
   "metadata": {}
  },
  {
   "cell_type": "code",
   "execution_count": 19,
   "source": [
    "# Calculate the current value of the bond portion of the portfolio\r\n",
    "agg_value = agg_shares * agg_close_price\r\n",
    "\r\n",
    "# Print the current value of the bond portfolio\r\n",
    "print(f\"The current value of AGG stock: {round(agg_value,2)}\")\r\n"
   ],
   "outputs": [
    {
     "output_type": "stream",
     "name": "stdout",
     "text": [
      "The current value of AGG stock: 23150.0\n"
     ]
    }
   ],
   "metadata": {}
  },
  {
   "cell_type": "code",
   "execution_count": 20,
   "source": [
    "# Calculate the current value of the stock portion of the portfolio\r\n",
    "spy_value = spy_shares * spy_close_price\r\n",
    "\r\n",
    "# Print the current value of the stock portfolio\r\n",
    "print(f\"The current value of AGG stock: {round(spy_value,2)}\")\r\n"
   ],
   "outputs": [
    {
     "output_type": "stream",
     "name": "stdout",
     "text": [
      "The current value of AGG stock: 47984.2\n"
     ]
    }
   ],
   "metadata": {}
  },
  {
   "cell_type": "code",
   "execution_count": 21,
   "source": [
    "# Calculate the total value of the stock and bond portion of the portfolio\r\n",
    "total_stocks_bonds = spy_value + agg_value\r\n",
    "\r\n",
    "# Print the current balance of the stock and bond portion of the portfolio\r\n",
    "print(f\"The total value of the stocks and bonds: ${round(total_stocks_bonds,2):0.2f}\")\r\n"
   ],
   "outputs": [
    {
     "output_type": "stream",
     "name": "stdout",
     "text": [
      "The total value of the stocks and bonds: $71134.20\n"
     ]
    }
   ],
   "metadata": {}
  },
  {
   "cell_type": "code",
   "execution_count": 22,
   "source": [
    "# Calculate the total value of the member's entire savings portfolio\r\n",
    "# Add the value of the cryptocurrency walled to the value of the total stocks and bonds\r\n",
    "total_portfolio = total_stocks_bonds + total_crypto_wallet\r\n",
    "\r\n",
    "# Print current cryptocurrency wallet balance\r\n",
    "print(f\"The total value of saving portfolio: ${round(total_portfolio,2):0.2f}\")\r\n"
   ],
   "outputs": [
    {
     "output_type": "stream",
     "name": "stdout",
     "text": [
      "The total value of saving portfolio: $119083.84\n"
     ]
    }
   ],
   "metadata": {}
  },
  {
   "cell_type": "markdown",
   "source": [
    "### Evaluate the Emergency Fund\n",
    "\n",
    "In this section, you’ll use the valuations for the cryptocurrency wallet and for the stock and bond portions of the portfolio to determine if the credit union member has enough savings to build an emergency fund into their financial plan. To do this, complete the following steps:\n",
    "\n",
    "1. Create a Python list named `savings_data` that has two elements. The first element contains the total value of the cryptocurrency wallet. The second element contains the total value of the stock and bond portions of the portfolio.\n",
    "\n",
    "2. Use the `savings_data` list to create a Pandas DataFrame named `savings_df`, and then display this DataFrame. The function to create the DataFrame should take the following three parameters:\n",
    "\n",
    "    - `savings_data`: Use the list that you just created.\n",
    "\n",
    "    - `columns`: Set this parameter equal to a Python list with a single value called `amount`.\n",
    "\n",
    "    - `index`: Set this parameter equal to a Python list with the values of `crypto` and `stock/bond`.\n",
    "\n",
    "3. Use the `savings_df` DataFrame to plot a pie chart that visualizes the composition of the member’s portfolio. The y-axis of the pie chart uses `amount`. Be sure to add a title.\n",
    "\n",
    "4. Using Python, determine if the current portfolio has enough to create an emergency fund as part of the member’s financial plan. Ideally, an emergency fund should equal to three times the member’s monthly income. To do this, implement the following steps:\n",
    "\n",
    "    1. Create a variable named `emergency_fund_value`, and set it equal to three times the value of the member’s `monthly_income` of $12000. (You set this earlier in Part 1).\n",
    "\n",
    "    2. Create a series of three if statements to determine if the member’s total portfolio is large enough to fund the emergency portfolio:\n",
    "\n",
    "        1. If the total portfolio value is greater than the emergency fund value, display a message congratulating the member for having enough money in this fund.\n",
    "\n",
    "        2. Else if the total portfolio value is equal to the emergency fund value, display a message congratulating the member on reaching this important financial goal.\n",
    "\n",
    "        3. Else the total portfolio is less than the emergency fund value, so display a message showing how many dollars away the member is from reaching the goal. (Subtract the total portfolio value from the emergency fund value.)\n"
   ],
   "metadata": {}
  },
  {
   "cell_type": "markdown",
   "source": [
    "#### Step 1: Create a Python list named `savings_data` that has two elements. The first element contains the total value of the cryptocurrency wallet. The second element contains the total value of the stock and bond portions of the portfolio."
   ],
   "metadata": {}
  },
  {
   "cell_type": "code",
   "execution_count": 23,
   "source": [
    "# Consolidate financial assets data into a Python list\r\n",
    "savings_data = [total_crypto_wallet, total_stocks_bonds]\r\n",
    "    \r\n",
    "# Review the Python list savings_data\r\n",
    "savings_data\r\n",
    "    "
   ],
   "outputs": [
    {
     "output_type": "execute_result",
     "data": {
      "text/plain": [
       "[47949.642, 71134.20000000001]"
      ]
     },
     "metadata": {},
     "execution_count": 23
    }
   ],
   "metadata": {}
  },
  {
   "cell_type": "markdown",
   "source": [
    "#### Step 2: Use the `savings_data` list to create a Pandas DataFrame named `savings_df`, and then display this DataFrame. The function to create the DataFrame should take the following three parameters:\n",
    "\n",
    "- `savings_data`: Use the list that you just created.\n",
    "\n",
    "- `columns`: Set this parameter equal to a Python list with a single value called `amount`.\n",
    "\n",
    "- `index`: Set this parameter equal to a Python list with the values of `crypto` and `stock/bond`.\n"
   ],
   "metadata": {}
  },
  {
   "cell_type": "code",
   "execution_count": 24,
   "source": [
    "# Create a Pandas DataFrame called savings_df \r\n",
    "savings_df = pd.DataFrame(\r\n",
    "    {'amount':savings_data},\r\n",
    "    index=['crypto','stock/bond']\r\n",
    ")\r\n",
    "\r\n",
    "# Display the savings_df DataFrame\r\n",
    "type(savings_df)\r\n"
   ],
   "outputs": [
    {
     "output_type": "execute_result",
     "data": {
      "text/plain": [
       "pandas.core.frame.DataFrame"
      ]
     },
     "metadata": {},
     "execution_count": 24
    }
   ],
   "metadata": {}
  },
  {
   "cell_type": "markdown",
   "source": [
    "#### Step 3: Use the `savings_df` DataFrame to plot a pie chart that visualizes the composition of the member’s portfolio. The y-axis of the pie chart uses `amount`. Be sure to add a title."
   ],
   "metadata": {}
  },
  {
   "cell_type": "code",
   "execution_count": 25,
   "source": [
    "# Plot the total value of the member's portfolio (crypto and stock/bond) in a pie chart\r\n",
    "savings_df.plot.pie(y='amount', title='Portfolio Composition - 2021-07-14')\r\n"
   ],
   "outputs": [
    {
     "output_type": "execute_result",
     "data": {
      "text/plain": [
       "<AxesSubplot:title={'center':'Portfolio Composition - 2021-07-14'}, ylabel='amount'>"
      ]
     },
     "metadata": {},
     "execution_count": 25
    },
    {
     "output_type": "display_data",
     "data": {
      "text/plain": [
       "<Figure size 432x288 with 1 Axes>"
      ],
      "image/png": "[encoded data removed]"
     },
     "metadata": {}
    }
   ],
   "metadata": {}
  },
  {
   "cell_type": "markdown",
   "source": [
    "#### Step 4: Using Python, determine if the current portfolio has enough to create an emergency fund as part of the member’s financial plan. Ideally, an emergency fund should equal to three times the member’s monthly income. To do this, implement the following steps:\n",
    "\n",
    "Step 1. Create a variable named `emergency_fund_value`, and set it equal to three times the value of the member’s `monthly_income` of 12000. (You set this earlier in Part 1).\n",
    "\n",
    "Step 2. Create a series of three if statements to determine if the member’s total portfolio is large enough to fund the emergency portfolio:\n",
    "\n",
    "* If the total portfolio value is greater than the emergency fund value, display a message congratulating the member for having enough money in this fund.\n",
    "\n",
    "* Else if the total portfolio value is equal to the emergency fund value, display a message congratulating the member on reaching this important financial goal.\n",
    "\n",
    "* Else the total portfolio is less than the emergency fund value, so display a message showing how many dollars away the member is from reaching the goal. (Subtract the total portfolio value from the emergency fund value.)\n"
   ],
   "metadata": {}
  },
  {
   "cell_type": "markdown",
   "source": [
    "##### Step 4-1: Create a variable named `emergency_fund_value`, and set it equal to three times the value of the member’s `monthly_income` of 12000. (You set this earlier in Part 1)."
   ],
   "metadata": {}
  },
  {
   "cell_type": "code",
   "execution_count": 26,
   "source": [
    "# Create a variable named emergency_fund_value\r\n",
    "emergency_fund_value = monthly_income * 3\r\n",
    "emergency_fund_value\r\n"
   ],
   "outputs": [
    {
     "output_type": "execute_result",
     "data": {
      "text/plain": [
       "36000"
      ]
     },
     "metadata": {},
     "execution_count": 26
    }
   ],
   "metadata": {}
  },
  {
   "cell_type": "markdown",
   "source": [
    "##### Step 4-2: Create a series of three if statements to determine if the member’s total portfolio is large enough to fund the emergency portfolio:\n",
    "\n",
    "* If the total portfolio value is greater than the emergency fund value, display a message congratulating the member for having enough money in this fund.\n",
    "\n",
    "* Else if the total portfolio value is equal to the emergency fund value, display a message congratulating the member on reaching this important financial goal.\n",
    "\n",
    "* Else the total portfolio is less than the emergency fund value, so display a message showing how many dollars away the member is from reaching the goal. (Subtract the total portfolio value from the emergency fund value.)"
   ],
   "metadata": {}
  },
  {
   "cell_type": "code",
   "execution_count": 27,
   "source": [
    "# Evaluate the possibility of creating an emergency fund with 3 conditions:\r\n",
    "if total_portfolio > emergency_fund_value:\r\n",
    "    display(\"Congratulations for having enough money in this fund!\")\r\n",
    "elif total_portfolio == emergency_fund_value:\r\n",
    "    display(\"Congratulations for reaching this important financial goal!\")\r\n",
    "else:\r\n",
    "    display(f\"You need ${emergency_fund_value - value} to reach your emergency fund goal. You can do it!\")\r\n"
   ],
   "outputs": [
    {
     "output_type": "display_data",
     "data": {
      "text/plain": [
       "'Congratulations for having enough money in this fund!'"
      ]
     },
     "metadata": {}
    }
   ],
   "metadata": {}
  },
  {
   "cell_type": "markdown",
   "source": [
    "## Part 2: Create a Financial Planner for Retirement"
   ],
   "metadata": {}
  },
  {
   "cell_type": "markdown",
   "source": [
    "### Create the Monte Carlo Simulation\n",
    "\n",
    "In this section, you’ll use the MCForecastTools library to create a Monte Carlo simulation for the member’s savings portfolio. To do this, complete the following steps:\n",
    "\n",
    "1. Make an API call via the Alpaca SDK to get 10 years of historical closing prices for a traditional 60/40 portfolio split: 60% stocks (SPY) and 40% bonds (AGG).\n",
    "\n",
    "2. Run a Monte Carlo simulation of 500 samples and 30 years for the 60/40 portfolio, and then plot the results.The following image shows the overlay line plot resulting from a simulation with these characteristics. However, because a random number generator is used to run each live Monte Carlo simulation, your image will differ slightly from this exact image:\n",
    "\n",
    "![A screenshot depicts the resulting plot.](Images/5-4-monte-carlo-line-plot.png)\n",
    "\n",
    "3. Plot the probability distribution of the Monte Carlo simulation. Plot the probability distribution of the Monte Carlo simulation. The following image shows the histogram plot resulting from a simulation with these characteristics. However, because a random number generator is used to run each live Monte Carlo simulation, your image will differ slightly from this exact image:\n",
    "\n",
    "![A screenshot depicts the histogram plot.](Images/5-4-monte-carlo-histogram.png)\n",
    "\n",
    "4. Generate the summary statistics for the Monte Carlo simulation.\n",
    "\n"
   ],
   "metadata": {}
  },
  {
   "cell_type": "markdown",
   "source": [
    "#### Step 1: Make an API call via the Alpaca SDK to get 10 years of historical closing prices for a traditional 60/40 portfolio split: 60% stocks (SPY) and 40% bonds (AGG)."
   ],
   "metadata": {}
  },
  {
   "cell_type": "code",
   "execution_count": 28,
   "source": [
    "# Set start and end dates of 10 years back from your current date\r\n",
    "# Alternatively, you can use an end date of 2020-08-07 and work 10 years back from that date \r\n",
    "start_date = pd.Timestamp(\"2011-07-14\", tz=\"America/New_York\").isoformat()\r\n",
    "end_date = pd.Timestamp(\"2021-07-14\", tz=\"America/New_York\").isoformat()\r\n"
   ],
   "outputs": [],
   "metadata": {}
  },
  {
   "cell_type": "code",
   "execution_count": 29,
   "source": [
    "# Use the Alpaca get_barset function to make the API call to get the 10 years worth of pricing data\r\n",
    "# The tickers and timeframe parameters should have been set in Part 1 of this activity \r\n",
    "# The start and end dates should be updated with the information set above\r\n",
    "# Remember to add the df property to the end of the call so the response is returned as a DataFrame\r\n",
    "stock_df = alpaca.get_barset(\r\n",
    "    tickers,\r\n",
    "    timeframe,\r\n",
    "    start=start_date,\r\n",
    "    end=end_date\r\n",
    ").df\r\n",
    "\r\n",
    "\r\n",
    "# Display both the first and last five rows of the DataFrame\r\n",
    "display(stock_df.head())\r\n",
    "display(stock_df.tail())\r\n"
   ],
   "outputs": [
    {
     "output_type": "display_data",
     "data": {
      "text/plain": [
       "                              AGG                                        \\\n",
       "                             open      high       low   close    volume   \n",
       "time                                                                      \n",
       "2021-02-22 00:00:00-05:00  115.76  115.8662  115.4800  115.49   4704520   \n",
       "2021-02-23 00:00:00-05:00  115.75  115.7500  115.2700  115.52   5373535   \n",
       "2021-02-24 00:00:00-05:00  115.06  115.5000  115.0100  115.47   6131453   \n",
       "2021-02-25 00:00:00-05:00  115.01  115.2900  114.2000  114.41  14520445   \n",
       "2021-02-26 00:00:00-05:00  114.96  115.3900  114.5915  115.37   9735524   \n",
       "\n",
       "                              SPY                                        \n",
       "                             open     high       low   close     volume  \n",
       "time                                                                     \n",
       "2021-02-22 00:00:00-05:00  387.06  389.620  386.7400  387.11   56604869  \n",
       "2021-02-23 00:00:00-05:00  384.66  388.945  380.2000  387.50   98333278  \n",
       "2021-02-24 00:00:00-05:00  386.33  392.230  385.2700  391.76   64527459  \n",
       "2021-02-25 00:00:00-05:00  390.41  391.880  380.7789  382.39  137059806  \n",
       "2021-02-26 00:00:00-05:00  384.35  385.580  378.2300  380.32  134902084  "
      ],
      "text/html": [
       "<div>\n",
       "<style scoped>\n",
       "    .dataframe tbody tr th:only-of-type {\n",
       "        vertical-align: middle;\n",
       "    }\n",
       "\n",
       "    .dataframe tbody tr th {\n",
       "        vertical-align: top;\n",
       "    }\n",
       "\n",
       "    .dataframe thead tr th {\n",
       "        text-align: left;\n",
       "    }\n",
       "\n",
       "    .dataframe thead tr:last-of-type th {\n",
       "        text-align: right;\n",
       "    }\n",
       "</style>\n",
       "<table border=\"1\" class=\"dataframe\">\n",
       "  <thead>\n",
       "    <tr>\n",
       "      <th></th>\n",
       "      <th colspan=\"5\" halign=\"left\">AGG</th>\n",
       "      <th colspan=\"5\" halign=\"left\">SPY</th>\n",
       "    </tr>\n",
       "    <tr>\n",
       "      <th></th>\n",
       "      <th>open</th>\n",
       "      <th>high</th>\n",
       "      <th>low</th>\n",
       "      <th>close</th>\n",
       "      <th>volume</th>\n",
       "      <th>open</th>\n",
       "      <th>high</th>\n",
       "      <th>low</th>\n",
       "      <th>close</th>\n",
       "      <th>volume</th>\n",
       "    </tr>\n",
       "    <tr>\n",
       "      <th>time</th>\n",
       "      <th></th>\n",
       "      <th></th>\n",
       "      <th></th>\n",
       "      <th></th>\n",
       "      <th></th>\n",
       "      <th></th>\n",
       "      <th></th>\n",
       "      <th></th>\n",
       "      <th></th>\n",
       "      <th></th>\n",
       "    </tr>\n",
       "  </thead>\n",
       "  <tbody>\n",
       "    <tr>\n",
       "      <th>2021-02-22 00:00:00-05:00</th>\n",
       "      <td>115.76</td>\n",
       "      <td>115.8662</td>\n",
       "      <td>115.4800</td>\n",
       "      <td>115.49</td>\n",
       "      <td>4704520</td>\n",
       "      <td>387.06</td>\n",
       "      <td>389.620</td>\n",
       "      <td>386.7400</td>\n",
       "      <td>387.11</td>\n",
       "      <td>56604869</td>\n",
       "    </tr>\n",
       "    <tr>\n",
       "      <th>2021-02-23 00:00:00-05:00</th>\n",
       "      <td>115.75</td>\n",
       "      <td>115.7500</td>\n",
       "      <td>115.2700</td>\n",
       "      <td>115.52</td>\n",
       "      <td>5373535</td>\n",
       "      <td>384.66</td>\n",
       "      <td>388.945</td>\n",
       "      <td>380.2000</td>\n",
       "      <td>387.50</td>\n",
       "      <td>98333278</td>\n",
       "    </tr>\n",
       "    <tr>\n",
       "      <th>2021-02-24 00:00:00-05:00</th>\n",
       "      <td>115.06</td>\n",
       "      <td>115.5000</td>\n",
       "      <td>115.0100</td>\n",
       "      <td>115.47</td>\n",
       "      <td>6131453</td>\n",
       "      <td>386.33</td>\n",
       "      <td>392.230</td>\n",
       "      <td>385.2700</td>\n",
       "      <td>391.76</td>\n",
       "      <td>64527459</td>\n",
       "    </tr>\n",
       "    <tr>\n",
       "      <th>2021-02-25 00:00:00-05:00</th>\n",
       "      <td>115.01</td>\n",
       "      <td>115.2900</td>\n",
       "      <td>114.2000</td>\n",
       "      <td>114.41</td>\n",
       "      <td>14520445</td>\n",
       "      <td>390.41</td>\n",
       "      <td>391.880</td>\n",
       "      <td>380.7789</td>\n",
       "      <td>382.39</td>\n",
       "      <td>137059806</td>\n",
       "    </tr>\n",
       "    <tr>\n",
       "      <th>2021-02-26 00:00:00-05:00</th>\n",
       "      <td>114.96</td>\n",
       "      <td>115.3900</td>\n",
       "      <td>114.5915</td>\n",
       "      <td>115.37</td>\n",
       "      <td>9735524</td>\n",
       "      <td>384.35</td>\n",
       "      <td>385.580</td>\n",
       "      <td>378.2300</td>\n",
       "      <td>380.32</td>\n",
       "      <td>134902084</td>\n",
       "    </tr>\n",
       "  </tbody>\n",
       "</table>\n",
       "</div>"
      ]
     },
     "metadata": {}
    },
    {
     "output_type": "display_data",
     "data": {
      "text/plain": [
       "                               AGG                                      \\\n",
       "                              open     high       low   close   volume   \n",
       "time                                                                     \n",
       "2021-07-08 00:00:00-04:00  116.040  116.180  115.9600  116.06  5685583   \n",
       "2021-07-09 00:00:00-04:00  115.735  115.760  115.6900  115.69  4602694   \n",
       "2021-07-12 00:00:00-04:00  115.800  115.805  115.6000  115.63  3184908   \n",
       "2021-07-13 00:00:00-04:00  115.650  115.760  115.3022  115.39  4698374   \n",
       "2021-07-14 00:00:00-04:00  115.590  115.760  115.5690  115.75  3907266   \n",
       "\n",
       "                              SPY                                     \n",
       "                             open    high      low   close    volume  \n",
       "time                                                                  \n",
       "2021-07-08 00:00:00-04:00  428.78  431.73  427.520  430.95  83417621  \n",
       "2021-07-09 00:00:00-04:00  432.53  435.84  430.714  435.48  59254094  \n",
       "2021-07-12 00:00:00-04:00  435.42  437.35  434.970  437.08  42031814  \n",
       "2021-07-13 00:00:00-04:00  436.26  437.84  435.310  435.62  45923305  \n",
       "2021-07-14 00:00:00-04:00  437.39  437.92  434.910  436.22  54445950  "
      ],
      "text/html": [
       "<div>\n",
       "<style scoped>\n",
       "    .dataframe tbody tr th:only-of-type {\n",
       "        vertical-align: middle;\n",
       "    }\n",
       "\n",
       "    .dataframe tbody tr th {\n",
       "        vertical-align: top;\n",
       "    }\n",
       "\n",
       "    .dataframe thead tr th {\n",
       "        text-align: left;\n",
       "    }\n",
       "\n",
       "    .dataframe thead tr:last-of-type th {\n",
       "        text-align: right;\n",
       "    }\n",
       "</style>\n",
       "<table border=\"1\" class=\"dataframe\">\n",
       "  <thead>\n",
       "    <tr>\n",
       "      <th></th>\n",
       "      <th colspan=\"5\" halign=\"left\">AGG</th>\n",
       "      <th colspan=\"5\" halign=\"left\">SPY</th>\n",
       "    </tr>\n",
       "    <tr>\n",
       "      <th></th>\n",
       "      <th>open</th>\n",
       "      <th>high</th>\n",
       "      <th>low</th>\n",
       "      <th>close</th>\n",
       "      <th>volume</th>\n",
       "      <th>open</th>\n",
       "      <th>high</th>\n",
       "      <th>low</th>\n",
       "      <th>close</th>\n",
       "      <th>volume</th>\n",
       "    </tr>\n",
       "    <tr>\n",
       "      <th>time</th>\n",
       "      <th></th>\n",
       "      <th></th>\n",
       "      <th></th>\n",
       "      <th></th>\n",
       "      <th></th>\n",
       "      <th></th>\n",
       "      <th></th>\n",
       "      <th></th>\n",
       "      <th></th>\n",
       "      <th></th>\n",
       "    </tr>\n",
       "  </thead>\n",
       "  <tbody>\n",
       "    <tr>\n",
       "      <th>2021-07-08 00:00:00-04:00</th>\n",
       "      <td>116.040</td>\n",
       "      <td>116.180</td>\n",
       "      <td>115.9600</td>\n",
       "      <td>116.06</td>\n",
       "      <td>5685583</td>\n",
       "      <td>428.78</td>\n",
       "      <td>431.73</td>\n",
       "      <td>427.520</td>\n",
       "      <td>430.95</td>\n",
       "      <td>83417621</td>\n",
       "    </tr>\n",
       "    <tr>\n",
       "      <th>2021-07-09 00:00:00-04:00</th>\n",
       "      <td>115.735</td>\n",
       "      <td>115.760</td>\n",
       "      <td>115.6900</td>\n",
       "      <td>115.69</td>\n",
       "      <td>4602694</td>\n",
       "      <td>432.53</td>\n",
       "      <td>435.84</td>\n",
       "      <td>430.714</td>\n",
       "      <td>435.48</td>\n",
       "      <td>59254094</td>\n",
       "    </tr>\n",
       "    <tr>\n",
       "      <th>2021-07-12 00:00:00-04:00</th>\n",
       "      <td>115.800</td>\n",
       "      <td>115.805</td>\n",
       "      <td>115.6000</td>\n",
       "      <td>115.63</td>\n",
       "      <td>3184908</td>\n",
       "      <td>435.42</td>\n",
       "      <td>437.35</td>\n",
       "      <td>434.970</td>\n",
       "      <td>437.08</td>\n",
       "      <td>42031814</td>\n",
       "    </tr>\n",
       "    <tr>\n",
       "      <th>2021-07-13 00:00:00-04:00</th>\n",
       "      <td>115.650</td>\n",
       "      <td>115.760</td>\n",
       "      <td>115.3022</td>\n",
       "      <td>115.39</td>\n",
       "      <td>4698374</td>\n",
       "      <td>436.26</td>\n",
       "      <td>437.84</td>\n",
       "      <td>435.310</td>\n",
       "      <td>435.62</td>\n",
       "      <td>45923305</td>\n",
       "    </tr>\n",
       "    <tr>\n",
       "      <th>2021-07-14 00:00:00-04:00</th>\n",
       "      <td>115.590</td>\n",
       "      <td>115.760</td>\n",
       "      <td>115.5690</td>\n",
       "      <td>115.75</td>\n",
       "      <td>3907266</td>\n",
       "      <td>437.39</td>\n",
       "      <td>437.92</td>\n",
       "      <td>434.910</td>\n",
       "      <td>436.22</td>\n",
       "      <td>54445950</td>\n",
       "    </tr>\n",
       "  </tbody>\n",
       "</table>\n",
       "</div>"
      ]
     },
     "metadata": {}
    }
   ],
   "metadata": {}
  },
  {
   "cell_type": "markdown",
   "source": [
    "#### Step 2: Run a Monte Carlo simulation of 500 samples and 30 years for the 60/40 portfolio, and then plot the results."
   ],
   "metadata": {}
  },
  {
   "cell_type": "code",
   "execution_count": 30,
   "source": [
    "# Configure the Monte Carlo simulation to forecast 30 years cumulative returns\r\n",
    "# The weights should be split 40% to AGG and 60% to SPY.\r\n",
    "# Run 500 samples.\r\n",
    "MC_spy_30 = MCSimulation(\r\n",
    "    portfolio_data= stock_df, \r\n",
    "    weights=[.40,.60],\r\n",
    "    num_simulation=500,\r\n",
    "    num_trading_days= 252*30\r\n",
    ")\r\n",
    "\r\n",
    "# Review the simulation input data\r\n",
    "MC_spy_30.portfolio_data.head()\r\n"
   ],
   "outputs": [
    {
     "output_type": "execute_result",
     "data": {
      "text/plain": [
       "                              AGG                                        \\\n",
       "                             open      high       low   close    volume   \n",
       "time                                                                      \n",
       "2021-02-22 00:00:00-05:00  115.76  115.8662  115.4800  115.49   4704520   \n",
       "2021-02-23 00:00:00-05:00  115.75  115.7500  115.2700  115.52   5373535   \n",
       "2021-02-24 00:00:00-05:00  115.06  115.5000  115.0100  115.47   6131453   \n",
       "2021-02-25 00:00:00-05:00  115.01  115.2900  114.2000  114.41  14520445   \n",
       "2021-02-26 00:00:00-05:00  114.96  115.3900  114.5915  115.37   9735524   \n",
       "\n",
       "                                           SPY                             \\\n",
       "                          daily_return    open     high       low   close   \n",
       "time                                                                        \n",
       "2021-02-22 00:00:00-05:00          NaN  387.06  389.620  386.7400  387.11   \n",
       "2021-02-23 00:00:00-05:00     0.000260  384.66  388.945  380.2000  387.50   \n",
       "2021-02-24 00:00:00-05:00    -0.000433  386.33  392.230  385.2700  391.76   \n",
       "2021-02-25 00:00:00-05:00    -0.009180  390.41  391.880  380.7789  382.39   \n",
       "2021-02-26 00:00:00-05:00     0.008391  384.35  385.580  378.2300  380.32   \n",
       "\n",
       "                                                   \n",
       "                              volume daily_return  \n",
       "time                                               \n",
       "2021-02-22 00:00:00-05:00   56604869          NaN  \n",
       "2021-02-23 00:00:00-05:00   98333278     0.001007  \n",
       "2021-02-24 00:00:00-05:00   64527459     0.010994  \n",
       "2021-02-25 00:00:00-05:00  137059806    -0.023918  \n",
       "2021-02-26 00:00:00-05:00  134902084    -0.005413  "
      ],
      "text/html": [
       "<div>\n",
       "<style scoped>\n",
       "    .dataframe tbody tr th:only-of-type {\n",
       "        vertical-align: middle;\n",
       "    }\n",
       "\n",
       "    .dataframe tbody tr th {\n",
       "        vertical-align: top;\n",
       "    }\n",
       "\n",
       "    .dataframe thead tr th {\n",
       "        text-align: left;\n",
       "    }\n",
       "\n",
       "    .dataframe thead tr:last-of-type th {\n",
       "        text-align: right;\n",
       "    }\n",
       "</style>\n",
       "<table border=\"1\" class=\"dataframe\">\n",
       "  <thead>\n",
       "    <tr>\n",
       "      <th></th>\n",
       "      <th colspan=\"6\" halign=\"left\">AGG</th>\n",
       "      <th colspan=\"6\" halign=\"left\">SPY</th>\n",
       "    </tr>\n",
       "    <tr>\n",
       "      <th></th>\n",
       "      <th>open</th>\n",
       "      <th>high</th>\n",
       "      <th>low</th>\n",
       "      <th>close</th>\n",
       "      <th>volume</th>\n",
       "      <th>daily_return</th>\n",
       "      <th>open</th>\n",
       "      <th>high</th>\n",
       "      <th>low</th>\n",
       "      <th>close</th>\n",
       "      <th>volume</th>\n",
       "      <th>daily_return</th>\n",
       "    </tr>\n",
       "    <tr>\n",
       "      <th>time</th>\n",
       "      <th></th>\n",
       "      <th></th>\n",
       "      <th></th>\n",
       "      <th></th>\n",
       "      <th></th>\n",
       "      <th></th>\n",
       "      <th></th>\n",
       "      <th></th>\n",
       "      <th></th>\n",
       "      <th></th>\n",
       "      <th></th>\n",
       "      <th></th>\n",
       "    </tr>\n",
       "  </thead>\n",
       "  <tbody>\n",
       "    <tr>\n",
       "      <th>2021-02-22 00:00:00-05:00</th>\n",
       "      <td>115.76</td>\n",
       "      <td>115.8662</td>\n",
       "      <td>115.4800</td>\n",
       "      <td>115.49</td>\n",
       "      <td>4704520</td>\n",
       "      <td>NaN</td>\n",
       "      <td>387.06</td>\n",
       "      <td>389.620</td>\n",
       "      <td>386.7400</td>\n",
       "      <td>387.11</td>\n",
       "      <td>56604869</td>\n",
       "      <td>NaN</td>\n",
       "    </tr>\n",
       "    <tr>\n",
       "      <th>2021-02-23 00:00:00-05:00</th>\n",
       "      <td>115.75</td>\n",
       "      <td>115.7500</td>\n",
       "      <td>115.2700</td>\n",
       "      <td>115.52</td>\n",
       "      <td>5373535</td>\n",
       "      <td>0.000260</td>\n",
       "      <td>384.66</td>\n",
       "      <td>388.945</td>\n",
       "      <td>380.2000</td>\n",
       "      <td>387.50</td>\n",
       "      <td>98333278</td>\n",
       "      <td>0.001007</td>\n",
       "    </tr>\n",
       "    <tr>\n",
       "      <th>2021-02-24 00:00:00-05:00</th>\n",
       "      <td>115.06</td>\n",
       "      <td>115.5000</td>\n",
       "      <td>115.0100</td>\n",
       "      <td>115.47</td>\n",
       "      <td>6131453</td>\n",
       "      <td>-0.000433</td>\n",
       "      <td>386.33</td>\n",
       "      <td>392.230</td>\n",
       "      <td>385.2700</td>\n",
       "      <td>391.76</td>\n",
       "      <td>64527459</td>\n",
       "      <td>0.010994</td>\n",
       "    </tr>\n",
       "    <tr>\n",
       "      <th>2021-02-25 00:00:00-05:00</th>\n",
       "      <td>115.01</td>\n",
       "      <td>115.2900</td>\n",
       "      <td>114.2000</td>\n",
       "      <td>114.41</td>\n",
       "      <td>14520445</td>\n",
       "      <td>-0.009180</td>\n",
       "      <td>390.41</td>\n",
       "      <td>391.880</td>\n",
       "      <td>380.7789</td>\n",
       "      <td>382.39</td>\n",
       "      <td>137059806</td>\n",
       "      <td>-0.023918</td>\n",
       "    </tr>\n",
       "    <tr>\n",
       "      <th>2021-02-26 00:00:00-05:00</th>\n",
       "      <td>114.96</td>\n",
       "      <td>115.3900</td>\n",
       "      <td>114.5915</td>\n",
       "      <td>115.37</td>\n",
       "      <td>9735524</td>\n",
       "      <td>0.008391</td>\n",
       "      <td>384.35</td>\n",
       "      <td>385.580</td>\n",
       "      <td>378.2300</td>\n",
       "      <td>380.32</td>\n",
       "      <td>134902084</td>\n",
       "      <td>-0.005413</td>\n",
       "    </tr>\n",
       "  </tbody>\n",
       "</table>\n",
       "</div>"
      ]
     },
     "metadata": {},
     "execution_count": 30
    }
   ],
   "metadata": {}
  },
  {
   "cell_type": "code",
   "execution_count": 31,
   "source": [
    "# Run the Monte Carlo simulation to forecast 30 years cumulative returns\r\n",
    "MC_spy_30.calc_cumulative_return()\r\n"
   ],
   "outputs": [
    {
     "output_type": "stream",
     "name": "stdout",
     "text": [
      "Running Monte Carlo simulation number 0.\n",
      "Running Monte Carlo simulation number 10.\n",
      "Running Monte Carlo simulation number 20.\n",
      "Running Monte Carlo simulation number 30.\n",
      "Running Monte Carlo simulation number 40.\n",
      "Running Monte Carlo simulation number 50.\n",
      "Running Monte Carlo simulation number 60.\n",
      "Running Monte Carlo simulation number 70.\n",
      "Running Monte Carlo simulation number 80.\n",
      "Running Monte Carlo simulation number 90.\n",
      "Running Monte Carlo simulation number 100.\n",
      "Running Monte Carlo simulation number 110.\n",
      "Running Monte Carlo simulation number 120.\n",
      "Running Monte Carlo simulation number 130.\n",
      "Running Monte Carlo simulation number 140.\n",
      "Running Monte Carlo simulation number 150.\n",
      "Running Monte Carlo simulation number 160.\n",
      "Running Monte Carlo simulation number 170.\n",
      "Running Monte Carlo simulation number 180.\n",
      "Running Monte Carlo simulation number 190.\n",
      "Running Monte Carlo simulation number 200.\n",
      "Running Monte Carlo simulation number 210.\n",
      "Running Monte Carlo simulation number 220.\n",
      "Running Monte Carlo simulation number 230.\n",
      "Running Monte Carlo simulation number 240.\n",
      "Running Monte Carlo simulation number 250.\n",
      "Running Monte Carlo simulation number 260.\n",
      "Running Monte Carlo simulation number 270.\n",
      "Running Monte Carlo simulation number 280.\n",
      "Running Monte Carlo simulation number 290.\n",
      "Running Monte Carlo simulation number 300.\n",
      "Running Monte Carlo simulation number 310.\n",
      "Running Monte Carlo simulation number 320.\n",
      "Running Monte Carlo simulation number 330.\n",
      "Running Monte Carlo simulation number 340.\n",
      "Running Monte Carlo simulation number 350.\n",
      "Running Monte Carlo simulation number 360.\n",
      "Running Monte Carlo simulation number 370.\n",
      "Running Monte Carlo simulation number 380.\n",
      "Running Monte Carlo simulation number 390.\n",
      "Running Monte Carlo simulation number 400.\n",
      "Running Monte Carlo simulation number 410.\n",
      "Running Monte Carlo simulation number 420.\n",
      "Running Monte Carlo simulation number 430.\n",
      "Running Monte Carlo simulation number 440.\n",
      "Running Monte Carlo simulation number 450.\n",
      "Running Monte Carlo simulation number 460.\n",
      "Running Monte Carlo simulation number 470.\n",
      "Running Monte Carlo simulation number 480.\n",
      "Running Monte Carlo simulation number 490.\n"
     ]
    },
    {
     "output_type": "execute_result",
     "data": {
      "text/plain": [
       "             0           1           2           3           4           5    \\\n",
       "0       1.000000    1.000000    1.000000    1.000000    1.000000    1.000000   \n",
       "1       0.992795    0.997093    0.993897    0.998274    0.997480    1.003746   \n",
       "2       0.989164    1.001769    0.993366    0.987793    1.003869    1.005687   \n",
       "3       0.991637    0.991129    0.991318    0.987858    0.998053    1.015126   \n",
       "4       1.001021    0.993320    0.990451    0.985453    0.990129    1.029628   \n",
       "...          ...         ...         ...         ...         ...         ...   \n",
       "7556  140.847094  213.366539  534.965492  163.103748  133.188268  319.500512   \n",
       "7557  141.656242  213.814294  535.855207  163.035275  134.680935  318.333511   \n",
       "7558  141.537751  213.696857  538.287970  163.081205  134.503090  316.217442   \n",
       "7559  141.117425  214.233725  542.215696  163.653988  133.686327  318.127726   \n",
       "7560  142.384387  214.685491  542.803062  163.314472  133.524677  318.060130   \n",
       "\n",
       "             6           7           8           9    ...         490  \\\n",
       "0       1.000000    1.000000    1.000000    1.000000  ...    1.000000   \n",
       "1       1.004394    0.992850    0.999126    1.004473  ...    0.994828   \n",
       "2       1.010924    0.992051    0.999721    1.006928  ...    0.992291   \n",
       "3       1.009679    0.988767    0.997990    1.003398  ...    0.993612   \n",
       "4       1.014738    0.992399    0.997965    1.000813  ...    0.981437   \n",
       "...          ...         ...         ...         ...  ...         ...   \n",
       "7556  201.807753  221.005856  213.210917  341.454976  ...  463.828579   \n",
       "7557  203.432896  221.696211  213.255964  340.157841  ...  466.777462   \n",
       "7558  203.448459  221.737513  212.414898  340.025671  ...  463.083356   \n",
       "7559  204.177630  222.929493  213.805712  341.247532  ...  464.206674   \n",
       "7560  203.899619  224.235244  213.998373  338.661721  ...  464.072443   \n",
       "\n",
       "             491         492         493         494         495         496  \\\n",
       "0       1.000000    1.000000    1.000000    1.000000    1.000000    1.000000   \n",
       "1       1.003147    1.011905    1.000535    1.001383    1.000731    0.998290   \n",
       "2       1.006844    1.013539    1.004774    0.990405    0.995645    0.995379   \n",
       "3       1.013622    1.014538    1.007156    0.990159    0.992333    0.988747   \n",
       "4       1.012795    1.012270    1.018741    0.997888    0.991448    0.988827   \n",
       "...          ...         ...         ...         ...         ...         ...   \n",
       "7556  144.739155  153.219360  475.268635  314.531711  298.151009  289.019691   \n",
       "7557  144.560032  153.686031  478.421107  316.009745  296.573518  290.632462   \n",
       "7558  144.296368  154.123309  481.835375  316.202881  295.846200  291.796142   \n",
       "7559  143.135919  154.750252  479.394555  314.190281  296.422472  292.907077   \n",
       "7560  143.133253  152.837106  479.724781  312.820546  294.282361  290.485514   \n",
       "\n",
       "             497         498         499  \n",
       "0       1.000000    1.000000    1.000000  \n",
       "1       1.003823    1.000617    0.998206  \n",
       "2       1.007064    1.005011    0.991124  \n",
       "3       1.013449    1.002536    0.996513  \n",
       "4       1.023629    1.004560    1.000542  \n",
       "...          ...         ...         ...  \n",
       "7556  172.687517  346.219711  231.590629  \n",
       "7557  172.798025  341.190561  230.473035  \n",
       "7558  174.937145  341.987363  230.612119  \n",
       "7559  175.202100  342.810552  230.783215  \n",
       "7560  175.036541  345.468016  230.370420  \n",
       "\n",
       "[7561 rows x 500 columns]"
      ],
      "text/html": [
       "<div>\n",
       "<style scoped>\n",
       "    .dataframe tbody tr th:only-of-type {\n",
       "        vertical-align: middle;\n",
       "    }\n",
       "\n",
       "    .dataframe tbody tr th {\n",
       "        vertical-align: top;\n",
       "    }\n",
       "\n",
       "    .dataframe thead th {\n",
       "        text-align: right;\n",
       "    }\n",
       "</style>\n",
       "<table border=\"1\" class=\"dataframe\">\n",
       "  <thead>\n",
       "    <tr style=\"text-align: right;\">\n",
       "      <th></th>\n",
       "      <th>0</th>\n",
       "      <th>1</th>\n",
       "      <th>2</th>\n",
       "      <th>3</th>\n",
       "      <th>4</th>\n",
       "      <th>5</th>\n",
       "      <th>6</th>\n",
       "      <th>7</th>\n",
       "      <th>8</th>\n",
       "      <th>9</th>\n",
       "      <th>...</th>\n",
       "      <th>490</th>\n",
       "      <th>491</th>\n",
       "      <th>492</th>\n",
       "      <th>493</th>\n",
       "      <th>494</th>\n",
       "      <th>495</th>\n",
       "      <th>496</th>\n",
       "      <th>497</th>\n",
       "      <th>498</th>\n",
       "      <th>499</th>\n",
       "    </tr>\n",
       "  </thead>\n",
       "  <tbody>\n",
       "    <tr>\n",
       "      <th>0</th>\n",
       "      <td>1.000000</td>\n",
       "      <td>1.000000</td>\n",
       "      <td>1.000000</td>\n",
       "      <td>1.000000</td>\n",
       "      <td>1.000000</td>\n",
       "      <td>1.000000</td>\n",
       "      <td>1.000000</td>\n",
       "      <td>1.000000</td>\n",
       "      <td>1.000000</td>\n",
       "      <td>1.000000</td>\n",
       "      <td>...</td>\n",
       "      <td>1.000000</td>\n",
       "      <td>1.000000</td>\n",
       "      <td>1.000000</td>\n",
       "      <td>1.000000</td>\n",
       "      <td>1.000000</td>\n",
       "      <td>1.000000</td>\n",
       "      <td>1.000000</td>\n",
       "      <td>1.000000</td>\n",
       "      <td>1.000000</td>\n",
       "      <td>1.000000</td>\n",
       "    </tr>\n",
       "    <tr>\n",
       "      <th>1</th>\n",
       "      <td>0.992795</td>\n",
       "      <td>0.997093</td>\n",
       "      <td>0.993897</td>\n",
       "      <td>0.998274</td>\n",
       "      <td>0.997480</td>\n",
       "      <td>1.003746</td>\n",
       "      <td>1.004394</td>\n",
       "      <td>0.992850</td>\n",
       "      <td>0.999126</td>\n",
       "      <td>1.004473</td>\n",
       "      <td>...</td>\n",
       "      <td>0.994828</td>\n",
       "      <td>1.003147</td>\n",
       "      <td>1.011905</td>\n",
       "      <td>1.000535</td>\n",
       "      <td>1.001383</td>\n",
       "      <td>1.000731</td>\n",
       "      <td>0.998290</td>\n",
       "      <td>1.003823</td>\n",
       "      <td>1.000617</td>\n",
       "      <td>0.998206</td>\n",
       "    </tr>\n",
       "    <tr>\n",
       "      <th>2</th>\n",
       "      <td>0.989164</td>\n",
       "      <td>1.001769</td>\n",
       "      <td>0.993366</td>\n",
       "      <td>0.987793</td>\n",
       "      <td>1.003869</td>\n",
       "      <td>1.005687</td>\n",
       "      <td>1.010924</td>\n",
       "      <td>0.992051</td>\n",
       "      <td>0.999721</td>\n",
       "      <td>1.006928</td>\n",
       "      <td>...</td>\n",
       "      <td>0.992291</td>\n",
       "      <td>1.006844</td>\n",
       "      <td>1.013539</td>\n",
       "      <td>1.004774</td>\n",
       "      <td>0.990405</td>\n",
       "      <td>0.995645</td>\n",
       "      <td>0.995379</td>\n",
       "      <td>1.007064</td>\n",
       "      <td>1.005011</td>\n",
       "      <td>0.991124</td>\n",
       "    </tr>\n",
       "    <tr>\n",
       "      <th>3</th>\n",
       "      <td>0.991637</td>\n",
       "      <td>0.991129</td>\n",
       "      <td>0.991318</td>\n",
       "      <td>0.987858</td>\n",
       "      <td>0.998053</td>\n",
       "      <td>1.015126</td>\n",
       "      <td>1.009679</td>\n",
       "      <td>0.988767</td>\n",
       "      <td>0.997990</td>\n",
       "      <td>1.003398</td>\n",
       "      <td>...</td>\n",
       "      <td>0.993612</td>\n",
       "      <td>1.013622</td>\n",
       "      <td>1.014538</td>\n",
       "      <td>1.007156</td>\n",
       "      <td>0.990159</td>\n",
       "      <td>0.992333</td>\n",
       "      <td>0.988747</td>\n",
       "      <td>1.013449</td>\n",
       "      <td>1.002536</td>\n",
       "      <td>0.996513</td>\n",
       "    </tr>\n",
       "    <tr>\n",
       "      <th>4</th>\n",
       "      <td>1.001021</td>\n",
       "      <td>0.993320</td>\n",
       "      <td>0.990451</td>\n",
       "      <td>0.985453</td>\n",
       "      <td>0.990129</td>\n",
       "      <td>1.029628</td>\n",
       "      <td>1.014738</td>\n",
       "      <td>0.992399</td>\n",
       "      <td>0.997965</td>\n",
       "      <td>1.000813</td>\n",
       "      <td>...</td>\n",
       "      <td>0.981437</td>\n",
       "      <td>1.012795</td>\n",
       "      <td>1.012270</td>\n",
       "      <td>1.018741</td>\n",
       "      <td>0.997888</td>\n",
       "      <td>0.991448</td>\n",
       "      <td>0.988827</td>\n",
       "      <td>1.023629</td>\n",
       "      <td>1.004560</td>\n",
       "      <td>1.000542</td>\n",
       "    </tr>\n",
       "    <tr>\n",
       "      <th>...</th>\n",
       "      <td>...</td>\n",
       "      <td>...</td>\n",
       "      <td>...</td>\n",
       "      <td>...</td>\n",
       "      <td>...</td>\n",
       "      <td>...</td>\n",
       "      <td>...</td>\n",
       "      <td>...</td>\n",
       "      <td>...</td>\n",
       "      <td>...</td>\n",
       "      <td>...</td>\n",
       "      <td>...</td>\n",
       "      <td>...</td>\n",
       "      <td>...</td>\n",
       "      <td>...</td>\n",
       "      <td>...</td>\n",
       "      <td>...</td>\n",
       "      <td>...</td>\n",
       "      <td>...</td>\n",
       "      <td>...</td>\n",
       "      <td>...</td>\n",
       "    </tr>\n",
       "    <tr>\n",
       "      <th>7556</th>\n",
       "      <td>140.847094</td>\n",
       "      <td>213.366539</td>\n",
       "      <td>534.965492</td>\n",
       "      <td>163.103748</td>\n",
       "      <td>133.188268</td>\n",
       "      <td>319.500512</td>\n",
       "      <td>201.807753</td>\n",
       "      <td>221.005856</td>\n",
       "      <td>213.210917</td>\n",
       "      <td>341.454976</td>\n",
       "      <td>...</td>\n",
       "      <td>463.828579</td>\n",
       "      <td>144.739155</td>\n",
       "      <td>153.219360</td>\n",
       "      <td>475.268635</td>\n",
       "      <td>314.531711</td>\n",
       "      <td>298.151009</td>\n",
       "      <td>289.019691</td>\n",
       "      <td>172.687517</td>\n",
       "      <td>346.219711</td>\n",
       "      <td>231.590629</td>\n",
       "    </tr>\n",
       "    <tr>\n",
       "      <th>7557</th>\n",
       "      <td>141.656242</td>\n",
       "      <td>213.814294</td>\n",
       "      <td>535.855207</td>\n",
       "      <td>163.035275</td>\n",
       "      <td>134.680935</td>\n",
       "      <td>318.333511</td>\n",
       "      <td>203.432896</td>\n",
       "      <td>221.696211</td>\n",
       "      <td>213.255964</td>\n",
       "      <td>340.157841</td>\n",
       "      <td>...</td>\n",
       "      <td>466.777462</td>\n",
       "      <td>144.560032</td>\n",
       "      <td>153.686031</td>\n",
       "      <td>478.421107</td>\n",
       "      <td>316.009745</td>\n",
       "      <td>296.573518</td>\n",
       "      <td>290.632462</td>\n",
       "      <td>172.798025</td>\n",
       "      <td>341.190561</td>\n",
       "      <td>230.473035</td>\n",
       "    </tr>\n",
       "    <tr>\n",
       "      <th>7558</th>\n",
       "      <td>141.537751</td>\n",
       "      <td>213.696857</td>\n",
       "      <td>538.287970</td>\n",
       "      <td>163.081205</td>\n",
       "      <td>134.503090</td>\n",
       "      <td>316.217442</td>\n",
       "      <td>203.448459</td>\n",
       "      <td>221.737513</td>\n",
       "      <td>212.414898</td>\n",
       "      <td>340.025671</td>\n",
       "      <td>...</td>\n",
       "      <td>463.083356</td>\n",
       "      <td>144.296368</td>\n",
       "      <td>154.123309</td>\n",
       "      <td>481.835375</td>\n",
       "      <td>316.202881</td>\n",
       "      <td>295.846200</td>\n",
       "      <td>291.796142</td>\n",
       "      <td>174.937145</td>\n",
       "      <td>341.987363</td>\n",
       "      <td>230.612119</td>\n",
       "    </tr>\n",
       "    <tr>\n",
       "      <th>7559</th>\n",
       "      <td>141.117425</td>\n",
       "      <td>214.233725</td>\n",
       "      <td>542.215696</td>\n",
       "      <td>163.653988</td>\n",
       "      <td>133.686327</td>\n",
       "      <td>318.127726</td>\n",
       "      <td>204.177630</td>\n",
       "      <td>222.929493</td>\n",
       "      <td>213.805712</td>\n",
       "      <td>341.247532</td>\n",
       "      <td>...</td>\n",
       "      <td>464.206674</td>\n",
       "      <td>143.135919</td>\n",
       "      <td>154.750252</td>\n",
       "      <td>479.394555</td>\n",
       "      <td>314.190281</td>\n",
       "      <td>296.422472</td>\n",
       "      <td>292.907077</td>\n",
       "      <td>175.202100</td>\n",
       "      <td>342.810552</td>\n",
       "      <td>230.783215</td>\n",
       "    </tr>\n",
       "    <tr>\n",
       "      <th>7560</th>\n",
       "      <td>142.384387</td>\n",
       "      <td>214.685491</td>\n",
       "      <td>542.803062</td>\n",
       "      <td>163.314472</td>\n",
       "      <td>133.524677</td>\n",
       "      <td>318.060130</td>\n",
       "      <td>203.899619</td>\n",
       "      <td>224.235244</td>\n",
       "      <td>213.998373</td>\n",
       "      <td>338.661721</td>\n",
       "      <td>...</td>\n",
       "      <td>464.072443</td>\n",
       "      <td>143.133253</td>\n",
       "      <td>152.837106</td>\n",
       "      <td>479.724781</td>\n",
       "      <td>312.820546</td>\n",
       "      <td>294.282361</td>\n",
       "      <td>290.485514</td>\n",
       "      <td>175.036541</td>\n",
       "      <td>345.468016</td>\n",
       "      <td>230.370420</td>\n",
       "    </tr>\n",
       "  </tbody>\n",
       "</table>\n",
       "<p>7561 rows × 500 columns</p>\n",
       "</div>"
      ]
     },
     "metadata": {},
     "execution_count": 31
    }
   ],
   "metadata": {}
  },
  {
   "cell_type": "code",
   "execution_count": 32,
   "source": [
    "# Visualize the 30-year Monte Carlo simulation by creating an\r\n",
    "# overlay line plot\r\n",
    "spy_line_plot = MC_spy_30.plot_simulation()"
   ],
   "outputs": [
    {
     "output_type": "display_data",
     "data": {
      "text/plain": [
       "<Figure size 432x288 with 1 Axes>"
      ],
      "image/png": "[encoded data removed]"
     },
     "metadata": {
      "needs_background": "light"
     }
    }
   ],
   "metadata": {}
  },
  {
   "cell_type": "markdown",
   "source": [
    "#### Step 3: Plot the probability distribution of the Monte Carlo simulation."
   ],
   "metadata": {}
  },
  {
   "cell_type": "code",
   "execution_count": 33,
   "source": [
    "# Visualize the probability distribution of the 30-year Monte Carlo simulation \r\n",
    "# by plotting a histogram\r\n",
    "spy_dist_plot = MC_spy_30.plot_distribution()\r\n"
   ],
   "outputs": [
    {
     "output_type": "display_data",
     "data": {
      "text/plain": [
       "<Figure size 432x288 with 1 Axes>"
      ],
      "image/png": "[encoded data removed]"
     },
     "metadata": {
      "needs_background": "light"
     }
    }
   ],
   "metadata": {}
  },
  {
   "cell_type": "markdown",
   "source": [
    "#### Step 4: Generate the summary statistics for the Monte Carlo simulation."
   ],
   "metadata": {}
  },
  {
   "cell_type": "code",
   "execution_count": 34,
   "source": [
    "# Generate summary statistics from the 30-year Monte Carlo simulation results\r\n",
    "# Save the results as a variable\r\n",
    "spy_30_tbl = MC_spy_30.summarize_cumulative_return()\r\n",
    "\r\n",
    "\r\n",
    "# Review the 30-year Monte Carlo summary statistics\r\n",
    "print(spy_30_tbl)"
   ],
   "outputs": [
    {
     "output_type": "stream",
     "name": "stdout",
     "text": [
      "count            500.000000\n",
      "mean             294.190005\n",
      "std              134.565171\n",
      "min               80.810256\n",
      "25%              202.138416\n",
      "50%              274.420759\n",
      "75%              357.841321\n",
      "max             1349.901607\n",
      "95% CI Lower     117.060460\n",
      "95% CI Upper     608.746683\n",
      "Name: 7560, dtype: float64\n"
     ]
    }
   ],
   "metadata": {}
  },
  {
   "cell_type": "markdown",
   "source": [
    "### Analyze the Retirement Portfolio Forecasts\r\n",
    "\r\n",
    "Using the current value of only the stock and bond portion of the member's portfolio and the summary statistics that you generated from the Monte Carlo simulation, answer the following question in your Jupyter notebook:\r\n",
    "\r\n",
    "-  What are the lower and upper bounds for the expected value of the portfolio with a 95% confidence interval?\r\n",
    "-  The lower bounds for the stock and bond portion of the portfolio is 125.93\r\n",
    "-  The upper bounds for the stock and bond portion of the portfolio is 654.65\r\n"
   ],
   "metadata": {}
  },
  {
   "cell_type": "code",
   "execution_count": 35,
   "source": [
    "# Print the current balance of the stock and bond portion of the members portfolio\r\n",
    "print(f\"${total_stocks_bonds:0.2f}\")\r\n"
   ],
   "outputs": [
    {
     "output_type": "stream",
     "name": "stdout",
     "text": [
      "$71134.20\n"
     ]
    }
   ],
   "metadata": {}
  },
  {
   "cell_type": "code",
   "execution_count": 36,
   "source": [
    "# Use the lower and upper `95%` confidence intervals to calculate the range of the possible outcomes for the current stock/bond portfolio\r\n",
    "ci_lower_thirty_cumulative_return = round(spy_30_tbl[8]*total_stocks_bonds,2)\r\n",
    "ci_upper_thirty_cumulative_return = round(spy_30_tbl[9]*total_stocks_bonds,2)\r\n",
    "\r\n",
    "# Print the result of your calculations\r\n",
    "print(f\"There is a 95% chance that an initial investment of ${total_stocks_bonds:0.2F} in the portfolio\"\r\n",
    "      f\" over the next 30 years will end within the range of\"\r\n",
    "      f\" ${ci_lower_thirty_cumulative_return:0.2f} and ${ci_upper_thirty_cumulative_return:0.2f}\")\r\n"
   ],
   "outputs": [
    {
     "output_type": "stream",
     "name": "stdout",
     "text": [
      "There is a 95% chance that an initial investment of $71134.20 in the portfolio over the next 30 years will end within the range of $8327002.17 and $43302708.29\n"
     ]
    }
   ],
   "metadata": {}
  },
  {
   "cell_type": "markdown",
   "source": [
    "### Forecast Cumulative Returns in 10 Years\n",
    "\n",
    "The CTO of the credit union is impressed with your work on these planning tools but wonders if 30 years is a long time to wait until retirement. So, your next task is to adjust the retirement portfolio and run a new Monte Carlo simulation to find out if the changes will allow members to retire earlier.\n",
    "\n",
    "For this new Monte Carlo simulation, do the following: \n",
    "\n",
    "- Forecast the cumulative returns for 10 years from now. Because of the shortened investment horizon (30 years to 10 years), the portfolio needs to invest more heavily in the riskier asset&mdash;that is, stock&mdash;to help accumulate wealth for retirement. \n",
    "\n",
    "- Adjust the weights of the retirement portfolio so that the composition for the Monte Carlo simulation consists of 20% bonds and 80% stocks. \n",
    "\n",
    "- Run the simulation over 500 samples, and use the same data that the API call to Alpaca generated.\n",
    "\n",
    "- Based on the new Monte Carlo simulation, answer the following questions in your Jupyter notebook:\n",
    "\n",
    "    - Using the current value of only the stock and bond portion of the member's portfolio and the summary statistics that you generated from the new Monte Carlo simulation, what are the lower and upper bounds for the expected value of the portfolio (with the new weights) with a 95% confidence interval?\n",
    "\n",
    "    - Will weighting the portfolio more heavily toward stocks allow the credit union members to retire after only 10 years?\n"
   ],
   "metadata": {}
  },
  {
   "cell_type": "code",
   "execution_count": 37,
   "source": [
    "# Configure a Monte Carlo simulation to forecast 10 years cumulative returns\r\n",
    "# The weights should be split 20% to AGG and 80% to SPY.\r\n",
    "# Run 500 samples.\r\n",
    "MC_spy_10 = MCSimulation(\r\n",
    "    portfolio_data= stock_df, \r\n",
    "    weights=[.20,.80],\r\n",
    "    num_simulation=500,\r\n",
    "    num_trading_days= 252*10\r\n",
    ")\r\n",
    "\r\n",
    "\r\n",
    "# Review the simulation input data\r\n",
    "MC_spy_10.portfolio_data.head()\r\n"
   ],
   "outputs": [
    {
     "output_type": "execute_result",
     "data": {
      "text/plain": [
       "                              AGG                                        \\\n",
       "                             open      high       low   close    volume   \n",
       "time                                                                      \n",
       "2021-02-22 00:00:00-05:00  115.76  115.8662  115.4800  115.49   4704520   \n",
       "2021-02-23 00:00:00-05:00  115.75  115.7500  115.2700  115.52   5373535   \n",
       "2021-02-24 00:00:00-05:00  115.06  115.5000  115.0100  115.47   6131453   \n",
       "2021-02-25 00:00:00-05:00  115.01  115.2900  114.2000  114.41  14520445   \n",
       "2021-02-26 00:00:00-05:00  114.96  115.3900  114.5915  115.37   9735524   \n",
       "\n",
       "                                           SPY                             \\\n",
       "                          daily_return    open     high       low   close   \n",
       "time                                                                        \n",
       "2021-02-22 00:00:00-05:00          NaN  387.06  389.620  386.7400  387.11   \n",
       "2021-02-23 00:00:00-05:00     0.000260  384.66  388.945  380.2000  387.50   \n",
       "2021-02-24 00:00:00-05:00    -0.000433  386.33  392.230  385.2700  391.76   \n",
       "2021-02-25 00:00:00-05:00    -0.009180  390.41  391.880  380.7789  382.39   \n",
       "2021-02-26 00:00:00-05:00     0.008391  384.35  385.580  378.2300  380.32   \n",
       "\n",
       "                                                   \n",
       "                              volume daily_return  \n",
       "time                                               \n",
       "2021-02-22 00:00:00-05:00   56604869          NaN  \n",
       "2021-02-23 00:00:00-05:00   98333278     0.001007  \n",
       "2021-02-24 00:00:00-05:00   64527459     0.010994  \n",
       "2021-02-25 00:00:00-05:00  137059806    -0.023918  \n",
       "2021-02-26 00:00:00-05:00  134902084    -0.005413  "
      ],
      "text/html": [
       "<div>\n",
       "<style scoped>\n",
       "    .dataframe tbody tr th:only-of-type {\n",
       "        vertical-align: middle;\n",
       "    }\n",
       "\n",
       "    .dataframe tbody tr th {\n",
       "        vertical-align: top;\n",
       "    }\n",
       "\n",
       "    .dataframe thead tr th {\n",
       "        text-align: left;\n",
       "    }\n",
       "\n",
       "    .dataframe thead tr:last-of-type th {\n",
       "        text-align: right;\n",
       "    }\n",
       "</style>\n",
       "<table border=\"1\" class=\"dataframe\">\n",
       "  <thead>\n",
       "    <tr>\n",
       "      <th></th>\n",
       "      <th colspan=\"6\" halign=\"left\">AGG</th>\n",
       "      <th colspan=\"6\" halign=\"left\">SPY</th>\n",
       "    </tr>\n",
       "    <tr>\n",
       "      <th></th>\n",
       "      <th>open</th>\n",
       "      <th>high</th>\n",
       "      <th>low</th>\n",
       "      <th>close</th>\n",
       "      <th>volume</th>\n",
       "      <th>daily_return</th>\n",
       "      <th>open</th>\n",
       "      <th>high</th>\n",
       "      <th>low</th>\n",
       "      <th>close</th>\n",
       "      <th>volume</th>\n",
       "      <th>daily_return</th>\n",
       "    </tr>\n",
       "    <tr>\n",
       "      <th>time</th>\n",
       "      <th></th>\n",
       "      <th></th>\n",
       "      <th></th>\n",
       "      <th></th>\n",
       "      <th></th>\n",
       "      <th></th>\n",
       "      <th></th>\n",
       "      <th></th>\n",
       "      <th></th>\n",
       "      <th></th>\n",
       "      <th></th>\n",
       "      <th></th>\n",
       "    </tr>\n",
       "  </thead>\n",
       "  <tbody>\n",
       "    <tr>\n",
       "      <th>2021-02-22 00:00:00-05:00</th>\n",
       "      <td>115.76</td>\n",
       "      <td>115.8662</td>\n",
       "      <td>115.4800</td>\n",
       "      <td>115.49</td>\n",
       "      <td>4704520</td>\n",
       "      <td>NaN</td>\n",
       "      <td>387.06</td>\n",
       "      <td>389.620</td>\n",
       "      <td>386.7400</td>\n",
       "      <td>387.11</td>\n",
       "      <td>56604869</td>\n",
       "      <td>NaN</td>\n",
       "    </tr>\n",
       "    <tr>\n",
       "      <th>2021-02-23 00:00:00-05:00</th>\n",
       "      <td>115.75</td>\n",
       "      <td>115.7500</td>\n",
       "      <td>115.2700</td>\n",
       "      <td>115.52</td>\n",
       "      <td>5373535</td>\n",
       "      <td>0.000260</td>\n",
       "      <td>384.66</td>\n",
       "      <td>388.945</td>\n",
       "      <td>380.2000</td>\n",
       "      <td>387.50</td>\n",
       "      <td>98333278</td>\n",
       "      <td>0.001007</td>\n",
       "    </tr>\n",
       "    <tr>\n",
       "      <th>2021-02-24 00:00:00-05:00</th>\n",
       "      <td>115.06</td>\n",
       "      <td>115.5000</td>\n",
       "      <td>115.0100</td>\n",
       "      <td>115.47</td>\n",
       "      <td>6131453</td>\n",
       "      <td>-0.000433</td>\n",
       "      <td>386.33</td>\n",
       "      <td>392.230</td>\n",
       "      <td>385.2700</td>\n",
       "      <td>391.76</td>\n",
       "      <td>64527459</td>\n",
       "      <td>0.010994</td>\n",
       "    </tr>\n",
       "    <tr>\n",
       "      <th>2021-02-25 00:00:00-05:00</th>\n",
       "      <td>115.01</td>\n",
       "      <td>115.2900</td>\n",
       "      <td>114.2000</td>\n",
       "      <td>114.41</td>\n",
       "      <td>14520445</td>\n",
       "      <td>-0.009180</td>\n",
       "      <td>390.41</td>\n",
       "      <td>391.880</td>\n",
       "      <td>380.7789</td>\n",
       "      <td>382.39</td>\n",
       "      <td>137059806</td>\n",
       "      <td>-0.023918</td>\n",
       "    </tr>\n",
       "    <tr>\n",
       "      <th>2021-02-26 00:00:00-05:00</th>\n",
       "      <td>114.96</td>\n",
       "      <td>115.3900</td>\n",
       "      <td>114.5915</td>\n",
       "      <td>115.37</td>\n",
       "      <td>9735524</td>\n",
       "      <td>0.008391</td>\n",
       "      <td>384.35</td>\n",
       "      <td>385.580</td>\n",
       "      <td>378.2300</td>\n",
       "      <td>380.32</td>\n",
       "      <td>134902084</td>\n",
       "      <td>-0.005413</td>\n",
       "    </tr>\n",
       "  </tbody>\n",
       "</table>\n",
       "</div>"
      ]
     },
     "metadata": {},
     "execution_count": 37
    }
   ],
   "metadata": {}
  },
  {
   "cell_type": "code",
   "execution_count": 38,
   "source": [
    "# Run the Monte Carlo simulation to forecast 10 years cumulative returns\r\n",
    "MC_spy_10.calc_cumulative_return()"
   ],
   "outputs": [
    {
     "output_type": "stream",
     "name": "stdout",
     "text": [
      "Running Monte Carlo simulation number 0.\n",
      "Running Monte Carlo simulation number 10.\n",
      "Running Monte Carlo simulation number 20.\n",
      "Running Monte Carlo simulation number 30.\n",
      "Running Monte Carlo simulation number 40.\n",
      "Running Monte Carlo simulation number 50.\n",
      "Running Monte Carlo simulation number 60.\n",
      "Running Monte Carlo simulation number 70.\n",
      "Running Monte Carlo simulation number 80.\n",
      "Running Monte Carlo simulation number 90.\n",
      "Running Monte Carlo simulation number 100.\n",
      "Running Monte Carlo simulation number 110.\n",
      "Running Monte Carlo simulation number 120.\n",
      "Running Monte Carlo simulation number 130.\n",
      "Running Monte Carlo simulation number 140.\n",
      "Running Monte Carlo simulation number 150.\n",
      "Running Monte Carlo simulation number 160.\n",
      "Running Monte Carlo simulation number 170.\n",
      "Running Monte Carlo simulation number 180.\n",
      "Running Monte Carlo simulation number 190.\n",
      "Running Monte Carlo simulation number 200.\n",
      "Running Monte Carlo simulation number 210.\n",
      "Running Monte Carlo simulation number 220.\n",
      "Running Monte Carlo simulation number 230.\n",
      "Running Monte Carlo simulation number 240.\n",
      "Running Monte Carlo simulation number 250.\n",
      "Running Monte Carlo simulation number 260.\n",
      "Running Monte Carlo simulation number 270.\n",
      "Running Monte Carlo simulation number 280.\n",
      "Running Monte Carlo simulation number 290.\n",
      "Running Monte Carlo simulation number 300.\n",
      "Running Monte Carlo simulation number 310.\n",
      "Running Monte Carlo simulation number 320.\n",
      "Running Monte Carlo simulation number 330.\n",
      "Running Monte Carlo simulation number 340.\n",
      "Running Monte Carlo simulation number 350.\n",
      "Running Monte Carlo simulation number 360.\n",
      "Running Monte Carlo simulation number 370.\n",
      "Running Monte Carlo simulation number 380.\n",
      "Running Monte Carlo simulation number 390.\n",
      "Running Monte Carlo simulation number 400.\n",
      "Running Monte Carlo simulation number 410.\n",
      "Running Monte Carlo simulation number 420.\n",
      "Running Monte Carlo simulation number 430.\n",
      "Running Monte Carlo simulation number 440.\n",
      "Running Monte Carlo simulation number 450.\n",
      "Running Monte Carlo simulation number 460.\n",
      "Running Monte Carlo simulation number 470.\n",
      "Running Monte Carlo simulation number 480.\n",
      "Running Monte Carlo simulation number 490.\n"
     ]
    },
    {
     "output_type": "execute_result",
     "data": {
      "text/plain": [
       "           0          1          2         3          4         5    \\\n",
       "0     1.000000   1.000000   1.000000  1.000000   1.000000  1.000000   \n",
       "1     1.003506   1.004666   0.998161  0.985639   0.999816  1.006868   \n",
       "2     0.996936   1.005225   1.002894  0.982498   1.010095  1.004217   \n",
       "3     0.996119   1.001227   1.001603  0.974051   1.008332  1.009581   \n",
       "4     0.996045   1.002525   1.008170  0.977278   1.007943  1.016329   \n",
       "...        ...        ...        ...       ...        ...       ...   \n",
       "2516  8.286725  13.692305  15.408615  9.340616  12.024456  8.390701   \n",
       "2517  8.251747  13.675199  15.477968  9.380936  11.928922  8.426232   \n",
       "2518  8.292331  13.619428  15.507649  9.301599  11.931409  8.432507   \n",
       "2519  8.372529  13.657869  15.439544  9.229842  11.971706  8.383825   \n",
       "2520  8.321897  13.714625  15.432190  9.279075  12.063667  8.392824   \n",
       "\n",
       "            6          7         8         9    ...        490        491  \\\n",
       "0      1.000000   1.000000  1.000000  1.000000  ...   1.000000   1.000000   \n",
       "1      1.006138   1.007165  0.994559  1.007654  ...   1.004147   1.010397   \n",
       "2      1.003289   1.009687  1.006636  1.006360  ...   1.004737   1.015491   \n",
       "3      1.007589   1.013676  1.008210  1.011096  ...   1.004176   1.003356   \n",
       "4      1.009792   1.012566  1.013804  1.011421  ...   0.994542   1.012506   \n",
       "...         ...        ...       ...       ...  ...        ...        ...   \n",
       "2516  14.291991  17.813304  8.754328  8.886147  ...  11.118098  12.038556   \n",
       "2517  14.388785  17.914956  8.807954  8.932656  ...  11.307369  12.014941   \n",
       "2518  14.299528  17.866430  8.769652  8.988896  ...  11.304992  12.016755   \n",
       "2519  14.311312  17.916972  8.821183  9.126729  ...  11.177491  12.018762   \n",
       "2520  14.207683  17.986959  8.859302  9.102423  ...  11.134255  12.009562   \n",
       "\n",
       "            492       493        494        495        496       497  \\\n",
       "0      1.000000  1.000000   1.000000   1.000000   1.000000  1.000000   \n",
       "1      1.004578  1.005765   1.003315   1.000565   0.994311  0.997207   \n",
       "2      1.001347  1.002597   1.012555   1.005589   1.006697  0.991479   \n",
       "3      1.002894  1.010239   1.013574   1.008975   0.997490  1.001918   \n",
       "4      1.005896  1.013970   1.006418   0.995713   1.000307  1.006795   \n",
       "...         ...       ...        ...        ...        ...       ...   \n",
       "2516  12.142281  8.318197  11.203522  14.599074  11.804679  7.459170   \n",
       "2517  12.249577  8.325059  11.266830  14.580531  11.706804  7.401206   \n",
       "2518  12.389859  8.284354  11.346397  14.520282  11.688982  7.401527   \n",
       "2519  12.427079  8.397152  11.284368  14.488083  11.705375  7.375138   \n",
       "2520  12.381925  8.393403  11.277215  14.402486  11.668007  7.357554   \n",
       "\n",
       "           498       499  \n",
       "0     1.000000  1.000000  \n",
       "1     0.996512  1.002644  \n",
       "2     0.995456  1.012626  \n",
       "3     0.991217  1.016604  \n",
       "4     0.982496  1.024865  \n",
       "...        ...       ...  \n",
       "2516  6.281799  9.219196  \n",
       "2517  6.292958  9.143204  \n",
       "2518  6.277199  9.201029  \n",
       "2519  6.308863  9.115796  \n",
       "2520  6.285252  9.043062  \n",
       "\n",
       "[2521 rows x 500 columns]"
      ],
      "text/html": [
       "<div>\n",
       "<style scoped>\n",
       "    .dataframe tbody tr th:only-of-type {\n",
       "        vertical-align: middle;\n",
       "    }\n",
       "\n",
       "    .dataframe tbody tr th {\n",
       "        vertical-align: top;\n",
       "    }\n",
       "\n",
       "    .dataframe thead th {\n",
       "        text-align: right;\n",
       "    }\n",
       "</style>\n",
       "<table border=\"1\" class=\"dataframe\">\n",
       "  <thead>\n",
       "    <tr style=\"text-align: right;\">\n",
       "      <th></th>\n",
       "      <th>0</th>\n",
       "      <th>1</th>\n",
       "      <th>2</th>\n",
       "      <th>3</th>\n",
       "      <th>4</th>\n",
       "      <th>5</th>\n",
       "      <th>6</th>\n",
       "      <th>7</th>\n",
       "      <th>8</th>\n",
       "      <th>9</th>\n",
       "      <th>...</th>\n",
       "      <th>490</th>\n",
       "      <th>491</th>\n",
       "      <th>492</th>\n",
       "      <th>493</th>\n",
       "      <th>494</th>\n",
       "      <th>495</th>\n",
       "      <th>496</th>\n",
       "      <th>497</th>\n",
       "      <th>498</th>\n",
       "      <th>499</th>\n",
       "    </tr>\n",
       "  </thead>\n",
       "  <tbody>\n",
       "    <tr>\n",
       "      <th>0</th>\n",
       "      <td>1.000000</td>\n",
       "      <td>1.000000</td>\n",
       "      <td>1.000000</td>\n",
       "      <td>1.000000</td>\n",
       "      <td>1.000000</td>\n",
       "      <td>1.000000</td>\n",
       "      <td>1.000000</td>\n",
       "      <td>1.000000</td>\n",
       "      <td>1.000000</td>\n",
       "      <td>1.000000</td>\n",
       "      <td>...</td>\n",
       "      <td>1.000000</td>\n",
       "      <td>1.000000</td>\n",
       "      <td>1.000000</td>\n",
       "      <td>1.000000</td>\n",
       "      <td>1.000000</td>\n",
       "      <td>1.000000</td>\n",
       "      <td>1.000000</td>\n",
       "      <td>1.000000</td>\n",
       "      <td>1.000000</td>\n",
       "      <td>1.000000</td>\n",
       "    </tr>\n",
       "    <tr>\n",
       "      <th>1</th>\n",
       "      <td>1.003506</td>\n",
       "      <td>1.004666</td>\n",
       "      <td>0.998161</td>\n",
       "      <td>0.985639</td>\n",
       "      <td>0.999816</td>\n",
       "      <td>1.006868</td>\n",
       "      <td>1.006138</td>\n",
       "      <td>1.007165</td>\n",
       "      <td>0.994559</td>\n",
       "      <td>1.007654</td>\n",
       "      <td>...</td>\n",
       "      <td>1.004147</td>\n",
       "      <td>1.010397</td>\n",
       "      <td>1.004578</td>\n",
       "      <td>1.005765</td>\n",
       "      <td>1.003315</td>\n",
       "      <td>1.000565</td>\n",
       "      <td>0.994311</td>\n",
       "      <td>0.997207</td>\n",
       "      <td>0.996512</td>\n",
       "      <td>1.002644</td>\n",
       "    </tr>\n",
       "    <tr>\n",
       "      <th>2</th>\n",
       "      <td>0.996936</td>\n",
       "      <td>1.005225</td>\n",
       "      <td>1.002894</td>\n",
       "      <td>0.982498</td>\n",
       "      <td>1.010095</td>\n",
       "      <td>1.004217</td>\n",
       "      <td>1.003289</td>\n",
       "      <td>1.009687</td>\n",
       "      <td>1.006636</td>\n",
       "      <td>1.006360</td>\n",
       "      <td>...</td>\n",
       "      <td>1.004737</td>\n",
       "      <td>1.015491</td>\n",
       "      <td>1.001347</td>\n",
       "      <td>1.002597</td>\n",
       "      <td>1.012555</td>\n",
       "      <td>1.005589</td>\n",
       "      <td>1.006697</td>\n",
       "      <td>0.991479</td>\n",
       "      <td>0.995456</td>\n",
       "      <td>1.012626</td>\n",
       "    </tr>\n",
       "    <tr>\n",
       "      <th>3</th>\n",
       "      <td>0.996119</td>\n",
       "      <td>1.001227</td>\n",
       "      <td>1.001603</td>\n",
       "      <td>0.974051</td>\n",
       "      <td>1.008332</td>\n",
       "      <td>1.009581</td>\n",
       "      <td>1.007589</td>\n",
       "      <td>1.013676</td>\n",
       "      <td>1.008210</td>\n",
       "      <td>1.011096</td>\n",
       "      <td>...</td>\n",
       "      <td>1.004176</td>\n",
       "      <td>1.003356</td>\n",
       "      <td>1.002894</td>\n",
       "      <td>1.010239</td>\n",
       "      <td>1.013574</td>\n",
       "      <td>1.008975</td>\n",
       "      <td>0.997490</td>\n",
       "      <td>1.001918</td>\n",
       "      <td>0.991217</td>\n",
       "      <td>1.016604</td>\n",
       "    </tr>\n",
       "    <tr>\n",
       "      <th>4</th>\n",
       "      <td>0.996045</td>\n",
       "      <td>1.002525</td>\n",
       "      <td>1.008170</td>\n",
       "      <td>0.977278</td>\n",
       "      <td>1.007943</td>\n",
       "      <td>1.016329</td>\n",
       "      <td>1.009792</td>\n",
       "      <td>1.012566</td>\n",
       "      <td>1.013804</td>\n",
       "      <td>1.011421</td>\n",
       "      <td>...</td>\n",
       "      <td>0.994542</td>\n",
       "      <td>1.012506</td>\n",
       "      <td>1.005896</td>\n",
       "      <td>1.013970</td>\n",
       "      <td>1.006418</td>\n",
       "      <td>0.995713</td>\n",
       "      <td>1.000307</td>\n",
       "      <td>1.006795</td>\n",
       "      <td>0.982496</td>\n",
       "      <td>1.024865</td>\n",
       "    </tr>\n",
       "    <tr>\n",
       "      <th>...</th>\n",
       "      <td>...</td>\n",
       "      <td>...</td>\n",
       "      <td>...</td>\n",
       "      <td>...</td>\n",
       "      <td>...</td>\n",
       "      <td>...</td>\n",
       "      <td>...</td>\n",
       "      <td>...</td>\n",
       "      <td>...</td>\n",
       "      <td>...</td>\n",
       "      <td>...</td>\n",
       "      <td>...</td>\n",
       "      <td>...</td>\n",
       "      <td>...</td>\n",
       "      <td>...</td>\n",
       "      <td>...</td>\n",
       "      <td>...</td>\n",
       "      <td>...</td>\n",
       "      <td>...</td>\n",
       "      <td>...</td>\n",
       "      <td>...</td>\n",
       "    </tr>\n",
       "    <tr>\n",
       "      <th>2516</th>\n",
       "      <td>8.286725</td>\n",
       "      <td>13.692305</td>\n",
       "      <td>15.408615</td>\n",
       "      <td>9.340616</td>\n",
       "      <td>12.024456</td>\n",
       "      <td>8.390701</td>\n",
       "      <td>14.291991</td>\n",
       "      <td>17.813304</td>\n",
       "      <td>8.754328</td>\n",
       "      <td>8.886147</td>\n",
       "      <td>...</td>\n",
       "      <td>11.118098</td>\n",
       "      <td>12.038556</td>\n",
       "      <td>12.142281</td>\n",
       "      <td>8.318197</td>\n",
       "      <td>11.203522</td>\n",
       "      <td>14.599074</td>\n",
       "      <td>11.804679</td>\n",
       "      <td>7.459170</td>\n",
       "      <td>6.281799</td>\n",
       "      <td>9.219196</td>\n",
       "    </tr>\n",
       "    <tr>\n",
       "      <th>2517</th>\n",
       "      <td>8.251747</td>\n",
       "      <td>13.675199</td>\n",
       "      <td>15.477968</td>\n",
       "      <td>9.380936</td>\n",
       "      <td>11.928922</td>\n",
       "      <td>8.426232</td>\n",
       "      <td>14.388785</td>\n",
       "      <td>17.914956</td>\n",
       "      <td>8.807954</td>\n",
       "      <td>8.932656</td>\n",
       "      <td>...</td>\n",
       "      <td>11.307369</td>\n",
       "      <td>12.014941</td>\n",
       "      <td>12.249577</td>\n",
       "      <td>8.325059</td>\n",
       "      <td>11.266830</td>\n",
       "      <td>14.580531</td>\n",
       "      <td>11.706804</td>\n",
       "      <td>7.401206</td>\n",
       "      <td>6.292958</td>\n",
       "      <td>9.143204</td>\n",
       "    </tr>\n",
       "    <tr>\n",
       "      <th>2518</th>\n",
       "      <td>8.292331</td>\n",
       "      <td>13.619428</td>\n",
       "      <td>15.507649</td>\n",
       "      <td>9.301599</td>\n",
       "      <td>11.931409</td>\n",
       "      <td>8.432507</td>\n",
       "      <td>14.299528</td>\n",
       "      <td>17.866430</td>\n",
       "      <td>8.769652</td>\n",
       "      <td>8.988896</td>\n",
       "      <td>...</td>\n",
       "      <td>11.304992</td>\n",
       "      <td>12.016755</td>\n",
       "      <td>12.389859</td>\n",
       "      <td>8.284354</td>\n",
       "      <td>11.346397</td>\n",
       "      <td>14.520282</td>\n",
       "      <td>11.688982</td>\n",
       "      <td>7.401527</td>\n",
       "      <td>6.277199</td>\n",
       "      <td>9.201029</td>\n",
       "    </tr>\n",
       "    <tr>\n",
       "      <th>2519</th>\n",
       "      <td>8.372529</td>\n",
       "      <td>13.657869</td>\n",
       "      <td>15.439544</td>\n",
       "      <td>9.229842</td>\n",
       "      <td>11.971706</td>\n",
       "      <td>8.383825</td>\n",
       "      <td>14.311312</td>\n",
       "      <td>17.916972</td>\n",
       "      <td>8.821183</td>\n",
       "      <td>9.126729</td>\n",
       "      <td>...</td>\n",
       "      <td>11.177491</td>\n",
       "      <td>12.018762</td>\n",
       "      <td>12.427079</td>\n",
       "      <td>8.397152</td>\n",
       "      <td>11.284368</td>\n",
       "      <td>14.488083</td>\n",
       "      <td>11.705375</td>\n",
       "      <td>7.375138</td>\n",
       "      <td>6.308863</td>\n",
       "      <td>9.115796</td>\n",
       "    </tr>\n",
       "    <tr>\n",
       "      <th>2520</th>\n",
       "      <td>8.321897</td>\n",
       "      <td>13.714625</td>\n",
       "      <td>15.432190</td>\n",
       "      <td>9.279075</td>\n",
       "      <td>12.063667</td>\n",
       "      <td>8.392824</td>\n",
       "      <td>14.207683</td>\n",
       "      <td>17.986959</td>\n",
       "      <td>8.859302</td>\n",
       "      <td>9.102423</td>\n",
       "      <td>...</td>\n",
       "      <td>11.134255</td>\n",
       "      <td>12.009562</td>\n",
       "      <td>12.381925</td>\n",
       "      <td>8.393403</td>\n",
       "      <td>11.277215</td>\n",
       "      <td>14.402486</td>\n",
       "      <td>11.668007</td>\n",
       "      <td>7.357554</td>\n",
       "      <td>6.285252</td>\n",
       "      <td>9.043062</td>\n",
       "    </tr>\n",
       "  </tbody>\n",
       "</table>\n",
       "<p>2521 rows × 500 columns</p>\n",
       "</div>"
      ]
     },
     "metadata": {},
     "execution_count": 38
    }
   ],
   "metadata": {}
  },
  {
   "cell_type": "code",
   "execution_count": 39,
   "source": [
    "# Visualize the 10-year Monte Carlo simulation by creating an\r\n",
    "# overlay line plot\r\n",
    "spy_10_plot = MC_spy_10.plot_simulation()\r\n"
   ],
   "outputs": [
    {
     "output_type": "display_data",
     "data": {
      "text/plain": [
       "<Figure size 432x288 with 1 Axes>"
      ],
      "image/png": "[encoded data removed]"
     },
     "metadata": {
      "needs_background": "light"
     }
    }
   ],
   "metadata": {}
  },
  {
   "cell_type": "code",
   "execution_count": 40,
   "source": [
    "# Visualize the probability distribution of the 10-year Monte Carlo simulation \r\n",
    "# by plotting a histogram\r\n",
    "spy_10_dist_plot = MC_spy_10.plot_distribution()"
   ],
   "outputs": [
    {
     "output_type": "display_data",
     "data": {
      "text/plain": [
       "<Figure size 432x288 with 1 Axes>"
      ],
      "image/png": "[encoded data removed]"
     },
     "metadata": {
      "needs_background": "light"
     }
    }
   ],
   "metadata": {}
  },
  {
   "cell_type": "code",
   "execution_count": 41,
   "source": [
    "# Generate summary statistics from the 10-year Monte Carlo simulation results\r\n",
    "# Save the results as a variable\r\n",
    "spy_10_tbl = MC_spy_10.summarize_cumulative_return()\r\n",
    "\r\n",
    "\r\n",
    "# Review the 10-year Monte Carlo summary statistics\r\n",
    "print(spy_10_tbl)"
   ],
   "outputs": [
    {
     "output_type": "stream",
     "name": "stdout",
     "text": [
      "count           500.000000\n",
      "mean             12.099818\n",
      "std               4.092807\n",
      "min               3.952655\n",
      "25%               9.279430\n",
      "50%              11.569465\n",
      "75%              14.214826\n",
      "max              31.354274\n",
      "95% CI Lower      5.982648\n",
      "95% CI Upper     21.519104\n",
      "Name: 2520, dtype: float64\n"
     ]
    }
   ],
   "metadata": {}
  },
  {
   "cell_type": "markdown",
   "source": [
    "### Answer the following questions:"
   ],
   "metadata": {}
  },
  {
   "cell_type": "markdown",
   "source": [
    "#### Question: Using the current value of only the stock and bond portion of the member's portfolio and the summary statistics that you generated from the new Monte Carlo simulation, what are the lower and upper bounds for the expected value of the portfolio (with the new weights) with a 95% confidence interval?"
   ],
   "metadata": {}
  },
  {
   "cell_type": "code",
   "execution_count": 42,
   "source": [
    "# Print the current balance of the stock and bond portion of the members portfolio\r\n",
    "print(f\"${total_stocks_bonds:0.2f}\")\r\n"
   ],
   "outputs": [
    {
     "output_type": "stream",
     "name": "stdout",
     "text": [
      "$71134.20\n"
     ]
    }
   ],
   "metadata": {}
  },
  {
   "cell_type": "code",
   "execution_count": 44,
   "source": [
    "# Use the lower and upper `95%` confidence intervals to calculate the range of the possible outcomes for the current stock/bond portfolio\r\n",
    "ci_lower_ten_cumulative_return = round(spy_10_tbl[8]*total_stocks_bonds,2)\r\n",
    "ci_upper_ten_cumulative_return = round(spy_10_tbl[9]*total_stocks_bonds,2)\r\n",
    "\r\n",
    "# Print the result of your calculations\r\n",
    "print(f\"There is a 95% chance that an initial investment of ${total_stocks_bonds:0.2f} in the portfolio\"\r\n",
    "      f\" over the next 10 years will end within in the range of\"\r\n",
    "      f\" ${ci_lower_ten_cumulative_return} and ${ci_upper_ten_cumulative_return}.\")\r\n"
   ],
   "outputs": [
    {
     "output_type": "stream",
     "name": "stdout",
     "text": [
      "There is a 95% chance that an initial investment of $71134.20 in the portfolio over the next 10 years will end within in the range of $425570.86 and $1530744.25.\n"
     ]
    }
   ],
   "metadata": {}
  },
  {
   "cell_type": "code",
   "execution_count": 45,
   "source": [
    "print(f\"There is a 95% chance that an initial investment of ${total_stocks_bonds:0.2F} in the portfolio\"\r\n",
    "      f\" over the next 30 years will end within the range of\"\r\n",
    "      f\" ${ci_lower_thirty_cumulative_return:0.2f} and ${ci_upper_thirty_cumulative_return:0.2f}\")\r\n",
    "\r\n",
    "print(\"\")\r\n",
    "print(\"--\"*25)\r\n",
    "print(\"\")\r\n",
    "\r\n",
    "print(f\"There is a 95% chance that an initial investment of ${total_stocks_bonds:0.2f} in the portfolio\"\r\n",
    "      f\" over the next 10 years will end within in the range of\"\r\n",
    "      f\" ${ci_lower_ten_cumulative_return} and ${ci_upper_ten_cumulative_return}.\")\r\n"
   ],
   "outputs": [
    {
     "output_type": "stream",
     "name": "stdout",
     "text": [
      "There is a 95% chance that an initial investment of $71134.20 in the portfolio over the next 30 years will end within the range of $8327002.17 and $43302708.29\n",
      "\n",
      "--------------------------------------------------\n",
      "\n",
      "There is a 95% chance that an initial investment of $71134.20 in the portfolio over the next 10 years will end within in the range of $425570.86 and $1530744.25.\n"
     ]
    }
   ],
   "metadata": {}
  },
  {
   "cell_type": "code",
   "execution_count": 53,
   "source": [
    "monthly_budget_low = (ci_lower_ten_cumulative_return * 0.04) / 12\r\n",
    "print(f\"Monthly Budget Low Range: ${monthly_budget_low:0.2f}\")\r\n",
    "monthly_budget_high = (ci_upper_ten_cumulative_return * 0.04) / 12\r\n",
    "print(f\"Monthly Budget High Range: ${monthly_budget_high:0.2f}\")\r\n",
    "monthly_budget_average = (monthly_budget_high + monthly_budget_low) / 2\r\n",
    "print(f\"Average Monthly Budget: ${monthly_budget_average:0.2f}\")\r\n",
    "print(f\"Monthly income: ${monthly_income:0.2f}\")\r\n",
    "retirement_target = monthly_income * 300\r\n",
    "print(f\"Portfolio Minimum Target: ${retirement_target:0.2f}\")"
   ],
   "outputs": [
    {
     "output_type": "stream",
     "name": "stdout",
     "text": [
      "Monthly Budget Low Range: $1418.57\n",
      "Monthly Budget High Range: $5102.48\n",
      "Average Monthly Budget: $3260.53\n",
      "Monthly income: $12000.00\n",
      "Portfolio Minimum Target: $3600000.00\n"
     ]
    }
   ],
   "metadata": {}
  },
  {
   "cell_type": "markdown",
   "source": [
    "#### Question: Will weighting the portfolio more heavily to stocks allow the credit union members to retire after only 10 years?"
   ],
   "metadata": {}
  },
  {
   "cell_type": "raw",
   "source": [
    "**Answer** With the customer's intial monthly income set at $12,000 it is not conceivable how they would be able to retire off of the recommended withdrawal structure of 4% of annual balance.\r\n",
    "The 4% rule would only allow them to have a monthly income range of $1,418.57 to $5,102.48. This range is drastically short of their current monthly income. \r\n",
    "\r\n",
    "This customer would need to spend more time in the market in order to meet minimum withdrawal that matches their current monthly income. \r\n",
    "\r\n",
    "That total portfolio target minimum is $3,600,000 in order to meet the 4% withdrawal rule and replace their current income levels."
   ],
   "metadata": {}
  },
  {
   "cell_type": "code",
   "execution_count": null,
   "source": [],
   "outputs": [],
   "metadata": {}
  }
 ],
 "metadata": {
  "kernelspec": {
   "display_name": "Python (dev)",
   "language": "python",
   "name": "dev"
  },
  "language_info": {
   "codemirror_mode": {
    "name": "ipython",
    "version": 3
   },
   "file_extension": ".py",
   "mimetype": "text/x-python",
   "name": "python",
   "nbconvert_exporter": "python",
   "pygments_lexer": "ipython3",
   "version": "3.7.7"
  }
 },
 "nbformat": 4,
 "nbformat_minor": 4
}